{
 "cells": [
  {
   "cell_type": "markdown",
   "metadata": {},
   "source": [
    "# Geographical Names\n",
    "Matching geographical names from our dataset with the [Pleiades](http://pleiades.stoa.org) data. Dataset of ancient place names downloaded in JSON from [Pleiades](https://pleiades.stoa.org/downloads)."
   ]
  },
  {
   "cell_type": "code",
   "execution_count": null,
   "metadata": {},
   "outputs": [],
   "source": [
    "import json\n",
    "import requests\n",
    "from tqdm.auto import tqdm\n",
    "import pandas as pd\n",
    "import zipfile"
   ]
  },
  {
   "cell_type": "code",
   "execution_count": null,
   "metadata": {},
   "outputs": [],
   "source": [
    "with open('pleiades-places.json', encoding='utf8') as json_file:\n",
    "    data = json.load(json_file)"
   ]
  },
  {
   "cell_type": "code",
   "execution_count": null,
   "metadata": {},
   "outputs": [],
   "source": [
    "places = data['@graph']"
   ]
  },
  {
   "cell_type": "markdown",
   "metadata": {},
   "source": [
    "Place names are taken from the field `romanized` in `names` - are there better fields to use?"
   ]
  },
  {
   "cell_type": "code",
   "execution_count": null,
   "metadata": {},
   "outputs": [],
   "source": [
    "placenames = {}\n",
    "for p in places:\n",
    "    coor = p.get(\"reprPoint\")\n",
    "    names = p.get(\"names\")\n",
    "    for n in names:\n",
    "        name = n.get(\"romanized\")\n",
    "        d = {name: coor}\n",
    "        placenames.update(d)"
   ]
  },
  {
   "cell_type": "markdown",
   "metadata": {},
   "source": [
    "## Example 1: Drehem"
   ]
  },
  {
   "cell_type": "code",
   "execution_count": null,
   "metadata": {},
   "outputs": [],
   "source": [
    "placenames.get(\"Drehem\")"
   ]
  },
  {
   "cell_type": "markdown",
   "metadata": {},
   "source": [
    "## Example 2: Puzriš-Dagan\n",
    "This finds nothing. Why? Because the name is represented as \"Puzriš-Dagan, Puzrish-Dagan, Puzurish-Dagan\" as a single string."
   ]
  },
  {
   "cell_type": "code",
   "execution_count": null,
   "metadata": {},
   "outputs": [],
   "source": [
    "placenames.get(\"Puzriš-Dagan\")"
   ]
  },
  {
   "cell_type": "code",
   "execution_count": null,
   "metadata": {},
   "outputs": [],
   "source": [
    "placenames.get(\"Puzriš-Dagan, Puzrish-Dagan, Puzurish-Dagan\")"
   ]
  },
  {
   "cell_type": "markdown",
   "metadata": {},
   "source": [
    "## Example 3: Ŋirsu\n",
    "This finds nothing. Why? The dataset does not represent nasal G (Ŋ), but writes Girsu"
   ]
  },
  {
   "cell_type": "code",
   "execution_count": null,
   "metadata": {},
   "outputs": [],
   "source": [
    "placenames.get(\"Ŋirsu\")"
   ]
  },
  {
   "cell_type": "code",
   "execution_count": null,
   "metadata": {},
   "outputs": [],
   "source": [
    "placenames.get(\"Girsu\")"
   ]
  },
  {
   "cell_type": "markdown",
   "metadata": {},
   "source": [
    "## Example 4: Telloh (modern name for Ŋirsu/Girsu)\n",
    "The full name in Pleiades is Tell Telloh, not Telloh."
   ]
  },
  {
   "cell_type": "code",
   "execution_count": null,
   "metadata": {},
   "outputs": [],
   "source": [
    "placenames.get(\"Telloh\")"
   ]
  },
  {
   "cell_type": "code",
   "execution_count": null,
   "metadata": {},
   "outputs": [],
   "source": [
    "placenames.get(\"Tell Telloh\")"
   ]
  },
  {
   "cell_type": "markdown",
   "metadata": {},
   "source": [
    "## Example 5: Agade\n",
    "Very different issue: ccordinates are unknown."
   ]
  },
  {
   "cell_type": "code",
   "execution_count": null,
   "metadata": {},
   "outputs": [],
   "source": [
    "placenames.get(\"Agade\")"
   ]
  },
  {
   "cell_type": "markdown",
   "metadata": {},
   "source": [
    "## Example 6: Irisaŋrig\n",
    "The name is written \" Iri-Saĝrig, Irisagrig, Urusagrig\" - with a blank at the beginning! The location of the site is known, but not recorded yet in Pleiades."
   ]
  },
  {
   "cell_type": "code",
   "execution_count": null,
   "metadata": {},
   "outputs": [],
   "source": [
    "placenames[\" Iri-Saĝrig, Irisagrig, Urusagrig\"]"
   ]
  },
  {
   "cell_type": "code",
   "execution_count": null,
   "metadata": {},
   "outputs": [],
   "source": [
    "project = \"epsd2/admin/ur3\""
   ]
  },
  {
   "cell_type": "code",
   "execution_count": null,
   "metadata": {},
   "outputs": [],
   "source": [
    "CHUNK = 1024\n",
    "proj = project.replace('/', '-')\n",
    "url = f\"http://build-oracc.museum.upenn.edu/json/{proj}.zip\"\n",
    "file = f'jsonzip/{proj}.zip'\n",
    "with requests.get(url, stream=True) as r:\n",
    "    if r.status_code == 200:\n",
    "        total_size = int(r.headers.get('content-length', 0))\n",
    "        tqdm.write(f'Saving {url} as {file}')\n",
    "        t=tqdm(total=total_size, unit='B', unit_scale=True, desc = project)\n",
    "        with open(file, 'wb') as f:\n",
    "            for c in r.iter_content(chunk_size=CHUNK):\n",
    "                t.update(len(c))\n",
    "                f.write(c)\n",
    "    else:\n",
    "        tqdm.write(f\"WARNING: {url} does not exist.\")"
   ]
  },
  {
   "cell_type": "code",
   "execution_count": null,
   "metadata": {},
   "outputs": [],
   "source": [
    "def parsejson(text, id_text):\n",
    "    l = []\n",
    "    for JSONobject in text[\"cdl\"]:\n",
    "        if \"cdl\" in JSONobject: \n",
    "            l.extend(parsejson(JSONobject, id_text))\n",
    "        if \"f\" in JSONobject:\n",
    "            lemm = JSONobject[\"f\"]\n",
    "            lemm[\"id_text\"] = id_text\n",
    "            l.append(lemm)\n",
    "    return l"
   ]
  },
  {
   "cell_type": "code",
   "execution_count": null,
   "metadata": {},
   "outputs": [],
   "source": [
    "lemm_l = [] # initiate the list that will hold all the lemmatization data of all texts in all requested projects\n",
    "file = f\"jsonzip/{project.replace('/', '-')}.zip\"\n",
    "try:\n",
    "    z = zipfile.ZipFile(file)       # create a Zipfile object\n",
    "except:\n",
    "    print(f\"{file} does not exist or is not a proper ZIP file\")\n",
    "files = z.namelist()     # list of all the files in the ZIP\n",
    "files = [name for name in files if \"corpusjson\" in name and name[-5:] == '.json']                                                                                                  #that holds all the P, Q, and X numbers.\n",
    "for filename in tqdm(files, desc=project):                            #iterate over the file names\n",
    "    id_text = project + filename[-13:-5] # id_text is, for instance, blms/P414332\n",
    "    try:\n",
    "        text = z.read(filename).decode('utf-8')         #read and decode the json file of one particular text\n",
    "        data_json = json.loads(text)                # make it into a json object (essentially a dictionary)\n",
    "        lemm_l.extend(parsejson(data_json, id_text))               # and send to the parsejson() function\n",
    "    except:\n",
    "        tqdm.write(f'{id_text} is not available or not complete')\n",
    "z.close()"
   ]
  },
  {
   "cell_type": "code",
   "execution_count": null,
   "metadata": {},
   "outputs": [],
   "source": [
    "words = pd.DataFrame(lemm_l)\n",
    "keep = [\"id_text\", \"cf\", \"gw\", \"pos\"]\n",
    "words = words[keep]\n",
    "words = words.fillna(\"\")\n",
    "GeographicalPOS = [\"SN\", \"GN\", \"WN\"]\n",
    "words = words.loc[words.pos.isin(GeographicalPOS)]\n",
    "GeographicalNames = set(words[\"cf\"])"
   ]
  },
  {
   "cell_type": "code",
   "execution_count": null,
   "metadata": {},
   "outputs": [],
   "source": [
    "Coordinates = {}\n",
    "for name in GeographicalNames:\n",
    "    location = placenames.get(name)\n",
    "    if location: \n",
    "        c = {name: location}\n",
    "        Coordinates.update(c)"
   ]
  },
  {
   "cell_type": "markdown",
   "metadata": {},
   "source": [
    "A literal search finds 28 out of 1937 geographical names (this is for the entire Ur III data set, not just for Drehem). Taking into account the issues discussed above may increase that number."
   ]
  },
  {
   "cell_type": "code",
   "execution_count": null,
   "metadata": {},
   "outputs": [],
   "source": [
    "len(GeographicalNames), len(Coordinates)"
   ]
  },
  {
   "cell_type": "code",
   "execution_count": null,
   "metadata": {},
   "outputs": [],
   "source": [
    "Coordinates"
   ]
  },
  {
   "cell_type": "code",
   "execution_count": null,
   "metadata": {},
   "outputs": [],
   "source": []
  }
 ],
 "metadata": {
  "kernelspec": {
   "display_name": "Python 3",
   "language": "python",
   "name": "python3"
  },
  "language_info": {
   "codemirror_mode": {
    "name": "ipython",
    "version": 3
   },
   "file_extension": ".py",
   "mimetype": "text/x-python",
   "name": "python",
   "nbconvert_exporter": "python",
   "pygments_lexer": "ipython3",
   "version": "3.7.6"
  }
 },
 "nbformat": 4,
 "nbformat_minor": 4
}
