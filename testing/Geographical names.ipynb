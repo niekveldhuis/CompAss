{
 "cells": [
  {
   "cell_type": "markdown",
   "metadata": {},
   "source": [
    "# Geographical Names\n",
    "Matching geographical names from the Ur III dataset with the [Pleiades](http://pleiades.stoa.org) data. Dataset of ancient place names downloaded in JSON from [Pleiades](https://pleiades.stoa.org/downloads)."
   ]
  },
  {
   "cell_type": "code",
   "execution_count": 1,
   "metadata": {},
   "outputs": [],
   "source": [
    "import json\n",
    "import requests\n",
    "from tqdm.auto import tqdm\n",
    "import pandas as pd\n",
    "import zipfile"
   ]
  },
  {
   "cell_type": "markdown",
   "metadata": {},
   "source": [
    "Download necessary files. Make sure there is a directory `jsonzip`."
   ]
  },
  {
   "cell_type": "code",
   "execution_count": null,
   "metadata": {},
   "outputs": [],
   "source": [
    "files = [\"http://build-oracc.museum.upenn.edu/json/epsd2-admin-ur3.zip\",\n",
    "         \"http://atlantides.org/downloads/pleiades/json/pleiades-places-latest.json.gz\"]"
   ]
  },
  {
   "cell_type": "code",
   "execution_count": null,
   "metadata": {},
   "outputs": [],
   "source": [
    "CHUNK = 1024\n",
    "for f in files:\n",
    "    url = f\n",
    "    file = f'jsonzip/{f.split(\"/\")[-1]}'\n",
    "    with requests.get(url, stream=True) as r:\n",
    "        if r.status_code == 200:\n",
    "            total_size = int(r.headers.get('content-length', 0))\n",
    "            tqdm.write(f'Saving {url} as {file}')\n",
    "            t=tqdm(total=total_size, unit='B', unit_scale=True)\n",
    "            with open(file, 'wb') as f:\n",
    "                for c in r.iter_content(chunk_size=CHUNK):\n",
    "                    t.update(len(c))\n",
    "                    f.write(c)\n",
    "        else:\n",
    "            tqdm.write(f\"WARNING: {url} does not exist.\")"
   ]
  },
  {
   "cell_type": "code",
   "execution_count": 2,
   "metadata": {},
   "outputs": [],
   "source": [
    "import gzip\n",
    "f = gzip.open('jsonzip/pleiades-places-latest.json.gz', 'rb')\n",
    "file_content = f.read()\n",
    "f.close()"
   ]
  },
  {
   "cell_type": "code",
   "execution_count": 3,
   "metadata": {},
   "outputs": [],
   "source": [
    "data =json.loads(file_content)"
   ]
  },
  {
   "cell_type": "code",
   "execution_count": 4,
   "metadata": {},
   "outputs": [],
   "source": [
    "places = data['@graph']"
   ]
  },
  {
   "cell_type": "markdown",
   "metadata": {},
   "source": [
    "Place names are taken from the field `romanized` in `names` - are there better fields to use?"
   ]
  },
  {
   "cell_type": "code",
   "execution_count": 5,
   "metadata": {},
   "outputs": [],
   "source": [
    "placenames = {}\n",
    "for p in places:\n",
    "    coordinates = p.get(\"reprPoint\")\n",
    "    names = p.get(\"names\")\n",
    "    for n in names:\n",
    "        name = n.get(\"romanized\")\n",
    "        d = {name: coordinates}\n",
    "        placenames.update(d)"
   ]
  },
  {
   "cell_type": "markdown",
   "metadata": {},
   "source": [
    "## Example 1: Drehem"
   ]
  },
  {
   "cell_type": "code",
   "execution_count": 6,
   "metadata": {},
   "outputs": [
    {
     "data": {
      "text/plain": [
       "[45.290576, 32.060569]"
      ]
     },
     "execution_count": 6,
     "metadata": {},
     "output_type": "execute_result"
    }
   ],
   "source": [
    "placenames.get(\"Drehem\")"
   ]
  },
  {
   "cell_type": "markdown",
   "metadata": {},
   "source": [
    "## Example 2: Puzriš-Dagan\n",
    "This finds nothing. Why? Because the name is represented as \"Puzriš-Dagan, Puzrish-Dagan, Puzurish-Dagan\" as a single string."
   ]
  },
  {
   "cell_type": "code",
   "execution_count": 7,
   "metadata": {},
   "outputs": [],
   "source": [
    "placenames.get(\"Puzriš-Dagan\")"
   ]
  },
  {
   "cell_type": "code",
   "execution_count": 8,
   "metadata": {},
   "outputs": [
    {
     "data": {
      "text/plain": [
       "[45.290576, 32.060569]"
      ]
     },
     "execution_count": 8,
     "metadata": {},
     "output_type": "execute_result"
    }
   ],
   "source": [
    "placenames.get(\"Puzriš-Dagan, Puzrish-Dagan, Puzurish-Dagan\")"
   ]
  },
  {
   "cell_type": "markdown",
   "metadata": {},
   "source": [
    "## Example 3: Ŋirsu\n",
    "This finds nothing. Why? The dataset does not represent nasal G (Ŋ), but writes Girsu"
   ]
  },
  {
   "cell_type": "code",
   "execution_count": 9,
   "metadata": {},
   "outputs": [],
   "source": [
    "placenames.get(\"Ŋirsu\")"
   ]
  },
  {
   "cell_type": "code",
   "execution_count": 10,
   "metadata": {},
   "outputs": [
    {
     "data": {
      "text/plain": [
       "[46.175712, 31.576909]"
      ]
     },
     "execution_count": 10,
     "metadata": {},
     "output_type": "execute_result"
    }
   ],
   "source": [
    "placenames.get(\"Girsu\")"
   ]
  },
  {
   "cell_type": "markdown",
   "metadata": {},
   "source": [
    "## Example 4: Telloh (modern name for Ŋirsu/Girsu)\n",
    "The full name in Pleiades is Tell Telloh, not Telloh."
   ]
  },
  {
   "cell_type": "code",
   "execution_count": 11,
   "metadata": {},
   "outputs": [],
   "source": [
    "placenames.get(\"Telloh\")"
   ]
  },
  {
   "cell_type": "code",
   "execution_count": 12,
   "metadata": {},
   "outputs": [
    {
     "data": {
      "text/plain": [
       "[46.175712, 31.576909]"
      ]
     },
     "execution_count": 12,
     "metadata": {},
     "output_type": "execute_result"
    }
   ],
   "source": [
    "placenames.get(\"Tell Telloh\")"
   ]
  },
  {
   "cell_type": "markdown",
   "metadata": {},
   "source": [
    "## Example 5: Agade\n",
    "Very different issue: coordinates are unknown."
   ]
  },
  {
   "cell_type": "code",
   "execution_count": 13,
   "metadata": {},
   "outputs": [],
   "source": [
    "placenames.get(\"Agade\")"
   ]
  },
  {
   "cell_type": "markdown",
   "metadata": {},
   "source": [
    "## Example 6: Irisaŋrig\n",
    "The name is written \" Iri-Saĝrig, Irisagrig, Urusagrig\" - with a blank at the beginning! The location of the site is known, but not recorded yet in Pleiades."
   ]
  },
  {
   "cell_type": "code",
   "execution_count": 14,
   "metadata": {},
   "outputs": [],
   "source": [
    "placenames[\" Iri-Saĝrig, Irisagrig, Urusagrig\"]"
   ]
  },
  {
   "cell_type": "code",
   "execution_count": 15,
   "metadata": {},
   "outputs": [],
   "source": [
    "def parsejson(text, id_text):\n",
    "    l = []\n",
    "    for JSONobject in text[\"cdl\"]:\n",
    "        if \"cdl\" in JSONobject: \n",
    "            l.extend(parsejson(JSONobject, id_text))\n",
    "        if \"f\" in JSONobject:\n",
    "            lemm = JSONobject[\"f\"]\n",
    "            lemm[\"id_text\"] = id_text\n",
    "            l.append(lemm)\n",
    "    return l"
   ]
  },
  {
   "cell_type": "code",
   "execution_count": 16,
   "metadata": {},
   "outputs": [
    {
     "data": {
      "application/vnd.jupyter.widget-view+json": {
       "model_id": "d488735b9b2f4f228cf7cf4ecf3e55f7",
       "version_major": 2,
       "version_minor": 0
      },
      "text/plain": [
       "HBox(children=(FloatProgress(value=0.0, max=72683.0), HTML(value='')))"
      ]
     },
     "metadata": {},
     "output_type": "display_data"
    },
    {
     "name": "stdout",
     "output_type": "stream",
     "text": [
      "\n"
     ]
    }
   ],
   "source": [
    "lemm_l = [] # initiate the list that will hold all the lemmatization data of all texts\n",
    "file = f\"jsonzip/epsd2-admin-ur3.zip\"\n",
    "try:\n",
    "    z = zipfile.ZipFile(file)       # create a Zipfile object\n",
    "except:\n",
    "    print(f\"{file} does not exist or is not a proper ZIP file\")\n",
    "files = z.namelist()     # list of all the files in the ZIP\n",
    "files = [name for name in files if \"corpusjson\" in name and name[-5:] == '.json']                                                                                                  #that holds all the P, Q, and X numbers.\n",
    "for filename in tqdm(files):                            #iterate over the file names\n",
    "    id_text = filename[-13:-5] # id_text is, for instance, blms/P414332\n",
    "    try:\n",
    "        text = z.read(filename).decode('utf-8')         #read and decode the json file of one particular text\n",
    "        data_json = json.loads(text)                # make it into a json object (essentially a dictionary)\n",
    "        lemm_l.extend(parsejson(data_json, id_text))               # and send to the parsejson() function\n",
    "    except:\n",
    "        tqdm.write(f'{id_text} is not available or not complete')\n",
    "z.close()"
   ]
  },
  {
   "cell_type": "code",
   "execution_count": 17,
   "metadata": {},
   "outputs": [],
   "source": [
    "words = pd.DataFrame(lemm_l)\n",
    "keep = [\"id_text\", \"cf\", \"gw\", \"pos\"]\n",
    "words = words[keep]\n",
    "words = words.fillna(\"\")\n",
    "GeographicalPOS = [\"SN\", \"GN\", \"WN\"]\n",
    "words = words.loc[words.pos.isin(GeographicalPOS)]\n",
    "GeographicalNames = set(words[\"cf\"])"
   ]
  },
  {
   "cell_type": "code",
   "execution_count": 18,
   "metadata": {},
   "outputs": [],
   "source": [
    "Coordinates = {}\n",
    "for name in GeographicalNames:\n",
    "    location = placenames.get(name)\n",
    "    if location: \n",
    "        c = {name: location}\n",
    "        Coordinates.update(c)"
   ]
  },
  {
   "cell_type": "markdown",
   "metadata": {},
   "source": [
    "A literal search finds 28 out of 1937 geographical names (this is for the entire Ur III data set, not just for Drehem). Taking into account the issues discussed above may increase that number."
   ]
  },
  {
   "cell_type": "code",
   "execution_count": 19,
   "metadata": {},
   "outputs": [
    {
     "data": {
      "text/plain": [
       "(1937, 28)"
      ]
     },
     "execution_count": 19,
     "metadata": {},
     "output_type": "execute_result"
    }
   ],
   "source": [
    "len(GeographicalNames), len(Coordinates)"
   ]
  },
  {
   "cell_type": "code",
   "execution_count": 20,
   "metadata": {},
   "outputs": [
    {
     "data": {
      "text/plain": [
       "{'Mari': [40.8843621, 34.5523591],\n",
       " 'Unu': [31.284786, 30.131757],\n",
       " 'Unug': [45.61715, 31.318603],\n",
       " 'Tutub': [44.5576922, 33.3574222],\n",
       " 'La': [22.498245, 36.725537],\n",
       " 'Uruk': [45.61715, 31.318603],\n",
       " 'Gaba': [35.106902, 32.730365],\n",
       " 'Zabalam': [45.87799811166091, 31.743104673931537],\n",
       " 'Uršu': [37.25, 37.25],\n",
       " 'Larsam': [45.853611, 31.285833],\n",
       " 'Nibru': [45.230833, 32.126944],\n",
       " 'Karkar': [45.725183, 31.815617],\n",
       " 'Keš': [45.660285717336144, 32.31245585941179],\n",
       " 'Adab': [45.62585625145, 31.9512722901],\n",
       " 'Sirara': [35.8575, 33.416111],\n",
       " 'Martu': [41.027992, 34.389685],\n",
       " 'Marad': [44.7860122, 32.0711659],\n",
       " 'Ebla': [36.798365802707416, 35.79904467871221],\n",
       " 'Isin': [45.283333, 31.933332],\n",
       " 'Elam': [49.5, 31.5],\n",
       " 'Buranun': [39.606017877774164, 35.54331017895074],\n",
       " 'Gubla': [35.646288999999996, 34.1192635],\n",
       " 'Umma': [45.9, 31.65],\n",
       " 'Dabrum': [45.725183, 31.815617],\n",
       " 'Murum': [-3.360099, 39.181617],\n",
       " 'Dilmun': [49.21475845511888, 27.760627439275623],\n",
       " 'Aššur': [43.26224277729484, 35.45392152662009],\n",
       " 'Emah': [44.42325437586337, 32.5432818094035]}"
      ]
     },
     "execution_count": 20,
     "metadata": {},
     "output_type": "execute_result"
    }
   ],
   "source": [
    "Coordinates"
   ]
  },
  {
   "cell_type": "code",
   "execution_count": 21,
   "metadata": {},
   "outputs": [],
   "source": [
    "placenames2 = placenames.copy()\n",
    "for name in placenames: \n",
    "    coordinates = placenames.get(name)\n",
    "    names = name.split(',')\n",
    "    n_c = {n.strip():coordinates for n in names}\n",
    "    for n in names:\n",
    "        n1 = n.strip().replace('g̃', 'ŋ')\n",
    "        n_c.update({n1 : coordinates})\n",
    "        n2 = n1.replace('G̃', 'Ŋ')\n",
    "        n_c.update({n2 : coordinates})\n",
    "        n3 = n2.replace('-', '')\n",
    "        n_c.update({n3 : coordinates})\n",
    "        n4 = n3.replace('G', 'Ŋ')\n",
    "        n_c.update({n4 : coordinates})\n",
    "        n5 = n4.replace('g', 'ŋ')\n",
    "        n_c.update({n5 : coordinates})\n",
    "    placenames2.update(n_c)"
   ]
  },
  {
   "cell_type": "code",
   "execution_count": 22,
   "metadata": {},
   "outputs": [
    {
     "data": {
      "text/plain": [
       "(30367, 43133)"
      ]
     },
     "execution_count": 22,
     "metadata": {},
     "output_type": "execute_result"
    }
   ],
   "source": [
    "len(placenames), len(placenames2)"
   ]
  },
  {
   "cell_type": "code",
   "execution_count": 23,
   "metadata": {},
   "outputs": [],
   "source": [
    "Coordinates2 = {}\n",
    "for name in GeographicalNames:\n",
    "    location = placenames2.get(name)\n",
    "    if location: \n",
    "        c = {name: location}\n",
    "        Coordinates2.update(c)"
   ]
  },
  {
   "cell_type": "code",
   "execution_count": 24,
   "metadata": {},
   "outputs": [
    {
     "data": {
      "text/plain": [
       "{'': [83.2121, 53.4517],\n",
       " 'Mari': [40.8843621, 34.5523591],\n",
       " 'Unu': [45.61715, 31.318603],\n",
       " 'Unug': [45.61715, 31.318603],\n",
       " 'Tutub': [44.5576922, 33.3574222],\n",
       " 'La': [22.498245, 36.725537],\n",
       " 'Uruk': [45.61715, 31.318603],\n",
       " 'Uru': [46.104748, 30.961581],\n",
       " 'Gaba': [35.106902, 32.730365],\n",
       " 'Zabalam': [45.87799811166091, 31.743104673931537],\n",
       " 'Lagaš': [46.40836, 31.420485],\n",
       " 'Urim': [46.104748, 30.961581],\n",
       " 'Uršu': [37.25, 37.25],\n",
       " 'Larsam': [45.853611, 31.285833],\n",
       " 'Ninua': [43.155403, 36.366841],\n",
       " 'Nibru': [45.230833, 32.126944],\n",
       " 'Šuruppak': [45.5097359, 31.7778493],\n",
       " 'Karkar': [45.725183, 31.815617],\n",
       " 'Keš': [45.660285717336144, 32.31245585941179],\n",
       " 'Adab': [45.62585625145, 31.9512722901],\n",
       " 'Sirara': [35.8575, 33.416111],\n",
       " 'Ŋirsu': [46.175712, 31.576909],\n",
       " 'Martu': [41.027992, 34.389685],\n",
       " 'Marad': [44.7860122, 32.0711659],\n",
       " 'Arraphum': [44.3953, 35.468099],\n",
       " 'PuzrišDagan': [45.290576, 32.060569],\n",
       " 'Ebla': [36.798365802707416, 35.79904467871221],\n",
       " 'Isin': [45.283333, 31.933332],\n",
       " 'Elam': [49.5, 31.5],\n",
       " 'Kiš': [44.592295899999996, 32.5463817],\n",
       " 'Buranun': [39.606017877774164, 35.54331017895074],\n",
       " 'Gubla': [35.646288999999996, 34.1192635],\n",
       " 'Umma': [45.9, 31.65],\n",
       " 'Dabrum': [45.725183, 31.815617],\n",
       " 'Murum': [-3.360099, 39.181617],\n",
       " 'Dilmun': [49.21475845511888, 27.760627439275623],\n",
       " 'Aššur': [43.26224277729484, 35.45392152662009],\n",
       " 'Buli': [31.5858565, 40.7561925],\n",
       " 'Urum': [46.104748, 30.961581],\n",
       " 'Emah': [44.42325437586337, 32.5432818094035]}"
      ]
     },
     "execution_count": 24,
     "metadata": {},
     "output_type": "execute_result"
    }
   ],
   "source": [
    "Coordinates2"
   ]
  },
  {
   "cell_type": "code",
   "execution_count": 28,
   "metadata": {},
   "outputs": [],
   "source": [
    "placenames2.get(\"Simanum\")"
   ]
  },
  {
   "cell_type": "code",
   "execution_count": 32,
   "metadata": {},
   "outputs": [],
   "source": [
    "placenames2[\"Irisagrig\"]"
   ]
  },
  {
   "cell_type": "code",
   "execution_count": null,
   "metadata": {},
   "outputs": [],
   "source": []
  }
 ],
 "metadata": {
  "kernelspec": {
   "display_name": "Python 3",
   "language": "python",
   "name": "python3"
  },
  "language_info": {
   "codemirror_mode": {
    "name": "ipython",
    "version": 3
   },
   "file_extension": ".py",
   "mimetype": "text/x-python",
   "name": "python",
   "nbconvert_exporter": "python",
   "pygments_lexer": "ipython3",
   "version": "3.7.6"
  }
 },
 "nbformat": 4,
 "nbformat_minor": 4
}
