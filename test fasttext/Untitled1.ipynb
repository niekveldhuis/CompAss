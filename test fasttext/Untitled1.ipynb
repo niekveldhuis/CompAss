{
 "cells": [
  {
   "cell_type": "code",
   "execution_count": 2,
   "metadata": {},
   "outputs": [],
   "source": [
    "import warnings\n",
    "warnings.filterwarnings(action='ignore', category=UserWarning, module='gensim')\n",
    "warnings.filterwarnings(action='ignore', category=FutureWarning, module='gensim' )\n",
    "from gensim.models.fasttext import FastText as FT_gensim\n",
    "import pandas as pd\n",
    "import pickle"
   ]
  },
  {
   "cell_type": "code",
   "execution_count": 3,
   "metadata": {},
   "outputs": [],
   "source": [
    "model_l = FT_gensim.load(\"model/model_lemm.model\")\n",
    "model_c = FT_gensim.load(\"model/model_cuneiform.model\")"
   ]
  },
  {
   "cell_type": "code",
   "execution_count": 4,
   "metadata": {},
   "outputs": [
    {
     "data": {
      "text/plain": [
       "[('sisa[fair]AJ', 0.8176572918891907),\n",
       " ('HI.da[qualification]AJ', 0.7809352874755859),\n",
       " ('huš[reddish]V/i', 0.7789786458015442),\n",
       " ('kugbabbar[silver]N', 0.7789101600646973),\n",
       " ('samsatum[emblem]N', 0.7700756788253784),\n",
       " ('izigu[loss]N', 0.7686669826507568),\n",
       " ('3(diš)-gal₂-ta', 0.7682611346244812),\n",
       " ('har[ring]N', 0.7669283151626587),\n",
       " ('4(diš)-gal₂-ta', 0.7640796303749084),\n",
       " ('gur[unmng]N', 0.7607510089874268)]"
      ]
     },
     "execution_count": 4,
     "metadata": {},
     "output_type": "execute_result"
    }
   ],
   "source": [
    "model_l.wv.most_similar(positive=\n",
    "                        [\"še[barley]N\", \"kugsig[gold]N\"], \n",
    "                        negative = [\"ninda[bread]N\"])"
   ]
  },
  {
   "cell_type": "code",
   "execution_count": 16,
   "metadata": {},
   "outputs": [
    {
     "name": "stdout",
     "output_type": "stream",
     "text": [
      "yes\n",
      "yes\n",
      "yes\n"
     ]
    }
   ],
   "source": [
    "for word in [\"še[barley]N\", \"kugsig[gold]N\", \"ninda[bread]N\"]: \n",
    "    if word in model_l.wv.vocab: \n",
    "        print(\"yes\")\n",
    "    else: \n",
    "        print(\"no\")"
   ]
  },
  {
   "cell_type": "code",
   "execution_count": 5,
   "metadata": {},
   "outputs": [
    {
     "data": {
      "text/plain": [
       "[('𒄭𒄊𒀀', 0.9438665509223938),\n",
       " ('𒋛𒁲', 0.9368213415145874),\n",
       " ('𒃻𒉿', 0.9308703541755676),\n",
       " ('𒀀𒁉𒍝', 0.9291903972625732),\n",
       " ('𒆬𒌓', 0.9288144111633301),\n",
       " ('𒐈𒅅', 0.9267837405204773),\n",
       " ('𒋗𒄥', 0.9232182502746582),\n",
       " ('𒌈𒁾', 0.922816812992096),\n",
       " ('𒍝𒄵', 0.9221596717834473),\n",
       " ('𒄭𒁕', 0.9183016419410706)]"
      ]
     },
     "execution_count": 5,
     "metadata": {},
     "output_type": "execute_result"
    }
   ],
   "source": [
    "model_c.wv.most_similar(positive=\n",
    "                        [\"𒊺\", \"𒆬𒄀\"], \n",
    "                        negative = [\"𒃻\"])"
   ]
  },
  {
   "cell_type": "code",
   "execution_count": null,
   "metadata": {},
   "outputs": [],
   "source": []
  }
 ],
 "metadata": {
  "kernelspec": {
   "display_name": "Python 3",
   "language": "python",
   "name": "python3"
  },
  "language_info": {
   "codemirror_mode": {
    "name": "ipython",
    "version": 3
   },
   "file_extension": ".py",
   "mimetype": "text/x-python",
   "name": "python",
   "nbconvert_exporter": "python",
   "pygments_lexer": "ipython3",
   "version": "3.7.6"
  }
 },
 "nbformat": 4,
 "nbformat_minor": 4
}
