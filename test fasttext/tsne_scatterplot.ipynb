{
 "cells": [
  {
   "cell_type": "markdown",
   "metadata": {},
   "source": [
    "# Visualizing FastText Model\n",
    "\n",
    "This notebook develops functions for visualizing semantic relationships preserved in a FastText model of the Sumerian corpus using t-SNE and Bokeh.\n",
    "\n",
    "Inspired by [*LDA visualized using t-SNE and Bokeh*](https://www.kaggle.com/yohanb/lda-visualized-using-t-sne-and-bokeh) by Yohan, and [*Visualizing Word Vectors with t-SNE*](https://www.kaggle.com/jeffd23/visualizing-word-vectors-with-t-sne) by Jeff Delayney.\n",
    "\n",
    "Note: for visualization Bokeh is preferred over Matplotlib primarily because of the difficulties in using a custom font in Matplotlib. This becomes a major obstacle when trying to represent tokens in cuneiform."
   ]
  },
  {
   "cell_type": "code",
   "execution_count": null,
   "metadata": {},
   "outputs": [],
   "source": [
    "import gensim\n",
    "import numpy as np\n",
    "import pickle\n",
    "from sklearn.manifold import TSNE\n",
    "from gensim.models.fasttext import FastText as FT_gensim\n",
    "import pandas as pd\n",
    "from bokeh.io import output_notebook\n",
    "from bokeh.plotting import figure, show, output_file, save\n",
    "from bokeh.models import ColumnDataSource, LabelSet, Legend, LegendItem, Range1d #, HoverTool, CustomJS, , Slider\n",
    "from bokeh.layouts import column\n",
    "from bokeh.palettes import all_palettes\n",
    "from bokeh.palettes import Category20\n",
    "output_notebook()\n",
    "# note: more recent bokeh versions require notebook 5 or JupyterLab"
   ]
  },
  {
   "cell_type": "markdown",
   "metadata": {},
   "source": [
    "# Load the Models\n",
    "There are three models: \n",
    "- model_cuneiform.model: the Sumerian copus in Unicode cuneiform\n",
    "- model_tl.model: the Sumerian corpus in transliteration\n",
    "- model_lemm.model: the Sumerian corpus in lemmatization"
   ]
  },
  {
   "cell_type": "code",
   "execution_count": null,
   "metadata": {},
   "outputs": [],
   "source": [
    "model_c = FT_gensim.load(\"model/model_cuneiform.model\")\n",
    "model_l = FT_gensim.load(\"model/model_lemm.model\")\n",
    "model_t = FT_gensim.load(\"model/model_tl.model\")"
   ]
  },
  {
   "cell_type": "markdown",
   "metadata": {},
   "source": [
    "# Cuneify\n",
    "Create a function that allows input in transliteration, with output in cuneiform."
   ]
  },
  {
   "cell_type": "code",
   "execution_count": null,
   "metadata": {},
   "outputs": [],
   "source": [
    "with open(\"output/ogsl.p\", \"rb\") as p:\n",
    "    o = pd.read_pickle(p, compression = None)\n",
    "signs_d = dict(zip(o[\"value\"], o[\"utf8\"]))"
   ]
  },
  {
   "cell_type": "code",
   "execution_count": null,
   "metadata": {},
   "outputs": [],
   "source": [
    "def cun(text): \n",
    "    \"\"\"transform transliterated input into cuneiform. Use unicode subscript numbers and separate all signs with hyphens; separate words with blanks\n",
    "    Examples: 'ma-an-gi₄'; 'd-en-lil₂ nibru-ki'.\n",
    "    Transliteration style (sugal₇ vs. sukkal; dug₄ vs. du₁₁; gen vs. ŋen; etc.) and capitalization are unimportant.\n",
    "    \"\"\"\n",
    "    cun_line = []\n",
    "    words = text.lower().split()\n",
    "    for word in words: \n",
    "        signs = word.lower().split('-')\n",
    "        seq = [signs_d[s] if s in signs_d else s for s in signs]\n",
    "        seq = ''.join(seq)\n",
    "        cun_line.append(seq)\n",
    "    line = ' '.join(cun_line)\n",
    "    return(line)"
   ]
  },
  {
   "cell_type": "markdown",
   "metadata": {},
   "source": [
    "# Create Lists of Semantically Related Words"
   ]
  },
  {
   "cell_type": "code",
   "execution_count": 3,
   "metadata": {},
   "outputs": [],
   "source": [
    "def word_categories(model, words, topn=10):\n",
    "    \"\"\"word_categories takes an iterable with one or more words from the vocabulary of model.\n",
    "    For each word a dictionary of similar words (with the target word) is construed.\n",
    "    The value of each word is numerical (integer) and indicates the category to which it belongs.\n",
    "    The function returns a dictionary.\"\"\"\n",
    "    word_d = {}\n",
    "    for idx, word in enumerate(words):\n",
    "        w = model.wv.most_similar(word, topn=topn)\n",
    "        w = [m[0] for m in w]\n",
    "        w.append(word)\n",
    "        for item in w:\n",
    "            if item in word_d:\n",
    "                word_d[item] = len(words)\n",
    "            else:\n",
    "                word_d[item] = idx\n",
    "    return word_d"
   ]
  },
  {
   "cell_type": "markdown",
   "metadata": {},
   "source": [
    "# Project and Visualize Related Words"
   ]
  },
  {
   "cell_type": "code",
   "execution_count": 4,
   "metadata": {},
   "outputs": [],
   "source": [
    "def tsne_bokeh(model, word_d, words, fontsize=\"12pt\"):\n",
    "\n",
    "    labels = []\n",
    "    tokens = []\n",
    "    categories = []\n",
    "    legend = []\n",
    "    \n",
    "    for word in word_d:\n",
    "        tokens.append(model.wv[word])\n",
    "        labels.append(word)\n",
    "        categories.append(word_d[word])\n",
    "        if word_d[word] == len(words): \n",
    "            legend.append(\"mixed\")\n",
    "        else: \n",
    "            legend.append(words[word_d[word]])\n",
    "    \n",
    "    color_d = {0: \"black\", 1: \"red\", 2: \"green\", 3: \"yellow\", 4: \"brown\", 5: \"blue\"}\n",
    "    colors = [color_d[category] for category in categories]\n",
    "    #c = Category20[len(words) + 1]\n",
    "    #colors = [c[category] for category in categories]\n",
    "    \n",
    "    tsne = TSNE(perplexity=40, n_components=2, init='pca', n_iter=2500, random_state=23)\n",
    "    tsne_embedding = tsne.fit_transform(tokens)\n",
    "    tsne_embedding = pd.DataFrame(tsne_embedding, columns=['x','y'])\n",
    "    tsne_embedding[\"color\"] = colors\n",
    "    tsne_embedding[\"labels\"] = labels\n",
    "    tsne_embedding[\"legend\"] = legend\n",
    "\n",
    "    source = ColumnDataSource(\n",
    "        data=dict(\n",
    "        x = tsne_embedding.x,\n",
    "        y = tsne_embedding.y,\n",
    "        colors = tsne_embedding.color,\n",
    "        labels=tsne_embedding.labels,\n",
    "        legend = tsne_embedding.legend\n",
    "        )\n",
    "    )\n",
    "\n",
    "    l = LabelSet(x='x', y='y', text='labels', level='glyph',\n",
    "              x_offset=5, y_offset=5, source=source, render_mode='canvas', \n",
    "             text_font_size=fontsize, text_font=\"CuneiformComposite\")\n",
    "\n",
    "    plot_tsne = figure(plot_width=900, plot_height=900) #, tools=tools_tsne, title='Papers')\n",
    "    plot_tsne.circle('x', 'y', size=7, fill_color='colors', \n",
    "                  line_alpha=0, line_width=0.01, source=source, legend_label=\"legend\")\n",
    "    plot_tsne.add_layout(l)\n",
    "    plot_tsne.legend.border_line_width = 3\n",
    "    plot_tsne.legend.border_line_color = \"black\"\n",
    "    plot_tsne.legend.border_line_alpha = 1\n",
    "    plot_tsne.legend.location = \"top_right\"\n",
    "    plot_tsne.legend.background_fill_color = \"beige\"\n",
    "    plot_tsne.legend.background_fill_alpha = 0.5\n",
    "    show(plot_tsne)\n",
    "    return plot_tsne"
   ]
  },
  {
   "cell_type": "code",
   "execution_count": 7,
   "metadata": {},
   "outputs": [
    {
     "ename": "NameError",
     "evalue": "name 'model' is not defined",
     "output_type": "error",
     "traceback": [
      "\u001b[0;31m---------------------------------------------------------------------------\u001b[0m",
      "\u001b[0;31mNameError\u001b[0m                                 Traceback (most recent call last)",
      "\u001b[0;32m<ipython-input-7-9cd7a5b55445>\u001b[0m in \u001b[0;36m<module>\u001b[0;34m\u001b[0m\n\u001b[1;32m      1\u001b[0m \u001b[0;31m#output_file(\"graphs/vegetables_perfumes.html\")\u001b[0m\u001b[0;34m\u001b[0m\u001b[0;34m\u001b[0m\u001b[0;34m\u001b[0m\u001b[0m\n\u001b[1;32m      2\u001b[0m \u001b[0mvegetables_perfumes\u001b[0m \u001b[0;34m=\u001b[0m \u001b[0;34m[\u001b[0m\u001b[0;34m\"šim-gig\"\u001b[0m\u001b[0;34m,\u001b[0m \u001b[0;34m\"hi{sar}\"\u001b[0m\u001b[0;34m]\u001b[0m\u001b[0;34m\u001b[0m\u001b[0;34m\u001b[0m\u001b[0m\n\u001b[0;32m----> 3\u001b[0;31m \u001b[0mwords_d\u001b[0m \u001b[0;34m=\u001b[0m \u001b[0mword_categories\u001b[0m\u001b[0;34m(\u001b[0m\u001b[0mmodel\u001b[0m\u001b[0;34m,\u001b[0m \u001b[0mvegetables_perfumes\u001b[0m\u001b[0;34m,\u001b[0m \u001b[0;36m35\u001b[0m\u001b[0;34m)\u001b[0m\u001b[0;34m\u001b[0m\u001b[0;34m\u001b[0m\u001b[0m\n\u001b[0m\u001b[1;32m      4\u001b[0m \u001b[0mp2\u001b[0m \u001b[0;34m=\u001b[0m \u001b[0mtsne_bokeh\u001b[0m\u001b[0;34m(\u001b[0m\u001b[0mmodel\u001b[0m\u001b[0;34m,\u001b[0m \u001b[0mwords_d\u001b[0m\u001b[0;34m,\u001b[0m \u001b[0mvegetables_perfumes\u001b[0m\u001b[0;34m,\u001b[0m \u001b[0;34m\"12pt\"\u001b[0m\u001b[0;34m)\u001b[0m\u001b[0;34m\u001b[0m\u001b[0;34m\u001b[0m\u001b[0m\n\u001b[1;32m      5\u001b[0m \u001b[0;31m#save(p2)\u001b[0m\u001b[0;34m\u001b[0m\u001b[0;34m\u001b[0m\u001b[0;34m\u001b[0m\u001b[0m\n",
      "\u001b[0;31mNameError\u001b[0m: name 'model' is not defined"
     ]
    }
   ],
   "source": [
    "#output_file(\"graphs/vegetables_perfumes.html\")\n",
    "vegetables_perfumes = [\"šim-gig\", \"hi{sar}\"]\n",
    "words_d = word_categories(model_l, vegetables_perfumes, 35)\n",
    "p2 = tsne_bokeh(model_l, words_d, vegetables_perfumes, \"12pt\")\n",
    "#save(p2)\n",
    "#show(p2)"
   ]
  },
  {
   "cell_type": "code",
   "execution_count": null,
   "metadata": {},
   "outputs": [],
   "source": [
    "central_bureau = [cun(\"na-sa₆\"), cun(\"ab-ba-sa₆-ga\"), cun(\"in-ta-e₃-a\")]\n",
    "c_b = word_categories(model_c, central_bureau, 20)\n",
    "p1 = tsne_bokeh(model_c, c_b, central_bureau, \"20pt\")\n",
    "#save(p1)\n",
    "#show(p1)"
   ]
  },
  {
   "cell_type": "code",
   "execution_count": null,
   "metadata": {},
   "outputs": [],
   "source": [
    "output_file(\"graphs/vegetables_perfumes_l.html\")\n",
    "vegetables_perfumes = [\"šimgig[tree]N\", \"hiz[vegetable]N\"]\n",
    "words_d = word_categories(model_l, vegetables_perfumes, 35)\n",
    "p2 = tsne_bokeh(model_l, words_d, vegetables_perfumes, \"12pt\")\n",
    "save(p2)\n",
    "show(p2)"
   ]
  },
  {
   "cell_type": "code",
   "execution_count": null,
   "metadata": {},
   "outputs": [],
   "source": [
    "model_c.wv.most_similar(cun(\"ab-ba-sa₆-ga\"), topn = 20)"
   ]
  },
  {
   "cell_type": "code",
   "execution_count": null,
   "metadata": {},
   "outputs": [],
   "source": [
    "naramili = cun(\"na-ra-am-i₃-li₂\")"
   ]
  },
  {
   "cell_type": "code",
   "execution_count": null,
   "metadata": {},
   "outputs": [],
   "source": [
    "model_c.wv.most_similar(naramili)"
   ]
  },
  {
   "cell_type": "code",
   "execution_count": null,
   "metadata": {},
   "outputs": [],
   "source": [
    "model_c.wv.most_similar(cun(\"lugal-iti-da\"))"
   ]
  },
  {
   "cell_type": "code",
   "execution_count": null,
   "metadata": {},
   "outputs": [],
   "source": [
    "babati_abbasaga = [cun(\"ba-ba-ti\"), cun(\"ab-ba-sa₆-ga\")]\n",
    "words_d = word_categories(model_c, babati_abbasaga, 10)\n",
    "p2 = tsne_bokeh(model_c, words_d, babati_abbasaga, \"20pt\")\n",
    "show(p2)"
   ]
  },
  {
   "cell_type": "code",
   "execution_count": null,
   "metadata": {},
   "outputs": [],
   "source": [
    "p_d = [\"ab-ba-sa₆-ga\", \"u₂-ta₂-mi-šar-ra-am\", \"a-hu-we-er\", \"tu-ra-am-d-da-gan\"]"
   ]
  },
  {
   "cell_type": "code",
   "execution_count": null,
   "metadata": {},
   "outputs": [],
   "source": [
    "p_d = [\"šu-{d}idim\", \"šu-kab-ta\", \"šu-{d}kab₂-ta₂\", \"šu-{d}kab-ta₂\"]"
   ]
  },
  {
   "cell_type": "code",
   "execution_count": null,
   "metadata": {},
   "outputs": [],
   "source": [
    "for item in p_d: \n",
    "    print(item in model_t.wv.vocab)"
   ]
  },
  {
   "cell_type": "code",
   "execution_count": null,
   "metadata": {},
   "outputs": [],
   "source": [
    "pd = [model_c.wv[p] for p in p_d]"
   ]
  },
  {
   "cell_type": "code",
   "execution_count": null,
   "metadata": {},
   "outputs": [],
   "source": [
    "from scipy.cluster.hierarchy import dendrogram, linkage\n",
    "from matplotlib import pyplot as plt"
   ]
  },
  {
   "cell_type": "code",
   "execution_count": null,
   "metadata": {},
   "outputs": [],
   "source": [
    "Z = linkage(pd, 'ward')"
   ]
  },
  {
   "cell_type": "code",
   "execution_count": null,
   "metadata": {},
   "outputs": [],
   "source": [
    "from scipy.cluster.hierarchy import cophenet\n",
    "from scipy.spatial.distance import pdist"
   ]
  },
  {
   "cell_type": "code",
   "execution_count": null,
   "metadata": {},
   "outputs": [],
   "source": [
    "c, coph_dists = cophenet(Z, pdist(pd))\n",
    "c"
   ]
  },
  {
   "cell_type": "code",
   "execution_count": null,
   "metadata": {},
   "outputs": [],
   "source": [
    "plt.figure(figsize=(25, 10))\n",
    "plt.title('Hierarchical Clustering Dendrogram')\n",
    "plt.xlabel('sample index')\n",
    "plt.ylabel('distance')\n",
    "dendrogram(\n",
    "    Z,\n",
    "    leaf_rotation=90.,  # rotates the x axis labels\n",
    "    leaf_font_size=8.,  # font size for the x axis labels\n",
    ")\n",
    "plt.show()"
   ]
  },
  {
   "cell_type": "code",
   "execution_count": null,
   "metadata": {},
   "outputs": [],
   "source": []
  },
  {
   "cell_type": "code",
   "execution_count": null,
   "metadata": {},
   "outputs": [],
   "source": [
    "def dendro(model, word, topn=10): \n",
    "    words = model.wv.most_similar(word, topn = topn)\n",
    "    words = [w[0] for w in words]\n",
    "    words.append(word)\n",
    "    vectors = [model.wv[p] for p in words]\n",
    "    l = linkage(vectors, method='complete', metric='seuclidean')\n",
    "\n",
    "# calculate full dendrogram\n",
    "    plt.figure(figsize=(25, 10))\n",
    "    plt.title('Hierarchical Clustering Dendrogram')\n",
    "    plt.ylabel('word')\n",
    "    plt.xlabel('distance')\n",
    "\n",
    "    dendrogram(\n",
    "        l,\n",
    "        leaf_rotation=90.,  # rotates the x axis labels\n",
    "        leaf_font_size=16.,  # font size for the x axis labels\n",
    "        leaf_label_func=lambda v: str(words[v])\n",
    "        )\n",
    "    plt.show()"
   ]
  },
  {
   "cell_type": "code",
   "execution_count": null,
   "metadata": {},
   "outputs": [],
   "source": [
    "dendro(model_t, \"ha-bu-um\")"
   ]
  },
  {
   "cell_type": "code",
   "execution_count": null,
   "metadata": {},
   "outputs": [],
   "source": [
    "model_c.wv.most_similar(positive=[\"𒊺\", \"𒆬𒄀\"], negative=[\"𒃻\"])"
   ]
  },
  {
   "cell_type": "code",
   "execution_count": null,
   "metadata": {},
   "outputs": [],
   "source": [
    "nakabtum_a = [cun(\"a-hu-ni\"), cun(\"d-šul-gi-a-a-mu\"), cun(\"šu-ma-ma\"), cun(\"zu-ba-ga\")]"
   ]
  },
  {
   "cell_type": "code",
   "execution_count": null,
   "metadata": {},
   "outputs": [],
   "source": [
    "for name in directors: \n",
    "    print(name in model_c.wv.vocab)"
   ]
  },
  {
   "cell_type": "code",
   "execution_count": null,
   "metadata": {},
   "outputs": [],
   "source": [
    "nakabtum_b = [cun(\"lu₂-dingir-ra\"), cun(\"a-hu-we-er\"), cun(\"igi-d-en-lil₂-še₃\")]"
   ]
  },
  {
   "cell_type": "code",
   "execution_count": null,
   "metadata": {},
   "outputs": [],
   "source": [
    "royal_court = [cun(\"u₂-ta₂-mi-šar-ra-am\"), cun(\"tu-ra-am-d-da-gan\"), cun(\"tah-ša-tal\")]"
   ]
  },
  {
   "cell_type": "code",
   "execution_count": null,
   "metadata": {},
   "outputs": [],
   "source": [
    "tummal = [cun(\"en-dingir-mu\")]"
   ]
  },
  {
   "cell_type": "code",
   "execution_count": null,
   "metadata": {},
   "outputs": [],
   "source": [
    "enlila = [cun(\"d-en-lil₂-la₂\")]"
   ]
  },
  {
   "cell_type": "code",
   "execution_count": null,
   "metadata": {},
   "outputs": [],
   "source": [
    "urkununa = [cun(\"ur-kug-nun-na\")]"
   ]
  },
  {
   "cell_type": "code",
   "execution_count": null,
   "metadata": {},
   "outputs": [],
   "source": [
    "nalu = [cun(\"na-lu₅\")]"
   ]
  },
  {
   "cell_type": "code",
   "execution_count": null,
   "metadata": {},
   "outputs": [],
   "source": [
    "central = [cun(\"ab-ba-sa₆-ga\"), cun(\"in-ta-e₃-a\"), cun(\"na-sa₆\")]"
   ]
  },
  {
   "cell_type": "code",
   "execution_count": null,
   "metadata": {},
   "outputs": [],
   "source": [
    "directors = [cun(\"na-ra-am-i₃-li₂\"), cun(\"lugal-iti-da\"), cun(\"d-šara₂-kam\")]"
   ]
  },
  {
   "cell_type": "code",
   "execution_count": null,
   "metadata": {},
   "outputs": [],
   "source": [
    "offices = [nakabtum_a, nakabtum_b, enlila, nalu, \n",
    "           urkununa, central, directors]\n",
    "office_names = [\"Nakabtum A\", \"Nakabtum B\", \"Enlila\", \"Nalu\", \"Urkununa\", \"Central Bureau\", \"Directors\"]\n",
    "p = figure(plot_width=900, plot_height=900) "
   ]
  },
  {
   "cell_type": "code",
   "execution_count": null,
   "metadata": {},
   "outputs": [],
   "source": [
    "tokens = []\n",
    "labels = []\n",
    "categories = []\n",
    "legend = []\n",
    "for idx, office in enumerate(offices): \n",
    "    for name in office: \n",
    "        tokens.append(model_c.wv[name])\n",
    "        labels.append(name)\n",
    "        categories.append(idx)\n",
    "        legend.append(office_names[idx])"
   ]
  },
  {
   "cell_type": "code",
   "execution_count": null,
   "metadata": {},
   "outputs": [],
   "source": []
  },
  {
   "cell_type": "code",
   "execution_count": null,
   "metadata": {},
   "outputs": [],
   "source": [
    "from bokeh.palettes import Category20\n",
    "c = all_palettes[\"Spectral\"][len(offices)]\n",
    "colors = [c[category] for category in categories]"
   ]
  },
  {
   "cell_type": "code",
   "execution_count": null,
   "metadata": {},
   "outputs": [],
   "source": [
    "tsne = TSNE(perplexity=40, n_components=2, init='pca', n_iter=2500, random_state=23)\n",
    "tsne_embedding = tsne.fit_transform(tokens)\n",
    "tsne_embedding = pd.DataFrame(tsne_embedding, columns=['x','y'])\n",
    "tsne_embedding[\"color\"] = colors\n",
    "tsne_embedding[\"labels\"] = labels\n",
    "tsne_embedding[\"legend\"] = legend"
   ]
  },
  {
   "cell_type": "code",
   "execution_count": null,
   "metadata": {},
   "outputs": [],
   "source": [
    "source = ColumnDataSource(\n",
    "        data=dict(\n",
    "        x = tsne_embedding.x,\n",
    "        y = tsne_embedding.y,\n",
    "        colors = tsne_embedding.color,\n",
    "        labels=tsne_embedding.labels,\n",
    "        legend = tsne_embedding.legend\n",
    "        )\n",
    "    )"
   ]
  },
  {
   "cell_type": "code",
   "execution_count": null,
   "metadata": {},
   "outputs": [],
   "source": [
    "l = LabelSet(x='x', y='y', text='labels', level='glyph',\n",
    "              x_offset=5, y_offset=5, source=source, render_mode='canvas', \n",
    "             text_font_size=\"20pt\", text_font=\"CuneiformComposite\")\n",
    "\n",
    "plot_tsne = figure(plot_width=900, plot_height=900) #, tools=tools_tsne, title='Papers')\n",
    "plot_tsne.circle('x', 'y', size=7, fill_color='colors', \n",
    "                  line_alpha=0, line_width=0.01, source=source, legend=\"legend\")\n",
    "plot_tsne.add_layout(l)\n",
    "plot_tsne.legend.border_line_width = 3\n",
    "plot_tsne.legend.border_line_color = \"black\"\n",
    "plot_tsne.legend.border_line_alpha = 1\n",
    "plot_tsne.legend.location = \"top_left\"\n",
    "plot_tsne.legend.background_fill_color = \"beige\"\n",
    "plot_tsne.legend.background_fill_alpha = 0.5"
   ]
  },
  {
   "cell_type": "code",
   "execution_count": null,
   "metadata": {},
   "outputs": [],
   "source": [
    "show(plot_tsne)"
   ]
  },
  {
   "cell_type": "code",
   "execution_count": null,
   "metadata": {},
   "outputs": [],
   "source": [
    "all_palettes[\"Spectral\"][6]"
   ]
  },
  {
   "cell_type": "code",
   "execution_count": null,
   "metadata": {},
   "outputs": [],
   "source": [
    "with open(\"output/utf8_lemm_d.p\", 'rb') as f: \n",
    "    utf8_lemm = pickle.load(f)\n",
    "utf8_lemm"
   ]
  },
  {
   "cell_type": "code",
   "execution_count": null,
   "metadata": {},
   "outputs": [],
   "source": [
    "utf8_lemm[cun(\"za-bir\")]"
   ]
  },
  {
   "cell_type": "code",
   "execution_count": null,
   "metadata": {},
   "outputs": [],
   "source": [
    "nakabtum_a"
   ]
  },
  {
   "cell_type": "code",
   "execution_count": null,
   "metadata": {},
   "outputs": [],
   "source": [
    "wild_animals = [cun(\"ur-mah\"), cun(\"muš\"), cun(\"az\"), cun(\"ka₅-a\"), cun(\"šeg₉\"), cun(\"maš-da₃\"), cun(\"šeg₉-bar\"), \n",
    "                cun(\"dara₄\"), cun(\"am\"), cun(\"am-si\"), cun(\"am-si-kur-ra\")]"
   ]
  },
  {
   "cell_type": "code",
   "execution_count": null,
   "metadata": {},
   "outputs": [],
   "source": [
    "domestic_animals = [cun(\"udu\"), cun(\"gud\"), cun(\"u₈\"), cun(\"ab₂\"), cun(\"anše\"), cun(\"eme₅\"), cun(\"sila₄\"), cun(\"kir₁₁\"), cun(\"amar\"), \n",
    "                  cun(\"uz₃\"), cun(\"maš₂\") ]"
   ]
  },
  {
   "cell_type": "code",
   "execution_count": null,
   "metadata": {},
   "outputs": [],
   "source": [
    "animals = wild_animals.copy()\n",
    "animals.extend(domestic_animals)"
   ]
  },
  {
   "cell_type": "code",
   "execution_count": null,
   "metadata": {},
   "outputs": [],
   "source": [
    "animal_like = model_c.wv.most_similar(animals, topn=20)\n",
    "animal_like = [word for word, similarity in animal_like]"
   ]
  },
  {
   "cell_type": "code",
   "execution_count": null,
   "metadata": {},
   "outputs": [],
   "source": [
    "animals.extend(animal_like)"
   ]
  },
  {
   "cell_type": "code",
   "execution_count": null,
   "metadata": {},
   "outputs": [],
   "source": [
    "x = [model_c.wv.similarity(cun(\"ur-mah\"), word) for word in animals]\n",
    "y = [model_c.wv.similarity(cun(\"udu\"), word) for word in animals]"
   ]
  },
  {
   "cell_type": "code",
   "execution_count": null,
   "metadata": {},
   "outputs": [],
   "source": [
    "df = pd.DataFrame({\"x\" : x, \"y\": y, \"labels\" : animals})"
   ]
  },
  {
   "cell_type": "code",
   "execution_count": null,
   "metadata": {},
   "outputs": [],
   "source": [
    "source = ColumnDataSource(\n",
    "        data=dict(\n",
    "        x = df.x,\n",
    "        y = df.y,\n",
    "        labels=df.labels,\n",
    "        )\n",
    "    )"
   ]
  },
  {
   "cell_type": "code",
   "execution_count": null,
   "metadata": {},
   "outputs": [],
   "source": [
    "lab = LabelSet(x='x', y='y', text='labels', level='glyph',\n",
    "              x_offset=5, y_offset=5, source=source, render_mode='canvas', \n",
    "             text_font_size=\"15pt\", text_font=\"CuneiformComposite\")\n",
    "p3 = figure(plot_width=900, plot_height=900) #, tools=tools_tsne, title='Papers')\n",
    "p3.circle('x', 'y', size=7, fill_color='red', \n",
    "                  line_alpha=0, line_width=0.01, source=source)\n",
    "left, right, bottom, top = .8, 1.01, .8, 1.01\n",
    "p3.x_range=Range1d(left, right)\n",
    "p3.y_range=Range1d(bottom, top)\n",
    "p3.add_layout(lab)\n",
    "p3.line([0, 1], [0, 1], line_width=2)"
   ]
  },
  {
   "cell_type": "code",
   "execution_count": null,
   "metadata": {},
   "outputs": [],
   "source": [
    "show(p3)"
   ]
  },
  {
   "cell_type": "code",
   "execution_count": null,
   "metadata": {},
   "outputs": [],
   "source": [
    "model_c"
   ]
  },
  {
   "cell_type": "code",
   "execution_count": null,
   "metadata": {},
   "outputs": [],
   "source": [
    "model_c.wv[cun(\"lugal\")]"
   ]
  },
  {
   "cell_type": "code",
   "execution_count": null,
   "metadata": {},
   "outputs": [],
   "source": [
    "from bokeh.plotting import figure, show\n",
    "from bokeh.layouts import row, gridplot\n",
    "from bokeh.models import ColumnDataSource\n",
    "from bokeh.io import output_file\n",
    "import pandas as pd\n",
    "\n",
    "feature_groups  = [['ciao'],['bye']]\n",
    "\n",
    "\n",
    "df = pd.DataFrame.from_dict({'x':[0,1,2,3,4], 'y':[2,3,4,5,6]})\n",
    "x_test = [0,1,2,3,4]\n",
    "y_test = [2,3,4,5,6]\n",
    "source = ColumnDataSource(df)\n",
    "\n",
    "\n",
    "for features_columns in feature_groups:\n",
    "    output_file('features_labels' + features_columns[0] +'.html')\n",
    "    p = []\n",
    "\n",
    "    for k,f in enumerate(features_columns):\n",
    "        p_k = figure(title=f)\n",
    "        p_k.circle(x=f, y='ki', line_width=2, source=source,fill_alpha=0.5,line_alpha=0.5)\n",
    "        p_k.circle_cross( x=x_test, y=y_test, color='red',fill_alpha=0.5,line_alpha=0.5)\n",
    "        p_k.circle_cross( x = x_test, y = y_test, color='green',fill_alpha=0.5,line_alpha=0.5)\n",
    "        p_k.xaxis.axis_label = f\n",
    "        p_k.yaxis.axis_label = 'ki'\n",
    "        p.append(p_k)\n",
    "    grid = gridplot(p, ncols=2)\n",
    "    show(grid)\n"
   ]
  },
  {
   "cell_type": "code",
   "execution_count": null,
   "metadata": {},
   "outputs": [],
   "source": [
    "from bokeh.plotting import figure, show\n",
    "from bokeh.layouts import row, gridplot\n",
    "from bokeh.models import ColumnDataSource\n",
    "from bokeh.io import output_file\n",
    "import pandas as pd\n",
    "\n",
    "feature_groups  = [['ciao'],['bye']]\n",
    "\n",
    "df = pd.DataFrame.from_dict({'x':[0,1,2,3,4], 'y':[2,3,4,5,6]})\n",
    "x_test = [0,1,2,3,4]\n",
    "y_test = [2,3,4,5,6]\n",
    "\n",
    "for features_columns in feature_groups:\n",
    "    output_file('features_labels' + features_columns[0] +'.html')\n",
    "    p = []\n",
    "    source = ColumnDataSource(df)\n",
    "\n",
    "    for k,f in enumerate(features_columns):\n",
    "        p_k = figure(title=f)\n",
    "        p_k.circle(x='x', y='y', line_width=2, source=source,fill_alpha=0.5,line_alpha=0.5)\n",
    "        p_k.circle_cross( x=x_test, y=y_test, color='red',fill_alpha=0.5,line_alpha=0.5)\n",
    "        p_k.circle_cross( x = x_test, y = y_test, color='green',fill_alpha=0.5,line_alpha=0.5)\n",
    "        p_k.xaxis.axis_label = f\n",
    "        p_k.yaxis.axis_label = 'ki'\n",
    "        p.append(p_k)\n",
    "    grid = gridplot(p, ncols=2)\n",
    "    show(grid)"
   ]
  },
  {
   "cell_type": "code",
   "execution_count": null,
   "metadata": {},
   "outputs": [],
   "source": []
  }
 ],
 "metadata": {
  "kernelspec": {
   "display_name": "Python 3",
   "language": "python",
   "name": "python3"
  },
  "language_info": {
   "codemirror_mode": {
    "name": "ipython",
    "version": 3
   },
   "file_extension": ".py",
   "mimetype": "text/x-python",
   "name": "python",
   "nbconvert_exporter": "python",
   "pygments_lexer": "ipython3",
   "version": "3.7.7"
  }
 },
 "nbformat": 4,
 "nbformat_minor": 4
}
