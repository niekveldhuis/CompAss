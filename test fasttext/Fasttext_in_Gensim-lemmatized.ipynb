{
 "cells": [
  {
   "cell_type": "markdown",
   "metadata": {},
   "source": [
    "# Fasttext implementation in Gensim\n",
    "For code examples etc. see the [tutorial](https://github.com/RaRe-Technologies/gensim/blob/de8657e9b8d5192750296b6765175c31c8bb3298/docs/notebooks/FastText_Tutorial.ipynb).\n",
    "\n",
    "Currently the code includes two types of warning suppression - check in future installations whether they are still necessary. The first warning only occurs on Windows machines and tells the user that an alternative function will be used. The second warnings line suppresses the \"FutureWarning: Conversion of the second argument of issubdtype from `int` to `np.signedinteger` is deprecated\" warning which comes from Numpy."
   ]
  },
  {
   "cell_type": "code",
   "execution_count": 1,
   "metadata": {},
   "outputs": [],
   "source": [
    "import warnings\n",
    "warnings.filterwarnings(action='ignore', category=UserWarning, module='gensim')\n",
    "warnings.filterwarnings(action='ignore', category=FutureWarning, module='gensim' )\n",
    "import gensim\n",
    "import pickle\n",
    "from gensim.models.word2vec import LineSentence\n",
    "from gensim.models.fasttext import FastText as FT_gensim"
   ]
  },
  {
   "cell_type": "code",
   "execution_count": 2,
   "metadata": {},
   "outputs": [],
   "source": [
    "file = \"corpus/sux_lemm.txt\"\n",
    "data = LineSentence(file)"
   ]
  },
  {
   "cell_type": "code",
   "execution_count": 3,
   "metadata": {},
   "outputs": [],
   "source": [
    "model_gensim = FT_gensim(data, min_count=5, window=10, size=100, negative=20, sorted_vocab=1, min_n=1, \n",
    "                         max_n=6, sg=1, iter=100)\n",
    "# with these parameters runtime appr. 3.5 hours on recent MacBook Pro\n",
    "# iter is for epochs; sg is skipgram (sg = 0 is cbow)"
   ]
  },
  {
   "cell_type": "code",
   "execution_count": 4,
   "metadata": {},
   "outputs": [
    {
     "data": {
      "text/plain": [
       "[('ur[dog]N', 0.8949129581451416),\n",
       " ('urgir[dog]N', 0.8839294910430908),\n",
       " ('gu[eat]V/t', 0.8714278340339661),\n",
       " ('urbara[wolf]N', 0.8470771312713623),\n",
       " ('dusu[equid]N', 0.8302152156829834),\n",
       " ('ud[sun]N', 0.8244672417640686),\n",
       " ('ŋiri[foot]N', 0.8196974992752075),\n",
       " ('šugid[~animal]N', 0.8143649697303772),\n",
       " ('ki[place]N', 0.813652753829956),\n",
       " ('sisi[horse]N', 0.8130145072937012)]"
      ]
     },
     "execution_count": 4,
     "metadata": {},
     "output_type": "execute_result"
    }
   ],
   "source": [
    "model_gensim.wv.most_similar(positive=[\"urmah[lion]N\"])"
   ]
  },
  {
   "cell_type": "code",
   "execution_count": 5,
   "metadata": {},
   "outputs": [],
   "source": [
    "filename = \"model/sux_model_lemm.model\"\n",
    "model_gensim.save(filename)"
   ]
  },
  {
   "cell_type": "code",
   "execution_count": null,
   "metadata": {},
   "outputs": [],
   "source": []
  }
 ],
 "metadata": {
  "kernelspec": {
   "display_name": "Python 3",
   "language": "python",
   "name": "python3"
  },
  "language_info": {
   "codemirror_mode": {
    "name": "ipython",
    "version": 3
   },
   "file_extension": ".py",
   "mimetype": "text/x-python",
   "name": "python",
   "nbconvert_exporter": "python",
   "pygments_lexer": "ipython3",
   "version": "3.7.6"
  }
 },
 "nbformat": 4,
 "nbformat_minor": 4
}
