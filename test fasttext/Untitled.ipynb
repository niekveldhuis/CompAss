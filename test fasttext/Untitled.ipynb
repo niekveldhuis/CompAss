{
 "cells": [
  {
   "cell_type": "markdown",
   "metadata": {},
   "source": [
    "# Harvest Sumerian - Akkadian Translations from ePSD2\n"
   ]
  },
  {
   "cell_type": "code",
   "execution_count": 1,
   "metadata": {},
   "outputs": [],
   "source": [
    "import warnings\n",
    "warnings.filterwarnings(action='ignore', category=UserWarning, module='gensim')\n",
    "warnings.filterwarnings(action='ignore', category=FutureWarning, module='gensim' )\n",
    "from gensim.models.fasttext import FastText as FT_gensim"
   ]
  },
  {
   "cell_type": "code",
   "execution_count": 2,
   "metadata": {},
   "outputs": [],
   "source": [
    "with open('../../epsd2/00src/sux.glo', encoding=\"utf-8\") as f: \n",
    "    epsd2_lines = f.readlines()"
   ]
  },
  {
   "cell_type": "code",
   "execution_count": 3,
   "metadata": {},
   "outputs": [
    {
     "data": {
      "text/plain": [
       "3563"
      ]
     },
     "execution_count": 3,
     "metadata": {},
     "output_type": "execute_result"
    }
   ],
   "source": [
    "bil = []\n",
    "flag = False\n",
    "for l in epsd2_lines: \n",
    "    if l[: 6] == \"@entry\": \n",
    "        sux = l[7: ].strip().replace(' [', '[').replace('] ', ']')\n",
    "        flag=True\n",
    "        sux = sux.replace(\" \", \"-\") # remove space and commas from Guide Words\n",
    "        sux = sux.replace(\",\", \"\")\n",
    "    if \"@parts\" in l:  # these are multiple word expressions - skip.\n",
    "        flag = False\n",
    "    if \"akk\" in l and flag: \n",
    "        akk = l[12: ].strip().replace(\"?\", \"\")\n",
    "        akk = akk + sux[sux.find(\"[\") : ]  \n",
    "        akk = akk.replace(\"V/t\", \"V\")  # Sumerian distinguishes between V intransitive (V/i) and Verb transitive (V/t), but Akkadian does not.\n",
    "        akk = akk.replace(\"V/i\", \"V\")\n",
    "        entry = (sux, akk)\n",
    "        bil.append(entry)\n",
    "        flag = False\n",
    "len(bil)"
   ]
  },
  {
   "cell_type": "markdown",
   "metadata": {},
   "source": [
    "# Check to see if the Akkadian word is in the Model"
   ]
  },
  {
   "cell_type": "code",
   "execution_count": 4,
   "metadata": {},
   "outputs": [],
   "source": [
    "akk_model = FT_gensim.load(\"model/akk_model_lemm.model\")"
   ]
  },
  {
   "cell_type": "code",
   "execution_count": 5,
   "metadata": {},
   "outputs": [],
   "source": [
    "bil = [word for word in bil if word[1] in akk_model.wv.vocab]"
   ]
  },
  {
   "cell_type": "code",
   "execution_count": 6,
   "metadata": {},
   "outputs": [
    {
     "data": {
      "text/plain": [
       "790"
      ]
     },
     "execution_count": 6,
     "metadata": {},
     "output_type": "execute_result"
    }
   ],
   "source": [
    "len(bil)"
   ]
  },
  {
   "cell_type": "code",
   "execution_count": null,
   "metadata": {},
   "outputs": [],
   "source": []
  }
 ],
 "metadata": {
  "kernelspec": {
   "display_name": "Python 3",
   "language": "python",
   "name": "python3"
  },
  "language_info": {
   "codemirror_mode": {
    "name": "ipython",
    "version": 3
   },
   "file_extension": ".py",
   "mimetype": "text/x-python",
   "name": "python",
   "nbconvert_exporter": "python",
   "pygments_lexer": "ipython3",
   "version": "3.7.6"
  }
 },
 "nbformat": 4,
 "nbformat_minor": 4
}
