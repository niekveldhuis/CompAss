{
 "cells": [
  {
   "cell_type": "markdown",
   "metadata": {},
   "source": [
    "# Analyze the Treasure Archive"
   ]
  },
  {
   "cell_type": "code",
   "execution_count": 1,
   "metadata": {},
   "outputs": [],
   "source": [
    "from ipywidgets import interact\n",
    "import ipywidgets as widgets\n",
    "from ipywidgets import Layout\n",
    "import webbrowser    # for opening web pages\n",
    "import networkx as nx\n",
    "import networkx.algorithms.community as nxcom\n",
    "import matplotlib.pyplot as plt\n",
    "%matplotlib inline\n",
    "from IPython.display import display, clear_output\n",
    "import pickle"
   ]
  },
  {
   "cell_type": "code",
   "execution_count": 2,
   "metadata": {},
   "outputs": [],
   "source": [
    "with open('pickle/treasury.p', 'rb') as f: \n",
    "    G = pickle.load(f)"
   ]
  },
  {
   "cell_type": "markdown",
   "metadata": {},
   "source": [
    "# Compute some node centrality measures\n",
    "We may compute a variety of characteristics of each node in our graph. There are different ways to conceptualize the centrality  of a node in a graph. The number of connections of a node to other nodes in the graph contributes to its *degree centrality*. *In degree centrality* refers to the number of incoming connections (where the node is target), whereas *out degree centrality* relates to the number of outgoing connections (where the node source). *Betweenness centrality* is based on the number of shortest paths between any two nodes in the graph that go through this node. *Eigenvector centrality* is a measure that takes into account the centrality of the nodes that the node under consideration connects to. A node that connects to many low-ranking nodes will receive a low eigenvector centrality score. A node that connects to a few well-connected nodes will receive a high eigenvector centrality score.\n",
    "\n",
    "*Hub* and *authority*, finally, are interrelated measures that were originally developed for ranking web pages. A node with high hub value points towards multiple nodes with high authority value. A node with high authority value has incoming connections from multiple nodes with high hub  value. Hub and authority are thus defined by each other and the process of computing hub and authority values is an iterative one. If `nx.hits()` raises a \"PowerIterationFailedConvergence\" error, you may increase the maximum number of iterations. The default value is `max_iter=100`; use, for instance `hub, authority = nx.hits(G, max_iter = 1000)`.\n",
    "\n",
    "Each of these computations results in a dictionary in which the nodes are keys."
   ]
  },
  {
   "cell_type": "code",
   "execution_count": 4,
   "metadata": {},
   "outputs": [],
   "source": [
    "eigenvector = nx.eigenvector_centrality(G)\n",
    "degree_centrality = nx.degree_centrality(G)\n",
    "in_degree_centrality = nx.in_degree_centrality(G)\n",
    "out_degree_centrality = nx.out_degree_centrality(G)\n",
    "closeness_centrality = nx.closeness_centrality(G)\n",
    "betweenness_centrality = nx.betweenness_centrality(G)\n",
    "hub, authority = nx.hits(G, max_iter=600)"
   ]
  },
  {
   "cell_type": "markdown",
   "metadata": {},
   "source": [
    "Print the first 5 highest scoring nodes for each of the centrality measure. In each of these measures we see more or less the same names popping up, but not in the same order. "
   ]
  },
  {
   "cell_type": "code",
   "execution_count": 5,
   "metadata": {},
   "outputs": [
    {
     "name": "stdout",
     "output_type": "stream",
     "text": [
      "eigenvector: ['lugal[king]N', 'Ludiŋirak[0]PN', 'Lugalkugzu[0]PN', 'AradNannak[0]PN', 'PuzurErra[0]PN']\n",
      "degree centrality: ['Ludiŋirak[0]PN', 'PuzurErra[0]PN', 'lugal[king]N', 'Dayyanummišar[0]PN', 'AradNannak[0]PN']\n",
      "in degree centrality: ['Ludiŋirak[0]PN', 'Lugalkugzu[0]PN', 'lugal[king]N', 'PuzurErra[0]PN', 'Lunanna[0]PN']\n",
      "out degree centrality: ['Ludiŋirak[0]PN', 'PuzurErra[0]PN', 'Dayyanummišar[0]PN', 'AradNannak[0]PN', 'lugal[king]N']\n",
      "closeness centrality: ['lugal[king]N', 'Lugalkugzu[0]PN', 'Ludiŋirak[0]PN', 'PuzurErra[0]PN', 'Nanna[1]DN']\n",
      "betweenness centrality: ['Ludiŋirak[0]PN', 'lugal[king]N', 'PuzurErra[0]PN', 'Dayyanummišar[0]PN', 'Lugalkugzu[0]PN']\n",
      "hub: ['lugal[king]N', 'Ludiŋirak[0]PN', 'Amurili[0]PN', 'Dayyanummišar[0]PN', 'PuzurErra[0]PN']\n",
      "authority: ['Ludiŋirak[0]PN', 'PuzurErra[0]PN', 'AradNannak[0]PN', 'Lugalkugzu[0]PN', 'ME.Ištaran[0]PN']\n"
     ]
    }
   ],
   "source": [
    "centrality = [eigenvector, degree_centrality, in_degree_centrality, out_degree_centrality, closeness_centrality, betweenness_centrality, hub, authority]\n",
    "centrality_labels = [\"eigenvector\", \"degree centrality\", \"in degree centrality\",\n",
    "                     \"out degree centrality\", \"closeness centrality\",\n",
    "                     \"betweenness centrality\", \"hub\", \"authority\"]\n",
    "for idx, m in enumerate(centrality):\n",
    "    s = sorted(m, key=m.get, reverse=True)[:5]\n",
    "    print(f\"{centrality_labels[idx]}: {s}\")"
   ]
  },
  {
   "cell_type": "markdown",
   "metadata": {},
   "source": [
    "# Cliques\n",
    "Cliques are sets of nodes that are all connected to each other. That is, if we have four nodes, A, B, C, and D, all possible connections exist: \n",
    "> A --- B</br>\n",
    "> A --- C</br>\n",
    "> A --- D</br>\n",
    "> B --- C</br>\n",
    "> B --- D</br>\n",
    "> C --- D</br>\n",
    "\n",
    "Cliques may represent powerful centers in a graph, with  information flowing freely within each clique. Cliques are defined only for undirected graphs, so we first have to transform our graph. In order to compute cliques we need to decide the minimum number of nodes - in this case 4.\n",
    "See https://orbifold.net/default/community-detection-using-networkx/\n",
    "\n",
    "A related concept is the k-clique community. A k-clique community consists of adjacent cliques of at least *k* members. Adjacent cliques share at least *k-1* nodes. As we will see, k-clique communities tend to overlap. That is, there are powerful actors who belong to multiple such communities and connect them to each other."
   ]
  },
  {
   "cell_type": "code",
   "execution_count": null,
   "metadata": {},
   "outputs": [],
   "source": [
    "H = nx.DiGraph.to_undirected(G)\n",
    "cliques = sorted(nxcom.k_clique_communities(H, 4), key=len, reverse=True)\n",
    "# Count the communities\n",
    "print(f\"The graph has {len(cliques)} clique communities.\")"
   ]
  },
  {
   "cell_type": "code",
   "execution_count": null,
   "metadata": {},
   "outputs": [],
   "source": [
    "nx.set_node_attributes(H, 0, \"clique\")\n",
    "for c, v_c in enumerate(cliques):\n",
    "    for v in v_c:\n",
    "        # Add 1 to save 0 for nodes that are not in a clique\n",
    "        H.nodes[v]['clique'] = c + 1"
   ]
  },
  {
   "cell_type": "code",
   "execution_count": null,
   "metadata": {},
   "outputs": [],
   "source": [
    "nx.set_edge_attributes(H, 0, \"clique\")  # default is 0\n",
    "for v, w, in H.edges:\n",
    "    if H.nodes[v]['clique'] == H.nodes[w]['clique']:\n",
    "            # Internal edge, mark with community\n",
    "        H.edges[v, w]['clique'] = H.nodes[v]['clique']"
   ]
  },
  {
   "cell_type": "code",
   "execution_count": null,
   "metadata": {},
   "outputs": [],
   "source": [
    "nodes = [x for x, y in H.nodes(data=True) if y[\"clique\"] > 0 or y[\"degree\"] > 8] # select nodes that belong to a clique\n",
    "I = H.subgraph(nodes)"
   ]
  },
  {
   "cell_type": "code",
   "execution_count": null,
   "metadata": {},
   "outputs": [],
   "source": [
    "mult = set()  # Nodes in multiple cliques\n",
    "for v, c in enumerate(cliques):\n",
    "    for clique in cliques[v+1:]:\n",
    "        mult.update(c.intersection(clique))\n",
    "node_size = [1000 if n in mult else 100 for n in I.nodes]"
   ]
  },
  {
   "cell_type": "code",
   "execution_count": null,
   "metadata": {},
   "outputs": [],
   "source": [
    "colors = list(nx.get_node_attributes(I, 'clique').values())\n",
    "#node_color = [colmap[I.nodes[v]['clique']] for v in I.nodes]\n",
    "#edge_color = [colmap[I.edges[v, w]['clique']] for v, w in I.edges]"
   ]
  },
  {
   "cell_type": "code",
   "execution_count": null,
   "metadata": {},
   "outputs": [],
   "source": [
    "labels = nx.get_node_attributes(I, 'name')"
   ]
  },
  {
   "cell_type": "code",
   "execution_count": null,
   "metadata": {},
   "outputs": [],
   "source": [
    "label_pos = {}\n",
    "pos = nx.spring_layout(I)\n",
    "for k, v in pos.items():\n",
    "    label_pos[k] = (v[0], v[1]+0.03)\n",
    "plt.figure(figsize=(15, 10))\n",
    "plt.rcParams.update({'figure.figsize': (15, 10)})\n",
    "nx.draw(\n",
    "        I,\n",
    "        pos=pos,\n",
    "        node_color=colors,\n",
    "        #edge_color=edge_color, \n",
    "        node_size = node_size, \n",
    "        with_labels = False,\n",
    "        cmap= plt.cm.jet)\n",
    "nx.draw_networkx_labels(I, label_pos, labels, font_size=14)\n",
    "plt.show()"
   ]
  },
  {
   "cell_type": "code",
   "execution_count": null,
   "metadata": {},
   "outputs": [],
   "source": [
    "cliques = nx.find_cliques(H)\n",
    "cliques4 = [clq for clq in cliques if len(clq) >= 4]\n",
    "nodes = set(n for clq in cliques4 for n in clq)\n",
    "print(len(cliques4))\n",
    "h = H.subgraph(nodes)\n",
    "nx.draw(h, with_labels=True, font_size = 24)\n",
    "# from https://stackoverflow.com/questions/25222322/networkx-create-new-graph-of-all-nodes-that-are-a-part-of-4-node-clique"
   ]
  },
  {
   "cell_type": "markdown",
   "metadata": {},
   "source": [
    "# Import Bokeh\n",
    "The networkx module has facilities for displaying a network, but the options are limited. The Bokeh module has a much wider range of possibilities for drawing, inspecting, and exporting a network graph. The `from_networkx` function in Bokeh allows efficient import of nodes and edges."
   ]
  },
  {
   "cell_type": "code",
   "execution_count": null,
   "metadata": {},
   "outputs": [],
   "source": [
    "from bokeh.io import output_file, show\n",
    "from bokeh.models import (BoxSelectTool, Circle, EdgesAndLinkedNodes, HoverTool,\n",
    "                          MultiLine, NodesAndLinkedEdges, Plot, Range1d, TapTool,\n",
    "                         BoxZoomTool, ResetTool, OpenURL, CustomJS, Column, SaveTool)\n",
    "from bokeh.palettes import Spectral4\n",
    "from bokeh.plotting import figure, output_notebook\n",
    "from bokeh.models.graphs import from_networkx\n",
    "from bokeh.models import TextInput, Button\n",
    "output_notebook()"
   ]
  },
  {
   "cell_type": "markdown",
   "metadata": {},
   "source": [
    "# Tooltips for Nodes\n",
    "This graph provides tooltips for each node, containing the name and the degree. By computing other characteristics of the node, one may easily display other attributes in the tooltip. \n",
    "\n",
    "The edges are not displayed by default, but light up when the mouse hovers over a node."
   ]
  },
  {
   "cell_type": "code",
   "execution_count": null,
   "metadata": {},
   "outputs": [],
   "source": [
    "plot = Plot(plot_width=900, plot_height=900,\n",
    "            x_range=Range1d(-1.1, 1.1), y_range=Range1d(-1.1, 1.1))\n",
    "plot.title.text = \"Treasure Archive Drehem\"\n",
    "\n",
    "node_hover_tool = HoverTool(tooltips=[(\"name\", \"@name\"), (\"degree\", \"@degree\")])\n",
    "plot.add_tools(node_hover_tool, BoxZoomTool(), ResetTool())\n",
    "\n",
    "graph_renderer = from_networkx(G, nx.spring_layout, scale=1, center=(0, 0))\n",
    "\n",
    "graph_renderer.node_renderer.glyph = Circle(size='node_size', fill_color=Spectral4[0])\n",
    "graph_renderer.edge_renderer.glyph = MultiLine(line_color=Spectral4[1], line_alpha=0.8, line_width=3)\n",
    "plot.renderers.append(graph_renderer)\n",
    "\n",
    "#output_file(\"interactive_graphs.html\")\n",
    "# when using output_file() bokeh will open a new tab\n",
    "# when using output_file() continue with reset_output()\n",
    "show(plot)"
   ]
  },
  {
   "cell_type": "code",
   "execution_count": null,
   "metadata": {},
   "outputs": [],
   "source": [
    "plot = figure(plot_width=700, plot_height=700,\n",
    "            x_range=Range1d(-1.1,1.1), y_range=Range1d(-1.1,1.1))\n",
    "\n",
    "node_hover_tool = HoverTool(tooltips=[(\"name\", \"@name\"), (\"degree\", \"@degree\")])\n",
    "plot.add_tools(node_hover_tool)\n",
    "plot.title.text = \"Drehem Treasure Archive: the Nodes\"\n",
    "\n",
    "r = from_networkx(G, nx.circular_layout, scale=1, center=(0,0))\n",
    "\n",
    "r.node_renderer.glyph = Circle(size='node_size', fill_color='#2b83ba')\n",
    "r.node_renderer.hover_glyph = Circle(size='node_size', fill_color='#abdda4')\n",
    "\n",
    "r.edge_renderer.glyph = MultiLine(line_alpha=0, line_width='weight')  # zero line alpha\n",
    "r.edge_renderer.hover_glyph = MultiLine(line_color='#abdda4', line_width=5)\n",
    "\n",
    "r.inspection_policy = NodesAndLinkedEdges()\n",
    "plot.renderers.append(r)\n",
    "\n",
    "show(plot)"
   ]
  },
  {
   "cell_type": "code",
   "execution_count": null,
   "metadata": {},
   "outputs": [],
   "source": [
    "plot = Plot(plot_width=1000, plot_height=900,\n",
    "            x_range=Range1d(-2, 2), y_range=Range1d(-2, 2))\n",
    "plot.title.text = \"Drehem Treasure Archive\"\n",
    "\n",
    "graph_renderer = from_networkx(G, nx.circular_layout, scale=1.9, center=(0, 0))\n",
    "#graph_renderer.edge_renderer.data_source.data[\"line_width\"] = [G.get_edge_data(a,b)['weight'] for a, b in G.edges()]\n",
    "#graph_renderer.edge_renderer.glyph.line_width = {'field': 'line_width'}\n",
    "graph_renderer.edge_renderer.glyph.line_alpha = 0.8\n",
    "graph_renderer.node_renderer.selection_glyph = Circle(size='degree', fill_color=Spectral4[2])\n",
    "graph_renderer.node_renderer.hover_glyph = Circle(size='degree', fill_color=Spectral4[1])\n",
    "graph_renderer.node_renderer.glyph = Circle(size='degree', fill_color=Spectral4[0])\n",
    "graph_renderer.edge_renderer.glyph = MultiLine(line_color=\"#CCCCCC\", line_alpha=0.8, line_width = 'weight')\n",
    "graph_renderer.edge_renderer.selection_glyph = MultiLine(line_color=Spectral4[2], line_width = 'weight')\n",
    "graph_renderer.edge_renderer.hover_glyph = MultiLine(line_color=Spectral4[1], line_width =  'weight')\n",
    "\n",
    "graph_renderer.inspection_policy = NodesAndLinkedEdges()\n",
    "graph_renderer.selection_policy = EdgesAndLinkedNodes()\n",
    "\n",
    "node_hover_tool = HoverTool(tooltips=[(\"name\", \"@name\"), ('degree', '@value')])\n",
    "plot.renderers.append(graph_renderer)\n",
    "plot.add_tools(node_hover_tool, BoxZoomTool(), ResetTool())\n",
    "# output_file(\"vis/interactive_graphs.html\")\n",
    "show(plot)"
   ]
  },
  {
   "cell_type": "markdown",
   "metadata": {},
   "source": [
    "# Tooltips for Edges\n",
    "The following code draws a network of the Drehem Treasure Archive. By selecting a node (click on the node) the node and all its direct neighbors are highlighted and the button below the drawing links to the collection of texts in ORACC from which these edges come.\n",
    "# TODO\n",
    "The list of P numbers is currently not unique - a P number may provide more than one relevant edge."
   ]
  },
  {
   "cell_type": "code",
   "execution_count": null,
   "metadata": {},
   "outputs": [],
   "source": [
    "plot = Plot(plot_width = 900, plot_height = 900,\n",
    "            x_range = Range1d(-1.1, 1.1), y_range = Range1d(-1.1, 1.1))\n",
    "plot.title.text = \"Drehem Treasure Archive\"\n",
    "\n",
    "plot.add_tools(HoverTool(tooltips = [('Text ID', '@id_text'), ('start', '@start'), ('end', '@end')]), \n",
    "               TapTool(), BoxSelectTool(), ResetTool(), BoxZoomTool(), SaveTool())\n",
    "\n",
    "graph_renderer = from_networkx(G, nx.circular_layout, scale = 1, center = (0, 0))\n",
    "\n",
    "graph_renderer.node_renderer.glyph = Circle(size = 'node_size', fill_color = Spectral4[0])\n",
    "graph_renderer.node_renderer.selection_glyph = Circle(size = 'node_size', fill_color = Spectral4[2])\n",
    "graph_renderer.node_renderer.hover_glyph = Circle(size = 'node_size', fill_color = Spectral4[1])\n",
    "\n",
    "graph_renderer.edge_renderer.glyph = MultiLine(line_color = \"#CCCCCC\", line_alpha = 0.8, line_width = 5)\n",
    "graph_renderer.edge_renderer.selection_glyph = MultiLine(line_color = Spectral4[2], line_width = 5)\n",
    "graph_renderer.edge_renderer.hover_glyph = MultiLine(line_color = Spectral4[1], line_width = 5)\n",
    "\n",
    "graph_renderer.selection_policy = NodesAndLinkedEdges()\n",
    "graph_renderer.inspection_policy = EdgesAndLinkedNodes()\n",
    "\n",
    "plot.renderers.append(graph_renderer)\n",
    "\n",
    "info_text_ids = TextInput(title = 'Text IDs:', value = '')\n",
    "info_start_end = TextInput(title = 'Start => End Values:', value = '')\n",
    "url = \"http://oracc.org/epsd2/admin/ur3/\"\n",
    "esource = graph_renderer.edge_renderer.data_source\n",
    "code = \"\"\"  start_end_values = []\n",
    "            text_ids = []\n",
    "            for(idx in esource.selected.indices)\n",
    "            {\n",
    "                index = esource.selected.indices[idx]\n",
    "                start_end_values.push(esource.data['start'][index] + '=>' + esource.data['end'][index] ); \n",
    "                text_ids.push(esource.data['id_text'][index]) \n",
    "            }\n",
    "            info_start_end.value = String(start_end_values);\n",
    "            info_text_ids.value = String(text_ids);\"\"\"\n",
    "code2 = \"\"\" urlnew = url.concat(info_text_ids.value);\n",
    "            window.open(urlnew)\"\"\"\n",
    "callback = CustomJS(args = dict(esource = esource, \n",
    "                                info_text_ids = info_text_ids, \n",
    "                                info_start_end = info_start_end), \n",
    "                    code = code)\n",
    "plot.select_one(TapTool).callback = callback\n",
    "button = Button(label=\"Click to open text editions\", button_type=\"success\")\n",
    "button.js_on_click(CustomJS(args = dict(url=url, info_text_ids=info_text_ids), \n",
    "                        code=code2))\n",
    "show(Column(plot, info_start_end, info_text_ids, button))"
   ]
  },
  {
   "cell_type": "code",
   "execution_count": null,
   "metadata": {},
   "outputs": [],
   "source": []
  }
 ],
 "metadata": {
  "kernelspec": {
   "display_name": "Python 3",
   "language": "python",
   "name": "python3"
  },
  "language_info": {
   "codemirror_mode": {
    "name": "ipython",
    "version": 3
   },
   "file_extension": ".py",
   "mimetype": "text/x-python",
   "name": "python",
   "nbconvert_exporter": "python",
   "pygments_lexer": "ipython3",
   "version": "3.7.6"
  }
 },
 "nbformat": 4,
 "nbformat_minor": 4
}
