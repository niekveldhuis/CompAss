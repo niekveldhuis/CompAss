{
 "cells": [
  {
   "cell_type": "markdown",
   "metadata": {},
   "source": [
    "# Analyze the Treasure Archive"
   ]
  },
  {
   "cell_type": "code",
   "execution_count": null,
   "metadata": {},
   "outputs": [],
   "source": [
    "from ipywidgets import interact\n",
    "import ipywidgets as widgets\n",
    "from ipywidgets import Layout\n",
    "import webbrowser    # for opening web pages\n",
    "import networkx as nx\n",
    "import networkx.algorithms.community as nxcom\n",
    "import matplotlib.pyplot as plt\n",
    "from matplotlib.lines import Line2D\n",
    "%matplotlib inline\n",
    "from IPython.display import display, clear_output\n",
    "import pickle\n",
    "import numpy as np"
   ]
  },
  {
   "cell_type": "code",
   "execution_count": null,
   "metadata": {},
   "outputs": [],
   "source": [
    "with open('pickle/treasury.p', 'rb') as f: \n",
    "    G = pickle.load(f)"
   ]
  },
  {
   "cell_type": "markdown",
   "metadata": {},
   "source": [
    "# Compute some node centrality measures\n",
    "We may compute a variety of characteristics of each node in our graph. There are different ways to conceptualize the centrality  of a node in a graph. The number of connections of a node to other nodes in the graph contributes to its *degree centrality*. *In degree centrality* refers to the number of incoming connections (where the node is target), whereas *out degree centrality* relates to the number of outgoing connections (where the node source). *Betweenness centrality* is based on the number of shortest paths between any two nodes in the graph that go through this node. *Eigenvector centrality* is a measure that takes into account the centrality of the nodes that the node under consideration connects to. A node that connects to many low-ranking nodes will receive a low eigenvector centrality score. A node that connects to a few well-connected nodes will receive a high eigenvector centrality score.\n",
    "\n",
    "*Hub* and *authority*, finally, are interrelated measures that were originally developed for ranking web pages. A node with high hub value points towards multiple nodes with high authority value. A node with high authority value has incoming connections from multiple nodes with high hub  value. Hub and authority are thus defined by each other and the process of computing hub and authority values is an iterative one. If `nx.hits()` raises a \"PowerIterationFailedConvergence\" error, you may increase the maximum number of iterations. The default value is `max_iter=100`; use, for instance `hub, authority = nx.hits(G, max_iter = 1000)`.\n",
    "\n",
    "Each of these computations results in a dictionary in which the nodes are keys."
   ]
  },
  {
   "cell_type": "code",
   "execution_count": null,
   "metadata": {},
   "outputs": [],
   "source": [
    "eigenvector = nx.eigenvector_centrality(G)\n",
    "degree_centrality = nx.degree_centrality(G)\n",
    "in_degree_centrality = nx.in_degree_centrality(G)\n",
    "out_degree_centrality = nx.out_degree_centrality(G)\n",
    "closeness_centrality = nx.closeness_centrality(G)\n",
    "betweenness_centrality = nx.betweenness_centrality(G)\n",
    "hub, authority = nx.hits(G, max_iter=600)"
   ]
  },
  {
   "cell_type": "markdown",
   "metadata": {},
   "source": [
    "Print the first 5 highest scoring nodes for each of the centrality measure. In each of these measures we see more or less the same names popping up, but not in the same order. "
   ]
  },
  {
   "cell_type": "code",
   "execution_count": null,
   "metadata": {},
   "outputs": [],
   "source": [
    "centrality = [eigenvector, degree_centrality, in_degree_centrality, out_degree_centrality, closeness_centrality, betweenness_centrality, hub, authority]\n",
    "centrality_labels = [\"eigenvector\", \"degree centrality\", \"in degree centrality\",\n",
    "                     \"out degree centrality\", \"closeness centrality\",\n",
    "                     \"betweenness centrality\", \"hub\", \"authority\"]\n",
    "for idx, m in enumerate(centrality):\n",
    "    s = sorted(m, key=m.get, reverse=True)[:5]\n",
    "    print(f\"{centrality_labels[idx]}: {s}\")"
   ]
  },
  {
   "cell_type": "markdown",
   "metadata": {},
   "source": [
    "# Cliques\n",
    "Cliques are sets of nodes that are all connected to each other. That is, if we have four nodes, A, B, C, and D, all possible connections exist: \n",
    "> A --- B</br>\n",
    "> A --- C</br>\n",
    "> A --- D</br>\n",
    "> B --- C</br>\n",
    "> B --- D</br>\n",
    "> C --- D</br>\n",
    "\n",
    "Cliques may represent powerful centers in a graph, with  information flowing freely within each clique. Cliques are defined only for undirected graphs, so we first have to transform our graph. In order to compute cliques we need to decide the minimum number of nodes - in this case 4.\n",
    "See https://orbifold.net/default/community-detection-using-networkx/\n",
    "\n",
    "A related concept is the k-clique community. A k-clique community consists of adjacent cliques of at least *k* members. Adjacent cliques share at least *k-1* nodes. As we will see, k-clique communities tend to overlap. That is, there are powerful actors who belong to multiple such communities and connect them to each other."
   ]
  },
  {
   "cell_type": "markdown",
   "metadata": {},
   "source": [
    "The following code needs more documentation. Currently, the three clique-communities are colored yellow, blue and brown, but it is necessary to give those actors who appear in more than one clique-community a different color (right now they are probably colored as belonging to the last clique that come around in the loop). Coloring of internal vs. external edges currently does not work."
   ]
  },
  {
   "cell_type": "markdown",
   "metadata": {},
   "source": [
    "The output of `k_clique_communities()` is a list of frozen sets. The clique communities are sorted from largest to smallest."
   ]
  },
  {
   "cell_type": "code",
   "execution_count": null,
   "metadata": {},
   "outputs": [],
   "source": [
    "H = nx.DiGraph.to_undirected(G)\n",
    "k_clique_com = sorted(nxcom.k_clique_communities(H, 4), key=len, reverse=True)\n",
    "# Count the communities\n",
    "N = len(k_clique_com)\n",
    "print(f\"The graph has {N} clique communities.\")"
   ]
  },
  {
   "cell_type": "markdown",
   "metadata": {},
   "source": [
    "Each node in the graph receives an attribute called `cliques`. The default is `{0}` (a set). In iterating through the nodes in the clique communities, the attribute `cliques` is updated so that all nodes that belong to the first k-clique community now have the attribute `cliques = {1}` (again, a set), etc. Nodes that belong to more than one clique community will have more than one clique number in the `cliques` attribute. Each node also receives a `color` attribute, an integer which defaults to `0` for nodes that do not belong to a clique. Nodes that do belong to a clique receive the number of their clique in the `color` attribute, with the exception of the nodes that belong to multiple cliques. Those nodes are important, because they represent the people who hold the various clique communities together (or communicate between them). Those nodes, therefore, receive a separate value that equals the number of clique communities plus 1."
   ]
  },
  {
   "cell_type": "code",
   "execution_count": null,
   "metadata": {},
   "outputs": [],
   "source": [
    "nx.set_node_attributes(H, {0}, \"cliques\") # set {0} as default\n",
    "nx.set_node_attributes(H, 0, \"color\")     # set 0 as default\n",
    "for c, v_c in enumerate(k_clique_com):\n",
    "    for v in v_c:\n",
    "        if H.nodes[v]['color'] > 0:  # node is already in a clique\n",
    "            H.nodes[v]['cliques'].add(c+1) # add clique no. to the set\n",
    "            H.nodes[v]['color'] = N + 1 # special value for nodes in multiple cliques\n",
    "        else:\n",
    "            H.nodes[v]['cliques'] = {c+1}\n",
    "            H.nodes[v]['color'] = c + 1\n",
    "        # Add 1 to save 0 for nodes that are not in a clique\n",
    "            "
   ]
  },
  {
   "cell_type": "markdown",
   "metadata": {},
   "source": [
    "Set edge attributes with the same method. The edge attribute `clique` defaults to zero. Edges between two nodes that belong to the same clique (internal edges) receive the value of that clique. This is done by finding the intersection of the `cliques` attributes of the the nodes. If that intersection is empty (the two nodes do not share membership of a clique community) the value remains 0. If the `cliques` attributes of two nodes do intersect (that is, they share membership of at least one k-clique community), the value of the edge attribute becomes the lowest value in the intersection."
   ]
  },
  {
   "cell_type": "code",
   "execution_count": null,
   "metadata": {},
   "outputs": [],
   "source": [
    "nx.set_edge_attributes(H, 0, \"clique\")  # default is 0\n",
    "for v, w, in H.edges:\n",
    "    c = H.nodes[v]['cliques'].intersection(H.nodes[w]['cliques']) # do the two nodes share a community?\n",
    "    if c:\n",
    "        # Internal edge, mark with community\n",
    "        H.edges[v, w]['clique'] = min(c)"
   ]
  },
  {
   "cell_type": "markdown",
   "metadata": {},
   "source": [
    "Select nodes to display. Nodes that belong to a k-clique community and nodes that have a degree greater than 8 are admitted."
   ]
  },
  {
   "cell_type": "code",
   "execution_count": null,
   "metadata": {},
   "outputs": [],
   "source": [
    "nodes = [x for x, y in H.nodes(data=True) if y[\"color\"] > 0 or y[\"degree\"] > 8] # select nodes\n",
    "I = H.subgraph(nodes)"
   ]
  },
  {
   "cell_type": "markdown",
   "metadata": {},
   "source": [
    "For the color scheme we use a function for creating a discrete colormap, made available by Jake VanderPlas on his github account. The [tool](https://gist.github.com/jakevdp/91077b0cae40f8f8244a) is slightly adapted for the present purposes."
   ]
  },
  {
   "cell_type": "code",
   "execution_count": null,
   "metadata": {},
   "outputs": [],
   "source": [
    "def discrete_cmap(N, base_cmap=None):\n",
    "    \"\"\"Create an N-bin discrete colormap from the specified input map\n",
    "    https://gist.github.com/jakevdp/91077b0cae40f8f8244a\n",
    "    by Jake VanderPlas\"\"\"\n",
    "    base = plt.cm.get_cmap(base_cmap)\n",
    "    color_list = base(np.linspace(0, 1, N))\n",
    "    return color_list"
   ]
  },
  {
   "cell_type": "code",
   "execution_count": null,
   "metadata": {},
   "outputs": [],
   "source": [
    "colmap = discrete_cmap(N+2, \"jet\")\n",
    "colmap[0] = [0, 0, 0, 1]  # 0 = black"
   ]
  },
  {
   "cell_type": "markdown",
   "metadata": {},
   "source": [
    "Use the resulting colormap to assign node colors and edge colors of our subgraph."
   ]
  },
  {
   "cell_type": "code",
   "execution_count": null,
   "metadata": {},
   "outputs": [],
   "source": [
    "node_color = [colmap[I.nodes[v]['color']] for v in I.nodes]\n",
    "edge_color = [colmap[I.edges[v, w]['clique']] for v, w in I.edges]"
   ]
  },
  {
   "cell_type": "code",
   "execution_count": null,
   "metadata": {},
   "outputs": [],
   "source": [
    "labels = nx.get_node_attributes(I, 'name')"
   ]
  },
  {
   "cell_type": "code",
   "execution_count": null,
   "metadata": {},
   "outputs": [],
   "source": [
    "label_pos = {}\n",
    "pos = nx.spring_layout(I)\n",
    "for k, v in pos.items():   # shift position of label slightly away from the node\n",
    "    label_pos[k] = (v[0], v[1]+0.03)\n",
    "fig = plt.figure(figsize=(15, 10))\n",
    "nx.draw(\n",
    "        I,\n",
    "        pos=pos,\n",
    "        node_color=node_color,\n",
    "        edge_color=edge_color, \n",
    "        #node_size = node_size, \n",
    "        with_labels = False,\n",
    "        cmap = colmap, \n",
    "        width = 3, \n",
    "        alpha = .65\n",
    "        #cmap= plt.cm.jet\n",
    "        )\n",
    "nx.draw_networkx_labels(I, label_pos, labels, font_size=16)\n",
    "# the following are fake \"lines\" used to create the legend.\n",
    "legend_elements = [Line2D([1], [0], marker='o', color='w', label=str(i+1),\n",
    "                          markerfacecolor=colmap[i+1], markersize=15) for i, c in enumerate(k_clique_com)]\n",
    "no_com = [Line2D([0], [0], marker='o', color='w', label=\"None\",\n",
    "                          markerfacecolor=colmap[0], markersize=15)]\n",
    "mult_com = [Line2D([0], [0], marker='o', color='w', label=\"Multiple\",\n",
    "                          markerfacecolor=colmap[N+1], markersize=15)]\n",
    "legend_elements = no_com + legend_elements + mult_com\n",
    "fig.legend(handles=legend_elements)\n",
    "plt.show()"
   ]
  },
  {
   "cell_type": "code",
   "execution_count": null,
   "metadata": {},
   "outputs": [],
   "source": [
    "cliques = nx.find_cliques(H)\n",
    "cliques4 = [clq for clq in cliques if len(clq) >= 4]\n",
    "nodes = set(n for clq in cliques4 for n in clq)\n",
    "print(len(cliques4))\n",
    "h = H.subgraph(nodes)\n",
    "fig = plt.figure(figsize=(15, 10))\n",
    "nx.draw(h, with_labels=True, font_size = 24)\n",
    "# from https://stackoverflow.com/questions/25222322/networkx-create-new-graph-of-all-nodes-that-are-a-part-of-4-node-clique"
   ]
  },
  {
   "cell_type": "markdown",
   "metadata": {},
   "source": [
    "# Import Bokeh\n",
    "The networkx module has facilities for displaying a network, but the options are limited. The Bokeh module has a much wider range of possibilities for drawing, inspecting, and exporting a network graph. The `from_networkx` function in Bokeh allows efficient import of nodes and edges."
   ]
  },
  {
   "cell_type": "code",
   "execution_count": null,
   "metadata": {},
   "outputs": [],
   "source": [
    "from bokeh.io import output_file, show\n",
    "from bokeh.models import (BoxSelectTool, Circle, EdgesAndLinkedNodes, HoverTool,\n",
    "                          MultiLine, NodesAndLinkedEdges, Plot, Range1d, TapTool,\n",
    "                         BoxZoomTool, ResetTool, OpenURL, CustomJS, Column, SaveTool)\n",
    "from bokeh.palettes import Spectral4\n",
    "from bokeh.plotting import figure, output_notebook\n",
    "from bokeh.models.graphs import from_networkx\n",
    "from bokeh.models import TextInput, Button\n",
    "output_notebook()"
   ]
  },
  {
   "cell_type": "markdown",
   "metadata": {},
   "source": [
    "# Tooltips for Nodes\n",
    "This graph provides tooltips for each node, containing the name and the degree. By computing other characteristics of the node, one may easily display other attributes in the tooltip. \n",
    "\n",
    "The edges are not displayed by default, but light up when the mouse hovers over a node."
   ]
  },
  {
   "cell_type": "code",
   "execution_count": null,
   "metadata": {},
   "outputs": [],
   "source": [
    "plot = Plot(plot_width=900, plot_height=900,\n",
    "            x_range=Range1d(-1.1, 1.1), y_range=Range1d(-1.1, 1.1))\n",
    "plot.title.text = \"Treasure Archive Drehem\"\n",
    "\n",
    "node_hover_tool = HoverTool(tooltips=[(\"name\", \"@name\"), (\"degree\", \"@degree\")])\n",
    "plot.add_tools(node_hover_tool, BoxZoomTool(), ResetTool())\n",
    "\n",
    "graph_renderer = from_networkx(G, nx.spring_layout, scale=1, center=(0, 0))\n",
    "\n",
    "graph_renderer.node_renderer.glyph = Circle(size='node_size', fill_color=Spectral4[0])\n",
    "graph_renderer.edge_renderer.glyph = MultiLine(line_color=Spectral4[1], line_alpha=0.8, line_width=3)\n",
    "plot.renderers.append(graph_renderer)\n",
    "\n",
    "output_file(\"interactive_graphs.html\")\n",
    "show(plot)"
   ]
  },
  {
   "cell_type": "code",
   "execution_count": null,
   "metadata": {},
   "outputs": [],
   "source": [
    "plot = figure(plot_width=700, plot_height=700,\n",
    "            x_range=Range1d(-1.1,1.1), y_range=Range1d(-1.1,1.1))\n",
    "\n",
    "node_hover_tool = HoverTool(tooltips=[(\"name\", \"@name\"), (\"degree\", \"@degree\")])\n",
    "plot.add_tools(node_hover_tool)\n",
    "plot.title.text = \"Drehem Treasure Archive: the Nodes\"\n",
    "\n",
    "r = from_networkx(G, nx.circular_layout, scale=1, center=(0,0))\n",
    "\n",
    "r.node_renderer.glyph = Circle(size='node_size', fill_color='#2b83ba')\n",
    "r.node_renderer.hover_glyph = Circle(size='node_size', fill_color='#abdda4')\n",
    "\n",
    "r.edge_renderer.glyph = MultiLine(line_alpha=0, line_width='weight')  # zero line alpha\n",
    "r.edge_renderer.hover_glyph = MultiLine(line_color='#abdda4', line_width=5)\n",
    "\n",
    "r.inspection_policy = NodesAndLinkedEdges()\n",
    "plot.renderers.append(r)\n",
    "\n",
    "show(plot)"
   ]
  },
  {
   "cell_type": "code",
   "execution_count": null,
   "metadata": {},
   "outputs": [],
   "source": [
    "plot = Plot(plot_width=1000, plot_height=900,\n",
    "            x_range=Range1d(-2, 2), y_range=Range1d(-2, 2))\n",
    "plot.title.text = \"Drehem Treasure Archive\"\n",
    "\n",
    "graph_renderer = from_networkx(G, nx.circular_layout, scale=1.9, center=(0, 0))\n",
    "#graph_renderer.edge_renderer.data_source.data[\"line_width\"] = [G.get_edge_data(a,b)['weight'] for a, b in G.edges()]\n",
    "#graph_renderer.edge_renderer.glyph.line_width = {'field': 'line_width'}\n",
    "graph_renderer.edge_renderer.glyph.line_alpha = 0.8\n",
    "graph_renderer.node_renderer.selection_glyph = Circle(size='degree', fill_color=Spectral4[2])\n",
    "graph_renderer.node_renderer.hover_glyph = Circle(size='degree', fill_color=Spectral4[1])\n",
    "graph_renderer.node_renderer.glyph = Circle(size='degree', fill_color=Spectral4[0])\n",
    "graph_renderer.edge_renderer.glyph = MultiLine(line_color=\"#CCCCCC\", line_alpha=0.8, line_width = 'weight')\n",
    "graph_renderer.edge_renderer.selection_glyph = MultiLine(line_color=Spectral4[2], line_width = 'weight')\n",
    "graph_renderer.edge_renderer.hover_glyph = MultiLine(line_color=Spectral4[1], line_width =  'weight')\n",
    "\n",
    "graph_renderer.inspection_policy = NodesAndLinkedEdges()\n",
    "graph_renderer.selection_policy = EdgesAndLinkedNodes()\n",
    "\n",
    "node_hover_tool = HoverTool(tooltips=[(\"name\", \"@name\"), ('degree', '@value')])\n",
    "plot.renderers.append(graph_renderer)\n",
    "plot.add_tools(node_hover_tool, BoxZoomTool(), ResetTool())\n",
    "output_file(\"vis/interactive_graphs.html\")\n",
    "show(plot)"
   ]
  },
  {
   "cell_type": "code",
   "execution_count": null,
   "metadata": {},
   "outputs": [],
   "source": [
    "plot = Plot(plot_width=900, plot_height=900,\n",
    "            x_range=Range1d(-1.1, 1.1), y_range=Range1d(-1.1, 1.1))\n",
    "plot.title.text = \"Treasure Archive Drehem\"\n",
    "\n",
    "node_hover_tool = HoverTool(tooltips=[(\"name\", \"@name\"), (\"degree\", \"@degree\")])\n",
    "plot.add_tools(node_hover_tool, BoxZoomTool(), ResetTool())\n",
    "\n",
    "graph_renderer = from_networkx(G, nx.spring_layout, scale=1, center=(0, 0))\n",
    "\n",
    "graph_renderer.node_renderer.glyph = Circle(size='node_size', fill_color=Spectral4[0])\n",
    "graph_renderer.edge_renderer.glyph = MultiLine(line_color=Spectral4[1], line_alpha=0.8, line_width=3)\n",
    "plot.renderers.append(graph_renderer)\n",
    "\n",
    "#output_file(\"interactive_graphs.html\")\n",
    "# when using output_file() bokeh will open a new tab\n",
    "# when using output_file() continue with reset_output()\n",
    "show(plot)"
   ]
  },
  {
   "cell_type": "code",
   "execution_count": null,
   "metadata": {},
   "outputs": [],
   "source": [
    "plot = Plot(plot_width = 900, plot_height = 900,\n",
    "            x_range = Range1d(-1.1, 1.1), y_range = Range1d(-1.1, 1.1))\n",
    "plot.title.text = \"Drehem Treasure Archive\"\n",
    "\n",
    "plot.add_tools(HoverTool(tooltips = [('Text ID', '@id_text'), ('start', '@start'), ('end', '@end')]), \n",
    "               TapTool(), BoxSelectTool(), ResetTool(), BoxZoomTool(), SaveTool())\n",
    "\n",
    "graph_renderer = from_networkx(G, nx.circular_layout, scale = 1, center = (0, 0))\n",
    "\n",
    "graph_renderer.node_renderer.glyph = Circle(size = 'node_size', fill_color = Spectral4[0])\n",
    "graph_renderer.node_renderer.selection_glyph = Circle(size = 'node_size', fill_color = Spectral4[2])\n",
    "graph_renderer.node_renderer.hover_glyph = Circle(size = 'node_size', fill_color = Spectral4[1])\n",
    "\n",
    "graph_renderer.edge_renderer.glyph = MultiLine(line_color = \"#CCCCCC\", line_alpha = 0.8, line_width = 5)\n",
    "graph_renderer.edge_renderer.selection_glyph = MultiLine(line_color = Spectral4[2], line_width = 5)\n",
    "graph_renderer.edge_renderer.hover_glyph = MultiLine(line_color = Spectral4[1], line_width = 5)\n",
    "\n",
    "graph_renderer.selection_policy = NodesAndLinkedEdges()\n",
    "graph_renderer.inspection_policy = EdgesAndLinkedNodes()\n",
    "\n",
    "plot.renderers.append(graph_renderer)\n",
    "\n",
    "info_text_ids = TextInput(title = 'Text IDs:', value = '')\n",
    "info_start_end = TextInput(title = 'Start => End Values:', value = '')\n",
    "url = \"http://oracc.org/epsd2/admin/ur3/\"\n",
    "esource = graph_renderer.edge_renderer.data_source\n",
    "code = \"\"\"  start_end_values = []\n",
    "            text_ids = []\n",
    "            for(idx in esource.selected.indices)\n",
    "            {\n",
    "                index = esource.selected.indices[idx]\n",
    "                start_end_values.push(esource.data['start'][index] + '=>' + esource.data['end'][index] ); \n",
    "                text_ids.push(esource.data['id_text'][index]) \n",
    "            }\n",
    "            info_start_end.value = String(start_end_values);\n",
    "            info_text_ids.value = String(text_ids);\"\"\"\n",
    "code2 = \"\"\" urlnew = url.concat(info_text_ids.value);\n",
    "            window.open(urlnew)\"\"\"\n",
    "callback = CustomJS(args = dict(esource = esource, \n",
    "                                info_text_ids = info_text_ids, \n",
    "                                info_start_end = info_start_end), \n",
    "                    code = code)\n",
    "plot.select_one(TapTool).callback = callback\n",
    "button = Button(label=\"Click to open text editions\", button_type=\"success\")\n",
    "button.js_on_click(CustomJS(args = dict(url=url, info_text_ids=info_text_ids), \n",
    "                        code=code2))\n",
    "show(Column(plot, info_start_end, info_text_ids, button))"
   ]
  },
  {
   "cell_type": "code",
   "execution_count": null,
   "metadata": {},
   "outputs": [],
   "source": [
    "plot = figure(plot_width=700, plot_height=700,\n",
    "            x_range=Range1d(-1.1,1.1), y_range=Range1d(-1.1,1.1))\n",
    "\n",
    "node_hover_tool = HoverTool(tooltips=[(\"name\", \"@name\"), (\"degree\", \"@degree\")])\n",
    "plot.add_tools(node_hover_tool)\n",
    "plot.title.text = \"Drehem Treasure Archive: the Nodes\"\n",
    "\n",
    "r = from_networkx(G, nx.circular_layout, scale=1, center=(0,0))\n",
    "\n",
    "r.node_renderer.glyph = Circle(size='node_size', fill_color='#2b83ba')\n",
    "r.node_renderer.hover_glyph = Circle(size='node_size', fill_color='#abdda4')\n",
    "\n",
    "r.edge_renderer.glyph = MultiLine(line_alpha=0, line_width='weight')  # zero line alpha\n",
    "r.edge_renderer.hover_glyph = MultiLine(line_color='#abdda4', line_width=5)\n",
    "\n",
    "r.inspection_policy = NodesAndLinkedEdges()\n",
    "plot.renderers.append(r)\n",
    "\n",
    "show(plot)"
   ]
  },
  {
   "cell_type": "code",
   "execution_count": null,
   "metadata": {},
   "outputs": [],
   "source": [
    "plot = Plot(plot_width=1000, plot_height=900,\n",
    "            x_range=Range1d(-2, 2), y_range=Range1d(-2, 2))\n",
    "plot.title.text = \"Drehem Treasure Archive\"\n",
    "\n",
    "graph_renderer = from_networkx(G, nx.circular_layout, scale=1.9, center=(0, 0))\n",
    "#graph_renderer.edge_renderer.data_source.data[\"line_width\"] = [G.get_edge_data(a,b)['weight'] for a, b in G.edges()]\n",
    "#graph_renderer.edge_renderer.glyph.line_width = {'field': 'line_width'}\n",
    "graph_renderer.edge_renderer.glyph.line_alpha = 0.8\n",
    "graph_renderer.node_renderer.selection_glyph = Circle(size='degree', fill_color=Spectral4[2])\n",
    "graph_renderer.node_renderer.hover_glyph = Circle(size='degree', fill_color=Spectral4[1])\n",
    "graph_renderer.node_renderer.glyph = Circle(size='degree', fill_color=Spectral4[0])\n",
    "graph_renderer.edge_renderer.glyph = MultiLine(line_color=\"#CCCCCC\", line_alpha=0.8, line_width = 'weight')\n",
    "graph_renderer.edge_renderer.selection_glyph = MultiLine(line_color=Spectral4[2], line_width = 'weight')\n",
    "graph_renderer.edge_renderer.hover_glyph = MultiLine(line_color=Spectral4[1], line_width =  'weight')\n",
    "\n",
    "graph_renderer.inspection_policy = NodesAndLinkedEdges()\n",
    "graph_renderer.selection_policy = EdgesAndLinkedNodes()\n",
    "\n",
    "node_hover_tool = HoverTool(tooltips=[(\"name\", \"@name\"), ('degree', '@value')])\n",
    "plot.renderers.append(graph_renderer)\n",
    "plot.add_tools(node_hover_tool, BoxZoomTool(), ResetTool())\n",
    "# output_file(\"vis/interactive_graphs.html\")\n",
    "show(plot)"
   ]
  },
  {
   "cell_type": "markdown",
   "metadata": {},
   "source": [
    "# Tooltips for Edges\n",
    "The following code draws a network of the Drehem Treasure Archive. By selecting a node (click on the node) the node and all its direct neighbors are highlighted and the button below the drawing links to the collection of texts in ORACC from which these edges come.\n",
    "# TODO\n",
    "The list of P numbers is currently not unique - a P number may provide more than one relevant edge."
   ]
  },
  {
   "cell_type": "code",
   "execution_count": 167,
   "metadata": {},
   "outputs": [
    {
     "data": {
      "text/html": [
       "\n",
       "\n",
       "\n",
       "\n",
       "\n",
       "\n",
       "  <div class=\"bk-root\" id=\"985116b5-fe78-4b9e-9b65-c1cd2dc60384\" data-root-id=\"1760\"></div>\n"
      ]
     },
     "metadata": {},
     "output_type": "display_data"
    },
    {
     "data": {
      "application/javascript": [
       "(function(root) {\n",
       "  function embed_document(root) {\n",
       "    \n",
       "  var docs_json = {\"61499a98-dc05-4ed4-b582-8379a754bf82\":{\"roots\":{\"references\":[{\"attributes\":{\"children\":[{\"id\":\"1671\",\"type\":\"Plot\"},{\"id\":\"1734\",\"type\":\"TextInput\"},{\"id\":\"1733\",\"type\":\"TextInput\"},{\"id\":\"1758\",\"type\":\"Button\"}]},\"id\":\"1760\",\"type\":\"Column\"},{\"attributes\":{\"data_source\":{\"id\":\"1695\",\"type\":\"ColumnDataSource\"},\"glyph\":{\"id\":\"1714\",\"type\":\"MultiLine\"},\"hover_glyph\":{\"id\":\"1724\",\"type\":\"MultiLine\"},\"muted_glyph\":null,\"selection_glyph\":{\"id\":\"1719\",\"type\":\"MultiLine\"},\"view\":{\"id\":\"1697\",\"type\":\"CDSView\"}},\"id\":\"1696\",\"type\":\"GlyphRenderer\"},{\"attributes\":{\"button_type\":\"success\",\"callback\":null,\"icon\":null,\"js_event_callbacks\":{\"button_click\":[{\"id\":\"1759\",\"type\":\"CustomJS\"}]},\"label\":\"Click to open text editions\"},\"id\":\"1758\",\"type\":\"Button\"},{\"attributes\":{\"callback\":null,\"data\":{\"edge_type\":[\"transaction\",\"transaction\",\"transaction\",\"transaction\",\"transaction\",\"transaction\",\"relation\",\"transaction\",\"transaction\",\"transaction\",\"transaction\",\"relation\",\"transaction\",\"transaction\",\"transaction\",\"transaction\",\"transaction\",\"relation\",\"relation\",\"relation\",\"transaction\",\"transaction\",\"transaction\",\"transaction\",\"transaction\",\"transaction\",\"transaction\",\"transaction\",\"transaction\",\"transaction\",\"transaction\",\"transaction\",\"transaction\",\"transaction\",\"transaction\",\"transaction\",\"transaction\",\"transaction\",\"transaction\",\"transaction\",\"transaction\",\"transaction\",\"transaction\",\"transaction\",\"transaction\",\"transaction\",\"transaction\",\"transaction\",\"transaction\",\"transaction\",\"transaction\",\"transaction\",\"transaction\",\"transaction\",\"transaction\",\"transaction\",\"transaction\",\"transaction\",\"transaction\",\"transaction\",\"transaction\",\"transaction\",\"transaction\",\"transaction\",\"transaction\",\"transaction\",\"transaction\",\"transaction\",\"transaction\",\"transaction\",\"transaction\",\"transaction\",\"transaction\",\"transaction\",\"transaction\",\"transaction\",\"transaction\",\"transaction\",\"transaction\",\"transaction\",\"transaction\",\"transaction\",\"transaction\",\"transaction\",\"transaction\",\"transaction\",\"transaction\",\"transaction\",\"transaction\",\"transaction\",\"transaction\",\"transaction\",\"transaction\",\"transaction\",\"transaction\",\"transaction\",\"transaction\",\"transaction\",\"transaction\",\"transaction\",\"transaction\",\"transaction\",\"transaction\",\"transaction\",\"transaction\",\"transaction\",\"transaction\",\"transaction\",\"transaction\",\"transaction\",\"transaction\",\"transaction\",\"transaction\",\"transaction\",\"transaction\",\"transaction\",\"transaction\",\"transaction\",\"transaction\",\"transaction\",\"transaction\",\"transaction\",\"transaction\",\"transaction\",\"transaction\",\"transaction\",\"transaction\",\"transaction\",\"transaction\",\"transaction\",\"transaction\",\"transaction\",\"transaction\",\"transaction\",\"transaction\",\"transaction\",\"transaction\",\"transaction\",\"transaction\",\"transaction\",\"transaction\",\"transaction\",\"transaction\",\"transaction\",\"transaction\",\"transaction\",\"transaction\",\"transaction\",\"transaction\",\"transaction\",\"transaction\",\"transaction\",\"transaction\",\"transaction\",\"relation\",\"transaction\",\"relation\",\"relation\",\"transaction\",\"transaction\",\"relation\",\"relation\",\"transaction\",\"relation\",\"transaction\",\"transaction\",\"relation\",\"relation\",\"relation\",\"relation\",\"relation\",\"relation\",\"transaction\",\"transaction\",\"transaction\",\"transaction\",\"transaction\",\"transaction\",\"transaction\",\"transaction\",\"transaction\",\"transaction\",\"transaction\",\"transaction\",\"transaction\",\"transaction\",\"transaction\",\"transaction\",\"transaction\",\"transaction\",\"transaction\",\"transaction\",\"transaction\",\"transaction\",\"transaction\",\"transaction\",\"transaction\",\"transaction\",\"transaction\",\"transaction\",\"transaction\",\"relation\",\"transaction\",\"transaction\",\"relation\",\"relation\",\"transaction\",\"transaction\",\"transaction\",\"transaction\",\"relation\",\"relation\",\"transaction\",\"transaction\",\"transaction\",\"transaction\",\"relation\",\"transaction\",\"transaction\",\"transaction\",\"transaction\",\"relation\",\"transaction\",\"transaction\",\"transaction\",\"transaction\",\"transaction\",\"transaction\",\"transaction\",\"transaction\",\"transaction\",\"transaction\",\"transaction\",\"transaction\",\"transaction\",\"transaction\",\"transaction\",\"transaction\",\"transaction\",\"transaction\",\"relation\",\"transaction\",\"transaction\",\"transaction\",\"transaction\",\"transaction\",\"transaction\",\"transaction\",\"transaction\",\"transaction\",\"transaction\",\"transaction\",\"transaction\",\"transaction\",\"transaction\",\"transaction\",\"transaction\",\"transaction\",\"transaction\",\"transaction\",\"transaction\",\"relation\",\"transaction\",\"transaction\",\"transaction\",\"transaction\",\"transaction\",\"transaction\",\"transaction\",\"transaction\",\"transaction\",\"transaction\",\"transaction\",\"transaction\",\"transaction\",\"transaction\",\"transaction\",\"transaction\",\"transaction\",\"transaction\",\"transaction\",\"transaction\",\"relation\",\"transaction\",\"relation\",\"relation\",\"relation\",\"transaction\",\"transaction\",\"relation\",\"transaction\",\"transaction\",\"transaction\",\"transaction\",\"transaction\",\"transaction\",\"transaction\",\"relation\",\"transaction\",\"transaction\",\"transaction\",\"transaction\",\"transaction\",\"transaction\",\"transaction\",\"relation\",\"relation\",\"relation\",\"transaction\",\"transaction\",\"transaction\",\"transaction\",\"transaction\",\"transaction\",\"transaction\",\"transaction\",\"transaction\",\"transaction\",\"transaction\",\"transaction\",\"transaction\",\"transaction\",\"transaction\",\"transaction\",\"transaction\",\"transaction\",\"transaction\",\"transaction\",\"relation\",\"transaction\",\"transaction\",\"transaction\",\"transaction\",\"transaction\",\"transaction\",\"transaction\",\"transaction\",\"transaction\",\"transaction\",\"transaction\",\"transaction\",\"transaction\",\"transaction\",\"transaction\",\"relation\",\"transaction\",\"transaction\",\"transaction\",\"transaction\",\"transaction\",\"transaction\",\"transaction\",\"transaction\",\"transaction\",\"transaction\",\"transaction\",\"transaction\",\"transaction\",\"transaction\",\"transaction\",\"transaction\",\"transaction\",\"transaction\",\"transaction\",\"transaction\",\"transaction\",\"transaction\",\"transaction\",\"transaction\",\"transaction\",\"transaction\",\"transaction\",\"transaction\",\"transaction\",\"transaction\",\"transaction\",\"transaction\",\"transaction\",\"transaction\",\"relation\",\"transaction\",\"relation\",\"transaction\",\"relation\",\"transaction\",\"transaction\",\"transaction\",\"transaction\",\"transaction\",\"transaction\",\"transaction\",\"transaction\",\"transaction\",\"relation\",\"transaction\",\"transaction\",\"transaction\",\"transaction\",\"transaction\",\"transaction\",\"relation\",\"transaction\",\"transaction\",\"transaction\",\"transaction\",\"transaction\",\"transaction\",\"transaction\",\"transaction\",\"transaction\",\"transaction\",\"transaction\",\"transaction\",\"transaction\",\"transaction\",\"relation\",\"transaction\",\"transaction\",\"transaction\",\"transaction\",\"transaction\",\"transaction\",\"transaction\",\"transaction\",\"transaction\",\"transaction\",\"transaction\",\"transaction\",\"transaction\",\"transaction\",\"transaction\",\"transaction\",\"transaction\",\"transaction\",\"transaction\",\"transaction\",\"transaction\",\"transaction\",\"transaction\",\"transaction\",\"transaction\",\"transaction\",\"transaction\",\"transaction\",\"relation\",\"transaction\",\"transaction\",\"transaction\",\"transaction\",\"relation\",\"transaction\",\"transaction\",\"transaction\",\"transaction\",\"transaction\",\"transaction\",\"relation\",\"transaction\",\"relation\",\"relation\",\"relation\",\"relation\",\"transaction\",\"transaction\",\"transaction\",\"transaction\",\"transaction\",\"transaction\",\"transaction\",\"transaction\",\"transaction\",\"transaction\",\"transaction\",\"transaction\",\"transaction\",\"transaction\",\"relation\",\"transaction\",\"transaction\",\"relation\",\"transaction\",\"transaction\",\"transaction\",\"transaction\",\"transaction\",\"relation\",\"transaction\",\"transaction\",\"transaction\",\"transaction\",\"transaction\",\"transaction\",\"relation\",\"transaction\",\"relation\",\"transaction\",\"transaction\",\"transaction\",\"transaction\",\"transaction\",\"relation\",\"transaction\",\"transaction\"],\"end\":[\"Lisin[0]PN\",\"Abisimti[0]PN\",\"Haburitum[0]DN\",\"Inanak[1]DN\",\"Ludi\\u014birak[0]PN\",\"lugal[king]N\",\"Balala[0]PN\",\"Damu[1]DN\",\"Gemenannak[0]PN\",\"Gunura[1]DN\",\"Ninisinak[0]PN\",\"Nuhilum[0]PN\",\"\\u0160umah[1]DN\",\"PuzurE\\u0161tar[0]PN\",\"Abisimti[0]PN\",\"Balala[0]PN\",\"Ea\\u02beili[0]PN\",\"Abba[0]PN\",\"Abu\\u1e6dab[0]PN\",\"KAL.bi.si[0]PN\",\"PuzurErra[0]PN\",\"PuzurErra[0]PN\",\"A.har.a[00]PN\",\"Ahuni[0]PN\",\"Anumilum[0]PN\",\"Anunitum[1]DN\",\"AradNannak[0]PN\",\"Aradnanna[0]PN\",\"Atu[0]PN\",\"Aya\\u014bu[0]PN\",\"Balala[0]PN\",\"Dada[0]PN\",\"Enkik[1]DN\",\"Enlil[1]DN\",\"Hendursa\\u014bak[1]DN\",\"Hu.un.x[00]PN\",\"Ilallum[0]PN\",\"Inanak[1]DN\",\"KugUtu[0]PN\",\"La\\u02beili\\u0161[0]PN\",\"Lisin[0]PN\",\"Lugalkugzu[0]PN\",\"Lunanna[0]PN\",\"Nalu[0]PN\",\"Namhani[0]PN\",\"Nanna[1]DN\",\"Ninlil[1]DN\",\"Ninurtak[1]DN\",\"Puzurili[0]PN\",\"Ululal[0]PN\",\"Utami\\u0161aram[0]PN\",\"Watarum[0]PN\",\"lugal[king]N\",\"\\u0160ulginuri[0]PN\",\"KinatU\\u02beu[0]PN\",\"Kubatum[0]PN\",\"TaddinE\\u0161tar[0]PN\",\"\\u0160eteli[0]PN\",\"KA-X[0]PN\",\"Ludi\\u014birak[0]PN\",\"PuzurE\\u0161tar[0]PN\",\"Ludi\\u014birak[0]PN\",\"A.hu.wa.qar[00]PN\",\"Abisimti[0]PN\",\"Ahan\\u0161ibu[0]PN\",\"Amurili[0]PN\",\"AradBa\\u02beuk[0]PN\",\"AradNannak[0]PN\",\"Aradnanna[0]PN\",\"Arad\\u014bu[0]PN\",\"Aya\\u014bu[0]PN\",\"Ba.x[00]PN\",\"Babati[0]PN\",\"Burmama[0]PN\",\"Dada[0]PN\",\"En.u\\u2082[00]PN\",\"Erbeli[0]PN\",\"Errabani[0]PN\",\"Gula[1]DN\",\"Ka.ku\\u2083[00]PN\",\"Lisin[0]PN\",\"Lugalkugzu[0]PN\",\"Lugalmagure[0]PN\",\"Na.x.x[00]PN\",\"Nanna[1]DN\",\"Nannakam[0]PN\",\"Nannapalil[0]PN\",\"Nawirili[0]PN\",\"Ninegalakesi[0]PN\",\"Ningalenunak[0]PN\",\"Ninlilama\\u014bu[0]PN\",\"Ninsumunak[1]DN\",\"Nintinuga[1]DN\",\"NurAdad[0]PN\",\"PuzurErra[0]PN\",\"PuzurE\\u0161tar[0]PN\",\"Puzur\\u0160akan[0]PN\",\"Puzuzu[0]PN\",\"Qurdilum[0]PN\",\"Re\\u02beiSu\\u02been[0]PN\",\"Ribagada[0]PN\",\"Ri\\u1e63ili[0]PN\",\"Suenabu\\u0161u[0]PN\",\"Su\\u02beenal\\u0161u[0]PN\",\"Tahi\\u0161atal[0]PN\",\"Ur\\u0160uSu\\u02beenak[0]PN\",\"Utami\\u0161aram[0]PN\",\"Waqar\\u0160uSu\\u02been[0]PN\",\"X.mu[00]PN\",\"Zuruh[0]PN\",\"lugal[king]N\",\"\\u0160etelili[0]PN\",\"\\u0160uSu\\u02beennaramEnlil[0]PN\",\"\\u0160ulgirama[0]PN\",\"\\u0160u\\u0161ulgir[0]PN\",\"\\u0160u\\u02beE\\u0161tar[0]PN\",\"Anati[0]PN\",\"Beli\\u02beili[0]PN\",\"Hun\\u0160ulgi[0]PN\",\"Ih.ta.na.sa\\u2083.su\\u2082.nu.ut[00]PN\",\"Lugalkugzu[0]PN\",\"Papan\\u0161en[0]PN\",\"Tahi\\u0161atal[0]PN\",\"Urni\\u014bar[0]PN\",\"\\u0160ulgirili[0]PN\",\"\\u0160ulgi\\u02beabi[0]PN\",\"\\u0160u\\u02beE\\u0161tar[0]PN\",\"Dayyanummi\\u0161ar[0]PN\",\"Huba[0]PN\",\"lugal[king]N\",\"A.x[00]PN\",\"Abuni[0]PN\",\"Ahan\\u0161ibu[0]PN\",\"Ahbabu[0]PN\",\"Apila\\u0161a[0]PN\",\"AradNannak[0]PN\",\"Burmama[0]PN\",\"Huba[0]PN\",\"Ilallum[0]PN\",\"Inanak[1]DN\",\"Kur\\u014birini[0]PN\",\"Lubalasagak[0]PN\",\"Lugalinimgina[0]PN\",\"Lugalkugzu[0]PN\",\"Luka\\u0161\\u014bu[0]PN\",\"Nanna[1]DN\",\"Nirida\\u014bal[0]PN\",\"TAR[00]PN\",\"Ur.gu.gub.ba[00]PN\",\"X-ili[0]PN\",\"lugal[king]N\",\"Ahan\\u0161ibu[0]PN\",\"Dayyanummi\\u0161ar[0]PN\",\"lugal[king]N\",\"Amabarag[0]PN\",\"Dayyanummi\\u0161ar[0]PN\",\"Gemenannak[0]PN\",\"Kubatum[0]PN\",\"LU\\u2082.X[0]PN\",\"Ludi\\u014birak[0]PN\",\"ME.I\\u0161taran[0]PN\",\"Meslamta\\u02bee\\u02bea[0]DN\",\"Nimgirinimgina[0]PN\",\"Ninlilemana\\u014b[0]PN\",\"Nur\\u0160ama\\u0161[0]PN\",\"PuzurErra[0]PN\",\"Ta\\u2082.di\\u2083.in.inanna[00]PN\",\"Zanum[0]PN\",\"\\u0160alimni\\u02bea\\u0161[0]PN\",\"\\u0160atsuen[0]PN\",\"\\u0160uenlil[0]PN\",\"\\u0160ulgirama[0]PN\",\"\\u0160u\\u0161ulgir[0]PN\",\"Lugalkugzu[0]PN\",\"GemeEnlilak[0]PN\",\"Ludi\\u014birak[0]PN\",\"Tahi\\u0161atal[0]PN\",\"Urigalim[0]PN\",\"Waqar\\u0160uSu\\u02been[0]PN\",\"\\u0160u\\u02beE\\u0161tar[0]PN\",\"Amurili[0]PN\",\"Apili[0]PN\",\"Dari\\u0161matum[0]PN\",\"Ea\\u02beili[0]PN\",\"Lammar[0]PN\",\"Lisin[0]PN\",\"ME.I\\u0161taran[0]PN\",\"Taddinkiza[0]PN\",\"IbbiSu\\u02beenmi\\u0161ar[0]RN\",\"Li.lu.dan[00]PN\",\"Ludi\\u014birak[0]PN\",\"Lugalkugzu[0]PN\",\"Lugula[0]PN\",\"X[0]PN\",\"Alla\\u0161arrum[0]PN\",\"Baza\\u014bu[0]PN\",\"Budu[0]PN\",\"Ea\\u02beili[0]PN\",\"Kisura[0]PN\",\"Kur\\u014birini[0]PN\",\"Lugalkugzu[0]PN\",\"lugal[king]N\",\"\\u0160uenlil[0]PN\",\"UrBaba[0]PN\",\"Alla\\u0161arrum[0]PN\",\"Apili[0]PN\",\"Ludi\\u014birak[0]PN\",\"\\u0160u\\u02beE\\u0161tar[0]PN\",\"Amurili[0]PN\",\"Ludi\\u014birak[0]PN\",\"\\u0160ulgirgalzu[0]PN\",\"\\u0160uru\\u0161kin[0]PN\",\"Ludi\\u014birak[0]PN\",\"Lunanna[0]PN\",\"Dayyanummi\\u0161ar[0]PN\",\"Enkik[1]DN\",\"lugal[king]N\",\"GemeEnlilak[0]PN\",\"Nurili[0]PN\",\"Abisimti[0]PN\",\"Abumba\\u0161ti[0]PN\",\"Taribu[0]PN\",\"Amurili[0]PN\",\"Lugal\\u0161utur[0]PN\",\"A.tal\\u2082.mar.tu[00]PN\",\"Adalal[0]PN\",\"Amaknum[0]PN\",\"Amarsuenak[1]RN\",\"Babati[0]PN\",\"Bu\\u0161udu[0]PN\",\"Dayya[0]PN\",\"Enkik[1]DN\",\"Ennam\\u0161ita\\u0160ulgirakebagub[0]PN\",\"HidutAmarSu\\u02been[0]PN\",\"Hupamersini[0]PN\",\"Im.da.a\\u2082[00]PN\",\"Kurbilak[0]PN\",\"Ludi\\u014birak[0]PN\",\"Lunanna[0]PN\",\"Ni.za[00]PN\",\"UrNannak[0]PN\",\"Zanum[0]PN\",\"lugal[king]N\",\"\\u0160ulgirgalzu[0]PN\",\"\\u0160u\\u0161ulgir[0]PN\",\"Marad[1]DN\",\"\\u0160unin\\u0161ubur[0]PN\",\"Atarda[0]PN\",\"Kinamu\\u0161a[0]PN\",\"Lala[0]PN\",\"Lunanna[0]PN\",\"Inimanizi[0]PN\",\"Ninegalak[1]DN\",\"Ninlil[1]DN\",\"Nuska[1]DN\",\"\\u0160uSu\\u02beenlilabbirha\\u1e6d\\u1e6dam[0]PN\",\"\\u0160uSu\\u02beenmigirE\\u0161tar[0]PN\",\"Da\\u0161ug[0]PN\",\"Nawar\\u0161en[0]PN\",\"PuzurA\\u0161\\u0161ur[0]PN\",\"Zeri[0]PN\",\"Il\\u0161urabi[0]PN\",\"A.da[00]PN\",\"Idabeli[0]PN\",\"Nur\\u0161ulgi[0]PN\",\"Palilum[0]PN\",\"Zizuh[0]PN\",\"Dayyanummi\\u0161ar[0]PN\",\"Inanak[1]DN\",\"Meslamta\\u02bee\\u02bea[0]DN\",\"Ninlil[1]DN\",\"PuzurErra[0]PN\",\"Ureninnuk[0]PN\",\"sukkalmah[official]N\",\"\\u014airine\\u02beisag[0]PN\",\"Puzur-X[0]PN\",\"Ludi\\u014birak[0]PN\",\"Abisimti[0]PN\",\"Ea\\u02beili[0]PN\",\"Ludi\\u014birak[0]PN\",\"Ma.lu.um[00]PN\",\"PuzurErra[0]PN\",\"PuzurA\\u0161\\u0161ur[0]PN\",\"Edudu\\u02bea[0]PN\",\"AradNannak[0]PN\",\"HidutAmarSu\\u02been[0]PN\",\"\\u0160uSu\\u02beenmigirE\\u0161tar[0]PN\",\"Ludi\\u014birak[0]PN\",\"PuzurErra[0]PN\",\"Simat\\u0161arrim[0]PN\",\"UrHendursa\\u014bak[0]PN\",\"\\u0160etelili[0]PN\",\"lugal[king]N\",\"\\u0160u\\u02beEa[0]PN\",\"Abba[0]PN\",\"Anatal[0]PN\",\"Irihilum[0]PN\",\"lugal[king]N\",\"Lunanna[0]PN\",\"Utu\\u02beadgal[0]PN\",\"Abu\\u1e6dab[0]PN\",\"Dayyanummi\\u0161ar[0]PN\",\"I.tu.tu[00]PN\",\"lugal[king]N\",\"Nirida\\u014bal[0]PN\",\"\\u0160e\\u0161kala[0]PN\",\"Adadillat[0]PN\",\"Dayya[0]PN\",\"PuzurErra[0]PN\",\"Ribagada[0]PN\",\"Ludi\\u014birak[0]PN\",\"Utu\\u02beadgal[0]PN\",\"A.na[00]PN\",\"Dinikun[0]PN\",\"I\\u1e6dib\\u0161inat[0]PN\",\"Kur\\u014birini[0]PN\",\"Nurili[0]PN\",\"\\u0160ulgirkalamametebi[0]PN\",\"\\u0160u\\u02beE\\u0161tar[0]PN\",\"Ninkala[0]PN\",\"\\u0160ulgisimti[0]PN\",\"Ginuna[0]PN\",\"Nirida\\u014bal[0]PN\",\"Utu\\u02beadgal[0]PN\",\"sukkalmah[official]N\",\"\\u0160u\\u02beE\\u0161tar[0]PN\",\"Ursuen[0]PN\",\"Zariq[0]PN\",\"E\\u0161tarnada[0]PN\",\"Ludi\\u014birak[0]PN\",\"Ilabu\\u02beigadu[0]PN\",\"Urdamu[0]PN\",\"Ilabu\\u02beigadu[0]PN\",\"Lunanna[0]PN\",\"Ili\\u1e63illi[0]PN\",\"Lunanna[0]PN\",\"\\u0160uenlil[0]PN\",\"\\u1e62illu\\u0161Dagan[0]PN\",\"Ilabu\\u02beigadu[0]PN\",\"PuzurErra[0]PN\",\"Ribagada[0]PN\",\"Kisura[0]PN\",\"Kur\\u014birini[0]PN\",\"Lugula[0]PN\",\"Batugrad[0]PN\",\"Dayyanummi\\u0161ar[0]PN\",\"Utu\\u02beadgal[0]PN\",\"Adadillat[0]PN\",\"LugalAnabtum[0]PN\",\"sukkalmah[official]N\",\"Ludi\\u014birak[0]PN\",\"Lugalmunizi[0]PN\",\"PuzurErra[0]PN\",\"Puzurili[0]PN\",\"Amurili[0]PN\",\"Dayyanummi\\u0161ar[0]PN\",\"Nurili[0]PN\",\"UrA\\u0161arak[0]PN\",\"UrKugnunak[0]PN\",\"\\u0160u\\u02beE\\u0161tar[0]PN\",\"Galzudabulsin[0]PN\",\"I.tu.tu[00]PN\",\"Kur\\u014birini[0]PN\",\"Ninlilama\\u014bu[0]PN\",\"Nurmati\\u0161u[0]PN\",\"Rigmu\\u0161[0]PN\",\"Su\\u02beenillat[0]PN\",\"lugal[king]N\",\"\\u0160etelili[0]PN\",\"Ea\\u02beili[0]PN\",\"Lunanna[0]PN\",\"ME.E\\u2082.a[0]PN\",\"Ri.x[00]PN\",\"UrNannak[0]PN\",\"\\u0160atsuen[0]PN\",\"\\u0160e\\u0161kala[0]PN\",\"Zariq[0]PN\",\"\\u0160ama\\u0161tillati[0]PN\",\"ME.E\\u2082.a[0]PN\",\"Taddinkiza[0]PN\",\"Nurili[0]PN\",\"Ninhursa\\u014bak[1]DN\",\"Lugal\\u0161utur[0]PN\",\"Nawar\\u0161en[0]PN\",\"Turamdagan[0]PN\",\"Kubatum[0]PN\",\"Ludi\\u014birak[0]PN\",\"Waqar\\u0160uSu\\u02been[0]PN\",\"Allatum[0]DN\",\"Ninkilim[0]PN\",\"Abuni[0]PN\",\"Abisimti[0]PN\",\"\\u0160agtakugzu[0]PN\",\"UrBaba[0]PN\",\"\\u0160u\\u02beE\\u0161tar[0]PN\",\"KAL.bi.si[0]PN\",\"Enni\\u0161Agum[0]PN\",\"\\u1e62illu\\u0161Dagan[0]PN\",\"Gula[1]DN\",\"Ninni\\u014bar[0]DN\",\"A.na[00]PN\",\"Nintinuga[1]DN\",\"X.mah[00]PN\",\"X.mu[00]PN\",\"A.ki[00]PN\",\"Mulliltumnuri[0]PN\",\"Ninhursa\\u014bak[1]DN\",\"Ba\\u02beu[0]DN\",\"Nin\\u014birsuk[1]DN\",\"Abisimti[0]PN\",\"Kubatum[0]PN\",\"Lugalkugzu[0]PN\",\"Lugalmunizi[0]PN\",\"AtuMamak[0]PN\",\"Nuhilum[0]PN\",\"UrBaba[0]PN\",\"Urnan\\u0161e[0]PN\",\"E\\u0161tarnada[0]PN\",\"Libur\\u0160ulgi[0]PN\",\"LugalUrimeki\\u02bea\\u014ba[0]PN\",\"Nanna[1]DN\",\"AradNannak[0]PN\",\"Hun\\u0160ulgi[0]PN\",\"Kurbilak[0]PN\",\"Nur\\u0160ama\\u0161[0]PN\",\"Ribagada[0]PN\",\"Tahi\\u0161atal[0]PN\",\"Turamdagan[0]PN\",\"\\u0160u\\u0161ulgir[0]PN\",\"\\u0160u\\u02beE\\u0161tar[0]PN\",\"Gudea[0]PN\",\"\\u0160uMama[0]PN\",\"Lugalkugzu[0]PN\",\"ME.I\\u0161taran[0]PN\",\"Matili[0]PN\",\"lugal[king]N\",\"Abisimti[0]PN\",\"Taburha\\u1e6d\\u1e6dum[0]PN\",\"Taribu[0]PN\",\"Lugalkugzu[0]PN\",\"Lugalkugzu[0]PN\",\"Lugalkugzu[0]PN\",\"PuzurErra[0]PN\",\"Ahuni[0]PN\",\"\\u0160u\\u0161ug[0]PN\",\"Ludi\\u014birak[0]PN\",\"Utu\\u02beadgal[0]PN\",\"Ludi\\u014birak[0]PN\",\"Lugalkugzu[0]PN\",\"Lunanna[0]PN\",\"Beli\\u02beili[0]PN\",\"Lugalkugzu[0]PN\",\"Ilallum[0]PN\",\"Dayyanummi\\u0161ar[0]PN\",\"Ludi\\u014birak[0]PN\",\"Lugal\\u0161utur[0]PN\",\"UrNingalak[0]PN\",\"Dayyanummi\\u0161ar[0]PN\",\"Dari\\u0161matum[0]PN\",\"Mulliltumnuri[0]PN\",\"Inimanizi[0]PN\",\"Lu\\u02beAmarSu\\u02beenak[0]PN\",\"Nanna[1]DN\",\"Ubarum[0]PN\",\"Abisimti[0]PN\",\"Ili\\u1e63illi[0]PN\",\"Kubatum[0]PN\",\"Lunanna[0]PN\",\"Masagsag[0]PN\",\"Enlil[1]DN\",\"Ninlil[1]DN\",\"Beli\\u02beili[0]PN\",\"Amurili[0]PN\",\"Nurili[0]PN\",\"Lunanna[0]PN\",\"Amurili[0]PN\",\"KinatNunu[0]PN\",\"Urmes[0]PN\",\"AbuniramAni[0]PN\",\"Ilallum[0]PN\",\"PuzurErra[0]PN\",\"Dayyanummi\\u0161ar[0]PN\",\"PuzurErra[0]PN\",\"Ribagada[0]PN\",\"Lunanna[0]PN\",\"Taburha\\u1e6d\\u1e6dum[0]PN\",\"Hun\\u0160ulgi[0]PN\",\"Luenki[0]PN\",\"Ur\\u0161ulpaeak[0]PN\",\"\\u0160ennam[0]PN\",\"Belikin[0]PN\",\"Lugalkugzu[0]PN\",\"LugalAnabtum[0]PN\",\"Lugalkugzu[0]PN\",\"Zeri[0]PN\",\"X[0]PN\",\"Waqar\\u0160uSu\\u02been[0]PN\",\"Ludi\\u014birak[0]PN\",\"Puzurili[0]PN\",\"\\u0160ulgirkalamametebi[0]PN\",\"lugal[king]N\",\"Ludi\\u014birak[0]PN\",\"Ludi\\u014birak[0]PN\"],\"id_text\":[\"P144357\",\"P142964\",\"P142964\",\"P142964\",\"P126577,P144357\",\"P407247\",\"P103787\",\"P144477\",\"P332256\",\"P144477\",\"P144477\",\"P111905\",\"P144477\",\"P141796\",\"P141796\",\"P144954\",\"P125628\",\"P103121\",\"P134759\",\"P134756\",\"P103369\",\"P134759\",\"P131656\",\"P134758\",\"P103787\",\"P118491\",\"P103763,P211187\",\"P134758\",\"P117455\",\"P143617\",\"P103787\",\"P103763,P103787\",\"P103980\",\"P103351\",\"P103351\",\"P111906\",\"P103369,P303586\",\"P102924\",\"P104058\",\"P111904\",\"P407247\",\"P102855\",\"P127304\",\"P124927\",\"P126485\",\"P131656\",\"P103351\",\"P103351\",\"P103916\",\"P103348\",\"P103022,P103638,P124590\",\"P512773\",\"P103022,P103763,P103787,P111906,P118491\",\"P103787\",\"P301283\",\"P301283\",\"P301283\",\"P301283\",\"P131636\",\"P144477\",\"P141796\",\"P512776\",\"P108670\",\"P144477\",\"P111905\",\"P144954\",\"P303682\",\"P103506,P103793,P124926,P124927,P125872,P128644,P218167,P303682\",\"P134756,P134757\",\"P131638\",\"P200373\",\"P116196\",\"P129775\",\"P332169\",\"P108670\",\"P108670\",\"P116196\",\"P332169\",\"P103814,P104110\",\"P108670\",\"P142964\",\"P103308,P127669\",\"P134756\",\"P126360\",\"P212348\",\"P124926\",\"P144477\",\"P103086,P116196\",\"P103814\",\"P212348\",\"P111903\",\"P103302\",\"P131639\",\"P104185\",\"P124927\",\"P144954\",\"P332169\",\"P332169\",\"P127667\",\"P103277\",\"P128340\",\"P111905,P116196\",\"P300949\",\"P125033\",\"P108670\",\"P108670\",\"P113886\",\"P134760\",\"P126360\",\"P108670\",\"P104110\",\"P103804,P111905\",\"P111903\",\"P134761\",\"P111903\",\"P113914\",\"P125850\",\"P201026\",\"P127861\",\"P130904\",\"P141790\",\"P124226\",\"P290169\",\"P290169\",\"P127861\",\"P127861\",\"P127861\",\"P134047\",\"P134045\",\"P134045\",\"P106862\",\"P107887,P134039\",\"P134038,P134040,P134045\",\"P134039\",\"P134039\",\"P103951,P131654,P134041,P499319\",\"P134039\",\"P103541,P134039,P134040,P134048\",\"P106862\",\"P103996\",\"P134042\",\"P116204\",\"P131654,P499319\",\"P134039\",\"P116204\",\"P116204\",\"P106862\",\"P134038\",\"P103996\",\"P499322\",\"P134040,P134042\",\"P103541,P134047\",\"P134043\",\"P103541\",\"P321080\",\"P103996\",\"P332256\",\"P144477,P141796,P332256\",\"P103141\",\"P103086,P103277,P103302,P103814,P104110,P125033,P131639,P144477,P212348\",\"P113886,P124925,P127667,P135067\",\"P117455\",\"P141796\",\"P104185\",\"P141796\",\"P102924,P103351,P103980,P117455,P118491,P127304\",\"P293217\",\"P103951\",\"P141796\",\"P134758\",\"P117445,P134759,P321080\",\"P134761\",\"P141796\",\"P414557\",\"P102169\",\"P127666\",\"P113826\",\"P106150\",\"P141796\",\"P125777\",\"P116201\",\"P135067\",\"P134758\",\"P125628\",\"P106289\",\"P125753,P126577\",\"P124925\",\"P134758\",\"P200026\",\"P124619\",\"P135151\",\"P102169,P104018,P116210,P125951,P125959,P126044,P144365,P144782,P145356\",\"P145198\",\"P141796\",\"P135067\",\"P132148\",\"P117445\",\"P117445,P132148\",\"P117445\",\"P143716\",\"P106144\",\"P407247\",\"P117445\",\"P106289\",\"P135067\",\"P135067\",\"P127667\",\"P129753\",\"P116201\",\"P116201\",\"P125872\",\"P124318\",\"P124318\",\"P103282\",\"P103282,P131578\",\"P127304\",\"P111906\",\"P200026\",\"P104784,P116200,P126029,P134312,P200028,P299556\",\"P141796\",\"P141796\",\"P111903\",\"P129700,P201042\",\"P113712\",\"P103951\",\"P211187\",\"P124926\",\"P103506\",\"P125999\",\"P128644\",\"P141796\",\"P103793\",\"P103793\",\"P218167\",\"P332256\",\"P499319\",\"P103506\",\"P144305\",\"P134041\",\"P124926\",\"P111903\",\"P103951\",\"P103793\",\"P125872\",\"P499319\",\"P129775\",\"P129775\",\"P141796\",\"P141796\",\"P141796\",\"P141796\",\"P141796\",\"P141796\",\"P141796\",\"P141796\",\"P296650\",\"P111903\",\"P134756\",\"P134756\",\"P134757\",\"P134756\",\"P141796\",\"P131638\",\"P131638\",\"P131638\",\"P131638\",\"P499321\",\"P499321\",\"P117455\",\"P117455\",\"P117455\",\"P103494,P117033,P131678\",\"P299073\",\"P200373\",\"P126051\",\"P127668\",\"P104098\",\"P141796\",\"P113021\",\"P512777\",\"P113021\",\"P109268\",\"P134757\",\"P108385\",\"P103763\",\"P218167\",\"P111903\",\"P103380\",\"P103347\",\"P512776\",\"P303586\",\"P303586\",\"P135056\",\"P135056\",\"P103121\",\"P131654\",\"P103121\",\"P103787\",\"P113850\",\"P135196\",\"P134759\",\"P131578\",\"P113699\",\"P113699\",\"P123610\",\"P103752\",\"P512776\",\"P141796\",\"P103752\",\"P332256\",\"P127666\",\"P122581\",\"P116196\",\"P125850\",\"P125850\",\"P113749,P113750\",\"P125632\",\"P122747\",\"P125850\",\"P125850\",\"P125850\",\"P125632\",\"P125632\",\"P122581\",\"P125632\",\"P124322,P125777\",\"P122747\",\"P103799\",\"P300949\",\"P299538\",\"P116199\",\"P126009\",\"P116199\",\"P113845\",\"P106380\",\"P298413\",\"P131578\",\"P134759\",\"P116199\",\"P134759\",\"P332256\",\"P111897\",\"P111897\",\"P115630\",\"P104098\",\"P104202\",\"P122581\",\"P512776\",\"P111905\",\"P135056\",\"P124318\",\"P141796\",\"P104144\",\"P433582\",\"P129700,P201042\",\"P127301\",\"P109182,P116200,P126029,P144136,P145204,P299556\",\"P291956\",\"P200497\",\"P291956\",\"P126009\",\"P123610\",\"P135056\",\"P126009\",\"P134011\",\"P135198\",\"P135194\",\"P113656\",\"P135056\",\"P126009\",\"P111903\",\"P126009\",\"P126009\",\"P111903\",\"P126009\",\"P111903\",\"P134011\",\"P134011\",\"P135198\",\"P134758\",\"P112830\",\"P127667\",\"P123699\",\"P134756\",\"P293217\",\"P125999\",\"P293217\",\"P141796\",\"P103141\",\"P103141\",\"P107887\",\"P111904\",\"P111904\",\"P107887\",\"P129753\",\"P134756\",\"P124926\",\"P124926\",\"P144477\",\"P144477\",\"P116196\",\"P103086\",\"P103086\",\"P103086\",\"P104185\",\"P104185\",\"P127667\",\"P103277\",\"P103277\",\"P332256\",\"P125999\",\"P125959\",\"P332256\",\"P116196\",\"P111905\",\"P106289\",\"P116196\",\"P300949\",\"P300949\",\"P125033\",\"P125033\",\"P125999\",\"P116209\",\"P296650\",\"P110441\",\"P125999\",\"P296650\",\"P125999\",\"P296650\",\"P116209\",\"P108670\",\"P108670\",\"P103638\",\"P113886\",\"P124590\",\"P103638\",\"P141796\",\"P134760\",\"P111903\",\"P101430\",\"P126814\",\"P125959\",\"P131649\",\"P144356\",\"P131604\",\"P131604\",\"P122581\",\"P125022\",\"P103803\",\"P111906\",\"P104781\",\"P125885,P126380,P126546,P143502\",\"P103380\",\"P499320\",\"P103269\",\"P142360\",\"P134046\",\"P134046\",\"P134758\",\"P104185\",\"P141796\",\"P332256\",\"P141796\",\"P128401\",\"P141796,P332256\",\"P106380\",\"P141796\",\"P301132\",\"P124226\",\"P512773\",\"P512773\",\"P512777\",\"P201042\",\"P109182,P130417\",\"P113845\",\"P129700\",\"P293217\",\"P135148\",\"P301283\",\"P512776\",\"P128401\",\"P134044\",\"P102853,P103798,P143727,P480801\",\"P332256\",\"P301132\",\"P134760\",\"P290169\",\"P103121\",\"P103121\",\"P141796\",\"P141796\",\"P101430,P126814,P144254,P432670\",\"P111905\",\"P129821\",\"P134756\",\"P141796\",\"P141796\",\"P104113\",\"P512775\",\"P103799\",\"P103022\",\"P131604\",\"P131604\"],\"start\":[\"A.da.gal.\\u0161um[00]PN\",\"Lisin[0]PN\",\"Lisin[0]PN\",\"Lisin[0]PN\",\"Lisin[0]PN\",\"Lisin[0]PN\",\"A.ga.num\\u2082[00]PN\",\"Abisimti[0]PN\",\"Abisimti[0]PN\",\"Abisimti[0]PN\",\"Abisimti[0]PN\",\"Abisimti[0]PN\",\"Abisimti[0]PN\",\"Abumba\\u0161ti[0]PN\",\"PuzurE\\u0161tar[0]PN\",\"PuzurE\\u0161tar[0]PN\",\"PuzurE\\u0161tar[0]PN\",\"Abuni[0]PN\",\"Abuni[0]PN\",\"Abuni[0]PN\",\"Abuni[0]PN\",\"Abu\\u1e6dab[0]PN\",\"PuzurErra[0]PN\",\"PuzurErra[0]PN\",\"PuzurErra[0]PN\",\"PuzurErra[0]PN\",\"PuzurErra[0]PN\",\"PuzurErra[0]PN\",\"PuzurErra[0]PN\",\"PuzurErra[0]PN\",\"PuzurErra[0]PN\",\"PuzurErra[0]PN\",\"PuzurErra[0]PN\",\"PuzurErra[0]PN\",\"PuzurErra[0]PN\",\"PuzurErra[0]PN\",\"PuzurErra[0]PN\",\"PuzurErra[0]PN\",\"PuzurErra[0]PN\",\"PuzurErra[0]PN\",\"PuzurErra[0]PN\",\"PuzurErra[0]PN\",\"PuzurErra[0]PN\",\"PuzurErra[0]PN\",\"PuzurErra[0]PN\",\"PuzurErra[0]PN\",\"PuzurErra[0]PN\",\"PuzurErra[0]PN\",\"PuzurErra[0]PN\",\"PuzurErra[0]PN\",\"PuzurErra[0]PN\",\"PuzurErra[0]PN\",\"PuzurErra[0]PN\",\"PuzurErra[0]PN\",\"AbuniramAni[0]PN\",\"AbuniramAni[0]PN\",\"AbuniramAni[0]PN\",\"AbuniramAni[0]PN\",\"Kubatum[0]PN\",\"Kubatum[0]PN\",\"Kubatum[0]PN\",\"Adadillat[0]PN\",\"Ludi\\u014birak[0]PN\",\"Ludi\\u014birak[0]PN\",\"Ludi\\u014birak[0]PN\",\"Ludi\\u014birak[0]PN\",\"Ludi\\u014birak[0]PN\",\"Ludi\\u014birak[0]PN\",\"Ludi\\u014birak[0]PN\",\"Ludi\\u014birak[0]PN\",\"Ludi\\u014birak[0]PN\",\"Ludi\\u014birak[0]PN\",\"Ludi\\u014birak[0]PN\",\"Ludi\\u014birak[0]PN\",\"Ludi\\u014birak[0]PN\",\"Ludi\\u014birak[0]PN\",\"Ludi\\u014birak[0]PN\",\"Ludi\\u014birak[0]PN\",\"Ludi\\u014birak[0]PN\",\"Ludi\\u014birak[0]PN\",\"Ludi\\u014birak[0]PN\",\"Ludi\\u014birak[0]PN\",\"Ludi\\u014birak[0]PN\",\"Ludi\\u014birak[0]PN\",\"Ludi\\u014birak[0]PN\",\"Ludi\\u014birak[0]PN\",\"Ludi\\u014birak[0]PN\",\"Ludi\\u014birak[0]PN\",\"Ludi\\u014birak[0]PN\",\"Ludi\\u014birak[0]PN\",\"Ludi\\u014birak[0]PN\",\"Ludi\\u014birak[0]PN\",\"Ludi\\u014birak[0]PN\",\"Ludi\\u014birak[0]PN\",\"Ludi\\u014birak[0]PN\",\"Ludi\\u014birak[0]PN\",\"Ludi\\u014birak[0]PN\",\"Ludi\\u014birak[0]PN\",\"Ludi\\u014birak[0]PN\",\"Ludi\\u014birak[0]PN\",\"Ludi\\u014birak[0]PN\",\"Ludi\\u014birak[0]PN\",\"Ludi\\u014birak[0]PN\",\"Ludi\\u014birak[0]PN\",\"Ludi\\u014birak[0]PN\",\"Ludi\\u014birak[0]PN\",\"Ludi\\u014birak[0]PN\",\"Ludi\\u014birak[0]PN\",\"Ludi\\u014birak[0]PN\",\"Ludi\\u014birak[0]PN\",\"Ludi\\u014birak[0]PN\",\"Ludi\\u014birak[0]PN\",\"Ludi\\u014birak[0]PN\",\"Ludi\\u014birak[0]PN\",\"Ludi\\u014birak[0]PN\",\"Agu[0]PN\",\"\\u0160u\\u02beE\\u0161tar[0]PN\",\"\\u0160u\\u02beE\\u0161tar[0]PN\",\"\\u0160u\\u02beE\\u0161tar[0]PN\",\"\\u0160u\\u02beE\\u0161tar[0]PN\",\"\\u0160u\\u02beE\\u0161tar[0]PN\",\"\\u0160u\\u02beE\\u0161tar[0]PN\",\"\\u0160u\\u02beE\\u0161tar[0]PN\",\"\\u0160u\\u02beE\\u0161tar[0]PN\",\"\\u0160u\\u02beE\\u0161tar[0]PN\",\"\\u0160u\\u02beE\\u0161tar[0]PN\",\"\\u0160u\\u02beE\\u0161tar[0]PN\",\"Ahan\\u0161ibu[0]PN\",\"Ahan\\u0161ibu[0]PN\",\"Ahan\\u0161ibu[0]PN\",\"Dayyanummi\\u0161ar[0]PN\",\"Dayyanummi\\u0161ar[0]PN\",\"Dayyanummi\\u0161ar[0]PN\",\"Dayyanummi\\u0161ar[0]PN\",\"Dayyanummi\\u0161ar[0]PN\",\"Dayyanummi\\u0161ar[0]PN\",\"Dayyanummi\\u0161ar[0]PN\",\"Dayyanummi\\u0161ar[0]PN\",\"Dayyanummi\\u0161ar[0]PN\",\"Dayyanummi\\u0161ar[0]PN\",\"Dayyanummi\\u0161ar[0]PN\",\"Dayyanummi\\u0161ar[0]PN\",\"Dayyanummi\\u0161ar[0]PN\",\"Dayyanummi\\u0161ar[0]PN\",\"Dayyanummi\\u0161ar[0]PN\",\"Dayyanummi\\u0161ar[0]PN\",\"Dayyanummi\\u0161ar[0]PN\",\"Dayyanummi\\u0161ar[0]PN\",\"Dayyanummi\\u0161ar[0]PN\",\"Dayyanummi\\u0161ar[0]PN\",\"Dayyanummi\\u0161ar[0]PN\",\"Huba[0]PN\",\"Huba[0]PN\",\"Huba[0]PN\",\"lugal[king]N\",\"lugal[king]N\",\"lugal[king]N\",\"lugal[king]N\",\"lugal[king]N\",\"lugal[king]N\",\"lugal[king]N\",\"lugal[king]N\",\"lugal[king]N\",\"lugal[king]N\",\"lugal[king]N\",\"lugal[king]N\",\"lugal[king]N\",\"lugal[king]N\",\"lugal[king]N\",\"lugal[king]N\",\"lugal[king]N\",\"lugal[king]N\",\"lugal[king]N\",\"Ahi\\u02beilum[0]PN\",\"Lugalkugzu[0]PN\",\"Lugalkugzu[0]PN\",\"Lugalkugzu[0]PN\",\"Lugalkugzu[0]PN\",\"Lugalkugzu[0]PN\",\"Lugalkugzu[0]PN\",\"Ahuni[0]PN\",\"Ahuni[0]PN\",\"Ahuni[0]PN\",\"Ahuni[0]PN\",\"Ahuni[0]PN\",\"Ahuni[0]PN\",\"Ahuni[0]PN\",\"Ahuni[0]PN\",\"Amurili[0]PN\",\"Amurili[0]PN\",\"Amurili[0]PN\",\"Amurili[0]PN\",\"Amurili[0]PN\",\"Amurili[0]PN\",\"Apili[0]PN\",\"Ea\\u02beili[0]PN\",\"Ea\\u02beili[0]PN\",\"Ea\\u02beili[0]PN\",\"Ea\\u02beili[0]PN\",\"Ea\\u02beili[0]PN\",\"Ea\\u02beili[0]PN\",\"Ea\\u02beili[0]PN\",\"Ea\\u02beili[0]PN\",\"Lammar[0]PN\",\"ME.I\\u0161taran[0]PN\",\"ME.I\\u0161taran[0]PN\",\"ME.I\\u0161taran[0]PN\",\"Ahu\\u0161uni[0]PN\",\"Alid[0]PN\",\"Alid[0]PN\",\"Alla[0]PN\",\"Am.ni.ni[00]PN\",\"\\u0160uru\\u0161kin[0]PN\",\"AmurEa[0]PN\",\"Lunanna[0]PN\",\"Lunanna[0]PN\",\"Lunanna[0]PN\",\"IbbiSu\\u02beenmi\\u0161ar[0]RN\",\"Lugula[0]PN\",\"X[0]PN\",\"X[0]PN\",\"X[0]PN\",\"Anebabdu[0]PN\",\"Anunitum[1]DN\",\"AradNannak[0]PN\",\"AradNannak[0]PN\",\"AradNannak[0]PN\",\"AradNannak[0]PN\",\"AradNannak[0]PN\",\"AradNannak[0]PN\",\"AradNannak[0]PN\",\"AradNannak[0]PN\",\"AradNannak[0]PN\",\"AradNannak[0]PN\",\"AradNannak[0]PN\",\"AradNannak[0]PN\",\"AradNannak[0]PN\",\"AradNannak[0]PN\",\"AradNannak[0]PN\",\"AradNannak[0]PN\",\"AradNannak[0]PN\",\"AradNannak[0]PN\",\"AradNannak[0]PN\",\"AradNannak[0]PN\",\"AradNannak[0]PN\",\"Babati[0]PN\",\"Babati[0]PN\",\"Dayya[0]PN\",\"Dayya[0]PN\",\"Dayya[0]PN\",\"Dayya[0]PN\",\"\\u0160u\\u0161ulgir[0]PN\",\"\\u0160u\\u0161ulgir[0]PN\",\"\\u0160u\\u0161ulgir[0]PN\",\"\\u0160u\\u0161ulgir[0]PN\",\"\\u0160u\\u0161ulgir[0]PN\",\"\\u0160u\\u0161ulgir[0]PN\",\"Aradnanna[0]PN\",\"Aradnanna[0]PN\",\"Aradnanna[0]PN\",\"Aradnanna[0]PN\",\"PuzurA\\u0161\\u0161ur[0]PN\",\"Arad\\u014bu[0]PN\",\"Arad\\u014bu[0]PN\",\"Arad\\u014bu[0]PN\",\"Arad\\u014bu[0]PN\",\"Ariphuppi[0]PN\",\"Zizuh[0]PN\",\"Atu[0]PN\",\"Atu[0]PN\",\"Atu[0]PN\",\"Aya\\u014bu[0]PN\",\"Aya\\u014bu[0]PN\",\"Aya\\u014bu[0]PN\",\"Aya\\u014bu[0]PN\",\"Ba.a.x[00]PN\",\"Batugrad[0]PN\",\"Belikin[0]PN\",\"Beli\\u02beili[0]PN\",\"Beli\\u02beili[0]PN\",\"Beli\\u02beili[0]PN\",\"Budu[0]PN\",\"Bu\\u0161am[0]PN\",\"Bu\\u2083.u\\u2082.a[00]PN\",\"Dada[0]PN\",\"Dada[0]PN\",\"Dada[0]PN\",\"Ilallum[0]PN\",\"Ilallum[0]PN\",\"Ilallum[0]PN\",\"Ilallum[0]PN\",\"Ilallum[0]PN\",\"Kur\\u014birini[0]PN\",\"Kur\\u014birini[0]PN\",\"Lugalinimgina[0]PN\",\"Lugalinimgina[0]PN\",\"Lugalinimgina[0]PN\",\"Nirida\\u014bal[0]PN\",\"Dingir.ba.ni[00]PN\",\"E.du.du.a[00]PN\",\"\\u0160uenlil[0]PN\",\"\\u0160uenlil[0]PN\",\"Endingir\\u014bu[0]PN\",\"Endingir\\u014bu[0]PN\",\"I.tu.tu[00]PN\",\"Enlil[1]DN\",\"\\u0160e\\u0161kala[0]PN\",\"\\u0160e\\u0161kala[0]PN\",\"\\u0160e\\u0161kala[0]PN\",\"\\u0160e\\u0161kala[0]PN\",\"Ennumili[0]PN\",\"Ennumili[0]PN\",\"Erbeli[0]PN\",\"E\\u2082.a.dingir[00]PN\",\"E\\u2082.a.dingir[00]PN\",\"E\\u2082.a.dingir[00]PN\",\"E\\u2082.a.dingir[00]PN\",\"E\\u2082.a.dingir[00]PN\",\"E\\u2082.a.dingir[00]PN\",\"I\\u1e6dib\\u0161inat[0]PN\",\"I\\u1e6dib\\u0161inat[0]PN\",\"Nurili[0]PN\",\"Nurili[0]PN\",\"Nurili[0]PN\",\"Nurili[0]PN\",\"Nurili[0]PN\",\"\\u0160ulgirkalamametebi[0]PN\",\"\\u0160ulgirkalamametebi[0]PN\",\"GA.na.na.tum[0]PN\",\"Gabidanum[0]PN\",\"Galzudabulsin[0]PN\",\"Galzudabulsin[0]PN\",\"Ilabu\\u02beigadu[0]PN\",\"Urdamu[0]PN\",\"Ha.ma.ma[00]PN\",\"Ili\\u1e63illi[0]PN\",\"Ha\\u0161ipatal[0]PN\",\"Hu.un.ha.ab.UR[0]PN\",\"\\u1e62illu\\u0161Dagan[0]PN\",\"\\u1e62illu\\u0161Dagan[0]PN\",\"\\u1e62illu\\u0161Dagan[0]PN\",\"I.du.du.a[00]PN\",\"I.du.du.a[00]PN\",\"I.du.du.a[00]PN\",\"Iabti[0]PN\",\"Igirumah[0]PN\",\"Ilak\\u0161uqir[0]PN\",\"Simat\\u0161arrim[0]PN\",\"\\u0160etelili[0]PN\",\"\\u0160etelili[0]PN\",\"Illa\\u02bei[0]PN\",\"Il\\u0161urabi[0]PN\",\"Im.x[00]PN\",\"In.zu.a[00]PN\",\"Puzurili[0]PN\",\"Puzurili[0]PN\",\"Puzurili[0]PN\",\"Puzurili[0]PN\",\"Puzurili[0]PN\",\"Puzurili[0]PN\",\"Itutu\\u02bea[0]PN\",\"Itutu\\u02bea[0]PN\",\"Itutu\\u02bea[0]PN\",\"Itutu\\u02bea[0]PN\",\"Itutu\\u02bea[0]PN\",\"Itutu\\u02bea[0]PN\",\"Itutu\\u02bea[0]PN\",\"Itutu\\u02bea[0]PN\",\"Itutu\\u02bea[0]PN\",\"Ninlilama\\u014bu[0]PN\",\"Ninlilama\\u014bu[0]PN\",\"Ninlilama\\u014bu[0]PN\",\"Ninlilama\\u014bu[0]PN\",\"Ninlilama\\u014bu[0]PN\",\"Ninlilama\\u014bu[0]PN\",\"Ninlilama\\u014bu[0]PN\",\"Nurmati\\u0161u[0]PN\",\"Nurmati\\u0161u[0]PN\",\"Rigmu\\u0161[0]PN\",\"Ninkala[0]PN\",\"KAL.LA.ma.AD[0]PN\",\"Ke\\u0161[0]PN\",\"Ninhursa\\u014bak[1]DN\",\"Ninhursa\\u014bak[1]DN\",\"KinatNunu[0]PN\",\"Turamdagan[0]PN\",\"Turamdagan[0]PN\",\"Turamdagan[0]PN\",\"LU\\u2082.X[0]PN\",\"LU\\u2082.X[0]PN\",\"UrBaba[0]PN\",\"La\\u02beili\\u0161[0]PN\",\"La\\u02beili\\u0161[0]PN\",\"LuNan\\u0161e[0]PN\",\"Lubanda[0]PN\",\"Lugalmagure[0]PN\",\"Nannakam[0]PN\",\"Nannakam[0]PN\",\"Nannapalil[0]PN\",\"Nannapalil[0]PN\",\"Nawirili[0]PN\",\"Nawirili[0]PN\",\"Nawirili[0]PN\",\"Nawirili[0]PN\",\"NurAdad[0]PN\",\"NurAdad[0]PN\",\"Qurdilum[0]PN\",\"Re\\u02beiSu\\u02been[0]PN\",\"Re\\u02beiSu\\u02been[0]PN\",\"Ribagada[0]PN\",\"Ribagada[0]PN\",\"Ribagada[0]PN\",\"Ribagada[0]PN\",\"Ri\\u1e63ili[0]PN\",\"Ri\\u1e63ili[0]PN\",\"Ri\\u1e63ili[0]PN\",\"Ri\\u1e63ili[0]PN\",\"Suenabu\\u0161u[0]PN\",\"Suenabu\\u0161u[0]PN\",\"Su\\u02beenal\\u0161u[0]PN\",\"Su\\u02beenal\\u0161u[0]PN\",\"Tahi\\u0161atal[0]PN\",\"Tahi\\u0161atal[0]PN\",\"Tahi\\u0161atal[0]PN\",\"Tahi\\u0161atal[0]PN\",\"Tahi\\u0161atal[0]PN\",\"Tahi\\u0161atal[0]PN\",\"Tahi\\u0161atal[0]PN\",\"Tahi\\u0161atal[0]PN\",\"Tahi\\u0161atal[0]PN\",\"Ur\\u0160uSu\\u02beenak[0]PN\",\"Ur\\u0160uSu\\u02beenak[0]PN\",\"Utami\\u0161aram[0]PN\",\"Utami\\u0161aram[0]PN\",\"Utami\\u0161aram[0]PN\",\"Utami\\u0161aram[0]PN\",\"Waqar\\u0160uSu\\u02been[0]PN\",\"Waqar\\u0160uSu\\u02been[0]PN\",\"\\u0160uSu\\u02beennaramEnlil[0]PN\",\"Lugalituda[0]PN\",\"Lugaltida[0]PN\",\"Lugal\\u014bu[0]PN\",\"Lukala[0]PN\",\"Lusaga[0]PN\",\"Me\\u0161i\\u02bead[0]PN\",\"\\u0160u\\u0161ug[0]PN\",\"Na.an.na[0]PN\",\"Nabasag[0]PN\",\"Namhani[0]PN\",\"Namhani[0]PN\",\"Naramili[0]PN\",\"Naramili[0]PN\",\"Nig\\u2082.x[00]PN\",\"Nihelu[0]PN\",\"Nimgirinimgina[0]PN\",\"Ninegalak[1]DN\",\"Ningal[1]DN\",\"UrNingalak[0]PN\",\"\\u0160atsuen[0]PN\",\"Ninlilemana\\u014b[0]PN\",\"Ninurtak[1]DN\",\"Nin\\u0161ubur[1]DN\",\"Ni\\u014birinimgina[0]PN\",\"Zariq[0]PN\",\"Nur\\u0160ama\\u0161[0]PN\",\"Nur\\u0160ama\\u0161[0]PN\",\"Nur\\u0160ama\\u0161[0]PN\",\"Nur\\u0160ama\\u0161[0]PN\",\"Papan\\u0161en[0]PN\",\"Watarum[0]PN\",\"Watarum[0]PN\",\"PuzurSud[0]PN\",\"UrA\\u0161arak[0]PN\",\"UrA\\u0161arak[0]PN\",\"Quradili[0]PN\",\"Rabi\\u02beah[0]PN\",\"Ta\\u2082.di\\u2083.in.inanna[00]PN\",\"Uba[0]PN\",\"Urmes[0]PN\",\"Ubarum[0]PN\",\"Ubarum[0]PN\",\"Ulu\\u2083.lal\\u2083[00]PN\",\"Ulu\\u2083.lal\\u2083[00]PN\",\"UrNingublagakak[0]PN\",\"Urenlila[0]PN\",\"Uri\\u0161kur[0]PN\",\"Urni\\u014bar[0]PN\",\"Ursaga[0]PN\",\"Ursaga[0]PN\",\"\\u0160alimni\\u02bea\\u0161[0]PN\",\"\\u0160ennam[0]PN\",\"\\u0160arakam[0]PN\",\"\\u0160arrumili[0]PN\",\"\\u0160arrumili[0]PN\",\"\\u0160ebba[0]PN\",\"\\u0160uSu\\u02beenili[0]PN\",\"\\u0160ubram[0]PN\",\"\\u0160ulgimati[0]PN\",\"\\u0160ulgimi\\u0161ar[0]PN\",\"\\u0160ulgimi\\u0161ar[0]PN\",\"\\u0160ulgir[1]RN\",\"\\u0160ulgiradda\\u014bu[0]PN\",\"\\u0160unundu[0]PN\"],\"weight\":[1,1,1,1,2,1,1,1,1,1,1,1,1,1,1,1,1,1,1,1,1,1,1,1,1,1,2,1,1,1,1,2,1,1,1,1,2,1,1,1,1,1,1,1,1,1,1,1,1,1,3,1,5,1,1,1,1,1,1,1,1,1,1,1,1,1,1,8,2,1,1,1,1,1,1,1,1,1,2,1,1,2,1,1,1,1,1,2,1,1,1,1,1,1,1,1,1,1,1,1,1,2,1,1,1,1,1,1,1,1,1,2,1,1,1,1,1,1,1,1,1,1,1,1,1,1,1,1,1,1,1,2,3,1,1,4,1,4,1,1,1,1,2,1,1,1,1,1,1,1,2,2,1,1,1,1,1,3,1,9,4,1,1,1,1,6,1,1,1,1,3,1,1,1,1,1,1,1,1,1,1,1,1,1,1,2,1,1,1,1,1,9,1,1,1,1,1,2,1,1,1,1,1,1,1,1,1,1,1,1,1,1,1,1,2,1,1,1,6,1,1,1,2,1,1,1,1,1,1,1,1,1,1,1,1,1,1,1,1,1,1,1,1,1,1,1,1,1,1,1,1,1,1,1,1,1,1,1,1,1,1,1,1,1,1,1,1,1,1,1,1,3,1,1,1,1,1,1,1,1,1,1,1,1,1,1,1,1,1,1,1,1,1,1,1,1,1,1,1,1,1,1,1,1,1,1,1,1,1,1,1,1,1,1,1,2,1,1,1,1,1,1,1,1,1,2,1,1,1,1,1,1,1,1,1,1,1,1,1,1,1,1,1,1,1,1,1,1,1,1,1,1,1,1,2,1,6,1,1,1,1,1,1,1,1,1,1,1,1,1,1,1,1,1,1,1,1,1,1,1,1,1,1,1,1,1,1,1,1,1,1,1,1,1,1,1,1,1,1,1,1,1,1,1,1,1,1,1,1,1,1,1,1,1,1,1,1,1,1,1,1,1,1,1,1,1,1,1,1,1,1,1,1,1,1,1,1,1,1,1,1,1,1,1,1,1,1,1,1,1,1,4,1,1,1,1,1,1,1,1,1,1,1,1,2,1,1,1,1,1,1,1,1,2,1,1,1,1,1,1,1,1,4,1,1,1,1,1,1,1,1,4,1,1,1,1,1,1,1,1,1,1,1]},\"selected\":{\"id\":\"1757\",\"type\":\"Selection\"},\"selection_policy\":{\"id\":\"1756\",\"type\":\"UnionRenderers\"}},\"id\":\"1695\",\"type\":\"ColumnDataSource\"},{\"attributes\":{},\"id\":\"1741\",\"type\":\"LinearScale\"},{\"attributes\":{},\"id\":\"1754\",\"type\":\"UnionRenderers\"},{\"attributes\":{},\"id\":\"1678\",\"type\":\"ResetTool\"},{\"attributes\":{},\"id\":\"1743\",\"type\":\"LinearScale\"},{\"attributes\":{\"callback\":null,\"data\":{\"degree\":[1,9,1,3,15,1,2,1,1,2,1,2,6,6,2,3,2,45,5,1,8,1,1,3,76,1,20,6,32,5,34,1,22,10,13,3,2,13,2,6,2,1,2,1,2,1,2,1,15,2,1,3,5,1,2,3,2,26,1,1,1,1,4,1,6,3,1,2,1,1,2,1,2,2,10,6,1,2,3,2,5,1,1,1,1,1,2,4,4,2,4,6,1,3,1,1,1,1,1,2,2,6,1,2,1,1,1,5,2,1,1,1,1,1,1,2,9,7,1,4,1,5,4,1,1,1,1,1,5,1,2,5,2,3,3,6,2,2,2,6,1,3,10,4,1,2,1,3,4,2,1,3,1,1,5,3,1,2,1,1,2,1,5,1,2,2,1,1,9,9,9,3,2,1,2,1,1,1,4,2,5,1,1,3,1,1,4,3,1,1,1,1,1,1,1,1,1,2,1,2,1,3,3,5,1,1,1,2,3,1,1,2,3,9,5,3,3,13,3,6,6,2,1,2,2,1,1,1,1,1,1,1,1,1,2,1,1,3,1,1,2,1,1,1,2,2,1,2,2,1,3,2,2,2,2,1,1,1,1,1,3,1,6,2,1,1,1,1,1,1,1,1,3,1,1,3,1,1,1,1,1,1,1,1,1,3,2,1,2,3,2,1,1,1,2,2,2,1,1,1,1,1,2,1,2,2,1,2,2,1,1,1,1,2,1,1,1,1,1,1,1,1,1,1],\"index\":[\"A.da.gal.\\u0161um[00]PN\",\"Lisin[0]PN\",\"A.ga.num\\u2082[00]PN\",\"Balala[0]PN\",\"Abisimti[0]PN\",\"Damu[1]DN\",\"Gemenannak[0]PN\",\"Gunura[1]DN\",\"Ninisinak[0]PN\",\"Nuhilum[0]PN\",\"\\u0160umah[1]DN\",\"Abumba\\u0161ti[0]PN\",\"PuzurE\\u0161tar[0]PN\",\"Abuni[0]PN\",\"Abba[0]PN\",\"Abu\\u1e6dab[0]PN\",\"KAL.bi.si[0]PN\",\"PuzurErra[0]PN\",\"AbuniramAni[0]PN\",\"KinatU\\u02beu[0]PN\",\"Kubatum[0]PN\",\"TaddinE\\u0161tar[0]PN\",\"\\u0160eteli[0]PN\",\"Adadillat[0]PN\",\"Ludi\\u014birak[0]PN\",\"Agu[0]PN\",\"\\u0160u\\u02beE\\u0161tar[0]PN\",\"Ahan\\u0161ibu[0]PN\",\"Dayyanummi\\u0161ar[0]PN\",\"Huba[0]PN\",\"lugal[king]N\",\"Ahi\\u02beilum[0]PN\",\"Lugalkugzu[0]PN\",\"Ahuni[0]PN\",\"Amurili[0]PN\",\"Apili[0]PN\",\"Dari\\u0161matum[0]PN\",\"Ea\\u02beili[0]PN\",\"Lammar[0]PN\",\"ME.I\\u0161taran[0]PN\",\"Taddinkiza[0]PN\",\"Ahu\\u0161uni[0]PN\",\"Alid[0]PN\",\"Alla[0]PN\",\"\\u0160ulgirgalzu[0]PN\",\"Am.ni.ni[00]PN\",\"\\u0160uru\\u0161kin[0]PN\",\"AmurEa[0]PN\",\"Lunanna[0]PN\",\"IbbiSu\\u02beenmi\\u0161ar[0]RN\",\"Li.lu.dan[00]PN\",\"Lugula[0]PN\",\"X[0]PN\",\"Anebabdu[0]PN\",\"Anunitum[1]DN\",\"Lugal\\u0161utur[0]PN\",\"Alla\\u0161arrum[0]PN\",\"AradNannak[0]PN\",\"A.tal\\u2082.mar.tu[00]PN\",\"Adalal[0]PN\",\"Amaknum[0]PN\",\"Amarsuenak[1]RN\",\"Babati[0]PN\",\"Bu\\u0161udu[0]PN\",\"Dayya[0]PN\",\"Enkik[1]DN\",\"Ennam\\u0161ita\\u0160ulgirakebagub[0]PN\",\"HidutAmarSu\\u02been[0]PN\",\"Hupamersini[0]PN\",\"Im.da.a\\u2082[00]PN\",\"Kurbilak[0]PN\",\"Ni.za[00]PN\",\"UrNannak[0]PN\",\"Zanum[0]PN\",\"\\u0160u\\u0161ulgir[0]PN\",\"Aradnanna[0]PN\",\"Da\\u0161ug[0]PN\",\"Nawar\\u0161en[0]PN\",\"PuzurA\\u0161\\u0161ur[0]PN\",\"Zeri[0]PN\",\"Arad\\u014bu[0]PN\",\"A.da[00]PN\",\"Idabeli[0]PN\",\"Nur\\u0161ulgi[0]PN\",\"Palilum[0]PN\",\"Ariphuppi[0]PN\",\"Zizuh[0]PN\",\"Atu[0]PN\",\"Inanak[1]DN\",\"Meslamta\\u02bee\\u02bea[0]DN\",\"Ninlil[1]DN\",\"Aya\\u014bu[0]PN\",\"Ureninnuk[0]PN\",\"sukkalmah[official]N\",\"\\u014airine\\u02beisag[0]PN\",\"Ba.a.x[00]PN\",\"Puzur-X[0]PN\",\"Marad[1]DN\",\"\\u0160unin\\u0161ubur[0]PN\",\"Batugrad[0]PN\",\"Belikin[0]PN\",\"Beli\\u02beili[0]PN\",\"Ma.lu.um[00]PN\",\"Budu[0]PN\",\"Bu\\u0161am[0]PN\",\"Bu\\u2083.u\\u2082.a[00]PN\",\"Edudu\\u02bea[0]PN\",\"Dada[0]PN\",\"\\u0160uSu\\u02beenmigirE\\u0161tar[0]PN\",\"Atarda[0]PN\",\"Kinamu\\u0161a[0]PN\",\"Lala[0]PN\",\"A.x[00]PN\",\"Ahbabu[0]PN\",\"Apila\\u0161a[0]PN\",\"Burmama[0]PN\",\"Ilallum[0]PN\",\"Kur\\u014birini[0]PN\",\"Lubalasagak[0]PN\",\"Lugalinimgina[0]PN\",\"Luka\\u0161\\u014bu[0]PN\",\"Nanna[1]DN\",\"Nirida\\u014bal[0]PN\",\"TAR[00]PN\",\"Ur.gu.gub.ba[00]PN\",\"X-ili[0]PN\",\"Dingir.ba.ni[00]PN\",\"E.du.du.a[00]PN\",\"Utu\\u02beadgal[0]PN\",\"Baza\\u014bu[0]PN\",\"Kisura[0]PN\",\"\\u0160uenlil[0]PN\",\"Endingir\\u014bu[0]PN\",\"I.tu.tu[00]PN\",\"Enlil[1]DN\",\"\\u0160e\\u0161kala[0]PN\",\"Ennumili[0]PN\",\"Erbeli[0]PN\",\"A.na[00]PN\",\"E\\u2082.a.dingir[00]PN\",\"Dinikun[0]PN\",\"I\\u1e6dib\\u0161inat[0]PN\",\"Nurili[0]PN\",\"\\u0160ulgirkalamametebi[0]PN\",\"GA.na.na.tum[0]PN\",\"E\\u0161tarnada[0]PN\",\"Gabidanum[0]PN\",\"Galzudabulsin[0]PN\",\"Ilabu\\u02beigadu[0]PN\",\"Urdamu[0]PN\",\"Ha.ma.ma[00]PN\",\"Ili\\u1e63illi[0]PN\",\"Ha\\u0161ipatal[0]PN\",\"Hu.un.ha.ab.UR[0]PN\",\"\\u1e62illu\\u0161Dagan[0]PN\",\"I.du.du.a[00]PN\",\"Iabti[0]PN\",\"GemeEnlilak[0]PN\",\"Igirumah[0]PN\",\"Ilak\\u0161uqir[0]PN\",\"Simat\\u0161arrim[0]PN\",\"UrHendursa\\u014bak[0]PN\",\"\\u0160etelili[0]PN\",\"Illa\\u02bei[0]PN\",\"Il\\u0161urabi[0]PN\",\"Lugalmunizi[0]PN\",\"Im.x[00]PN\",\"In.zu.a[00]PN\",\"Puzurili[0]PN\",\"Itutu\\u02bea[0]PN\",\"Ninlilama\\u014bu[0]PN\",\"Nurmati\\u0161u[0]PN\",\"Rigmu\\u0161[0]PN\",\"Su\\u02beenillat[0]PN\",\"Ninkala[0]PN\",\"\\u0160ulgisimti[0]PN\",\"KAL.LA.ma.AD[0]PN\",\"Ke\\u0161[0]PN\",\"Ninhursa\\u014bak[1]DN\",\"KinatNunu[0]PN\",\"Turamdagan[0]PN\",\"KA-X[0]PN\",\"\\u0160u\\u02beEa[0]PN\",\"LU\\u2082.X[0]PN\",\"Allatum[0]DN\",\"Ninkilim[0]PN\",\"UrBaba[0]PN\",\"La\\u02beili\\u0161[0]PN\",\"\\u0160agtakugzu[0]PN\",\"Haburitum[0]DN\",\"LuNan\\u0161e[0]PN\",\"Lubanda[0]PN\",\"A.hu.wa.qar[00]PN\",\"AradBa\\u02beuk[0]PN\",\"Ba.x[00]PN\",\"En.u\\u2082[00]PN\",\"Errabani[0]PN\",\"Gula[1]DN\",\"Ka.ku\\u2083[00]PN\",\"Lugalmagure[0]PN\",\"Na.x.x[00]PN\",\"Nannakam[0]PN\",\"Nannapalil[0]PN\",\"Nawirili[0]PN\",\"Ninegalakesi[0]PN\",\"Ningalenunak[0]PN\",\"Ninsumunak[1]DN\",\"Nintinuga[1]DN\",\"NurAdad[0]PN\",\"Puzur\\u0160akan[0]PN\",\"Puzuzu[0]PN\",\"Qurdilum[0]PN\",\"Re\\u02beiSu\\u02been[0]PN\",\"Ribagada[0]PN\",\"Ri\\u1e63ili[0]PN\",\"Suenabu\\u0161u[0]PN\",\"Su\\u02beenal\\u0161u[0]PN\",\"Tahi\\u0161atal[0]PN\",\"Ur\\u0160uSu\\u02beenak[0]PN\",\"Utami\\u0161aram[0]PN\",\"Waqar\\u0160uSu\\u02been[0]PN\",\"X.mu[00]PN\",\"Zuruh[0]PN\",\"\\u0160uSu\\u02beennaramEnlil[0]PN\",\"\\u0160ulgirama[0]PN\",\"Anatal[0]PN\",\"Irihilum[0]PN\",\"Lugalituda[0]PN\",\"Urigalim[0]PN\",\"Lugaltida[0]PN\",\"Lugal\\u014bu[0]PN\",\"Lukala[0]PN\",\"Lusaga[0]PN\",\"Me\\u0161i\\u02bead[0]PN\",\"\\u0160u\\u0161ug[0]PN\",\"Na.an.na[0]PN\",\"Nabasag[0]PN\",\"Namhani[0]PN\",\"Enni\\u0161Agum[0]PN\",\"Ninni\\u014bar[0]DN\",\"Naramili[0]PN\",\"X.mah[00]PN\",\"Nig\\u2082.x[00]PN\",\"Nihelu[0]PN\",\"Nimgirinimgina[0]PN\",\"Ninegalak[1]DN\",\"Ningal[1]DN\",\"UrNingalak[0]PN\",\"ME.E\\u2082.a[0]PN\",\"Ri.x[00]PN\",\"\\u0160atsuen[0]PN\",\"Ninlilemana\\u014b[0]PN\",\"Mulliltumnuri[0]PN\",\"Ninurtak[1]DN\",\"Inimanizi[0]PN\",\"Nin\\u0161ubur[1]DN\",\"Lu\\u02beAmarSu\\u02beenak[0]PN\",\"Ni\\u014birinimgina[0]PN\",\"A.ki[00]PN\",\"Ginuna[0]PN\",\"Zariq[0]PN\",\"\\u0160ama\\u0161tillati[0]PN\",\"Nur\\u0160ama\\u0161[0]PN\",\"Papan\\u0161en[0]PN\",\"Masagsag[0]PN\",\"A.har.a[00]PN\",\"Anumilum[0]PN\",\"Hendursa\\u014bak[1]DN\",\"Hu.un.x[00]PN\",\"KugUtu[0]PN\",\"Nalu[0]PN\",\"Ululal[0]PN\",\"Watarum[0]PN\",\"\\u0160ulginuri[0]PN\",\"PuzurSud[0]PN\",\"UrA\\u0161arak[0]PN\",\"UrKugnunak[0]PN\",\"Quradili[0]PN\",\"Rabi\\u02beah[0]PN\",\"Ba\\u02beu[0]DN\",\"Nin\\u014birsuk[1]DN\",\"AtuMamak[0]PN\",\"Urnan\\u0161e[0]PN\",\"Libur\\u0160ulgi[0]PN\",\"LugalUrimeki\\u02bea\\u014ba[0]PN\",\"Hun\\u0160ulgi[0]PN\",\"Ta\\u2082.di\\u2083.in.inanna[00]PN\",\"Uba[0]PN\",\"Urmes[0]PN\",\"Ubarum[0]PN\",\"Ulu\\u2083.lal\\u2083[00]PN\",\"UrNingublagakak[0]PN\",\"Urenlila[0]PN\",\"Uri\\u0161kur[0]PN\",\"Taburha\\u1e6d\\u1e6dum[0]PN\",\"Urni\\u014bar[0]PN\",\"Ursaga[0]PN\",\"Luenki[0]PN\",\"Ur\\u0161ulpaeak[0]PN\",\"Gudea[0]PN\",\"\\u0160uMama[0]PN\",\"Matili[0]PN\",\"Taribu[0]PN\",\"Amabarag[0]PN\",\"\\u0160alimni\\u02bea\\u0161[0]PN\",\"\\u0160ennam[0]PN\",\"\\u0160arakam[0]PN\",\"\\u0160arrumili[0]PN\",\"LugalAnabtum[0]PN\",\"\\u0160ebba[0]PN\",\"\\u0160uSu\\u02beenili[0]PN\",\"\\u0160ubram[0]PN\",\"\\u0160ulgimati[0]PN\",\"\\u0160ulgimi\\u0161ar[0]PN\",\"\\u0160ulgir[1]RN\",\"\\u0160ulgiradda\\u014bu[0]PN\",\"Ursuen[0]PN\",\"\\u0160unundu[0]PN\",\"Nuska[1]DN\",\"\\u0160uSu\\u02beenlilabbirha\\u1e6d\\u1e6dam[0]PN\",\"Anati[0]PN\",\"Ih.ta.na.sa\\u2083.su\\u2082.nu.ut[00]PN\",\"\\u0160ulgirili[0]PN\",\"\\u0160ulgi\\u02beabi[0]PN\"],\"name\":[\"A.da.gal.\\u0161um[00]PN\",\"Lisin[0]PN\",\"A.ga.num\\u2082[00]PN\",\"Balala[0]PN\",\"Abisimti[0]PN\",\"Damu[1]DN\",\"Gemenannak[0]PN\",\"Gunura[1]DN\",\"Ninisinak[0]PN\",\"Nuhilum[0]PN\",\"\\u0160umah[1]DN\",\"Abumba\\u0161ti[0]PN\",\"PuzurE\\u0161tar[0]PN\",\"Abuni[0]PN\",\"Abba[0]PN\",\"Abu\\u1e6dab[0]PN\",\"KAL.bi.si[0]PN\",\"PuzurErra[0]PN\",\"AbuniramAni[0]PN\",\"KinatU\\u02beu[0]PN\",\"Kubatum[0]PN\",\"TaddinE\\u0161tar[0]PN\",\"\\u0160eteli[0]PN\",\"Adadillat[0]PN\",\"Ludi\\u014birak[0]PN\",\"Agu[0]PN\",\"\\u0160u\\u02beE\\u0161tar[0]PN\",\"Ahan\\u0161ibu[0]PN\",\"Dayyanummi\\u0161ar[0]PN\",\"Huba[0]PN\",\"lugal[king]N\",\"Ahi\\u02beilum[0]PN\",\"Lugalkugzu[0]PN\",\"Ahuni[0]PN\",\"Amurili[0]PN\",\"Apili[0]PN\",\"Dari\\u0161matum[0]PN\",\"Ea\\u02beili[0]PN\",\"Lammar[0]PN\",\"ME.I\\u0161taran[0]PN\",\"Taddinkiza[0]PN\",\"Ahu\\u0161uni[0]PN\",\"Alid[0]PN\",\"Alla[0]PN\",\"\\u0160ulgirgalzu[0]PN\",\"Am.ni.ni[00]PN\",\"\\u0160uru\\u0161kin[0]PN\",\"AmurEa[0]PN\",\"Lunanna[0]PN\",\"IbbiSu\\u02beenmi\\u0161ar[0]RN\",\"Li.lu.dan[00]PN\",\"Lugula[0]PN\",\"X[0]PN\",\"Anebabdu[0]PN\",\"Anunitum[1]DN\",\"Lugal\\u0161utur[0]PN\",\"Alla\\u0161arrum[0]PN\",\"AradNannak[0]PN\",\"A.tal\\u2082.mar.tu[00]PN\",\"Adalal[0]PN\",\"Amaknum[0]PN\",\"Amarsuenak[1]RN\",\"Babati[0]PN\",\"Bu\\u0161udu[0]PN\",\"Dayya[0]PN\",\"Enkik[1]DN\",\"Ennam\\u0161ita\\u0160ulgirakebagub[0]PN\",\"HidutAmarSu\\u02been[0]PN\",\"Hupamersini[0]PN\",\"Im.da.a\\u2082[00]PN\",\"Kurbilak[0]PN\",\"Ni.za[00]PN\",\"UrNannak[0]PN\",\"Zanum[0]PN\",\"\\u0160u\\u0161ulgir[0]PN\",\"Aradnanna[0]PN\",\"Da\\u0161ug[0]PN\",\"Nawar\\u0161en[0]PN\",\"PuzurA\\u0161\\u0161ur[0]PN\",\"Zeri[0]PN\",\"Arad\\u014bu[0]PN\",\"A.da[00]PN\",\"Idabeli[0]PN\",\"Nur\\u0161ulgi[0]PN\",\"Palilum[0]PN\",\"Ariphuppi[0]PN\",\"Zizuh[0]PN\",\"Atu[0]PN\",\"Inanak[1]DN\",\"Meslamta\\u02bee\\u02bea[0]DN\",\"Ninlil[1]DN\",\"Aya\\u014bu[0]PN\",\"Ureninnuk[0]PN\",\"sukkalmah[official]N\",\"\\u014airine\\u02beisag[0]PN\",\"Ba.a.x[00]PN\",\"Puzur-X[0]PN\",\"Marad[1]DN\",\"\\u0160unin\\u0161ubur[0]PN\",\"Batugrad[0]PN\",\"Belikin[0]PN\",\"Beli\\u02beili[0]PN\",\"Ma.lu.um[00]PN\",\"Budu[0]PN\",\"Bu\\u0161am[0]PN\",\"Bu\\u2083.u\\u2082.a[00]PN\",\"Edudu\\u02bea[0]PN\",\"Dada[0]PN\",\"\\u0160uSu\\u02beenmigirE\\u0161tar[0]PN\",\"Atarda[0]PN\",\"Kinamu\\u0161a[0]PN\",\"Lala[0]PN\",\"A.x[00]PN\",\"Ahbabu[0]PN\",\"Apila\\u0161a[0]PN\",\"Burmama[0]PN\",\"Ilallum[0]PN\",\"Kur\\u014birini[0]PN\",\"Lubalasagak[0]PN\",\"Lugalinimgina[0]PN\",\"Luka\\u0161\\u014bu[0]PN\",\"Nanna[1]DN\",\"Nirida\\u014bal[0]PN\",\"TAR[00]PN\",\"Ur.gu.gub.ba[00]PN\",\"X-ili[0]PN\",\"Dingir.ba.ni[00]PN\",\"E.du.du.a[00]PN\",\"Utu\\u02beadgal[0]PN\",\"Baza\\u014bu[0]PN\",\"Kisura[0]PN\",\"\\u0160uenlil[0]PN\",\"Endingir\\u014bu[0]PN\",\"I.tu.tu[00]PN\",\"Enlil[1]DN\",\"\\u0160e\\u0161kala[0]PN\",\"Ennumili[0]PN\",\"Erbeli[0]PN\",\"A.na[00]PN\",\"E\\u2082.a.dingir[00]PN\",\"Dinikun[0]PN\",\"I\\u1e6dib\\u0161inat[0]PN\",\"Nurili[0]PN\",\"\\u0160ulgirkalamametebi[0]PN\",\"GA.na.na.tum[0]PN\",\"E\\u0161tarnada[0]PN\",\"Gabidanum[0]PN\",\"Galzudabulsin[0]PN\",\"Ilabu\\u02beigadu[0]PN\",\"Urdamu[0]PN\",\"Ha.ma.ma[00]PN\",\"Ili\\u1e63illi[0]PN\",\"Ha\\u0161ipatal[0]PN\",\"Hu.un.ha.ab.UR[0]PN\",\"\\u1e62illu\\u0161Dagan[0]PN\",\"I.du.du.a[00]PN\",\"Iabti[0]PN\",\"GemeEnlilak[0]PN\",\"Igirumah[0]PN\",\"Ilak\\u0161uqir[0]PN\",\"Simat\\u0161arrim[0]PN\",\"UrHendursa\\u014bak[0]PN\",\"\\u0160etelili[0]PN\",\"Illa\\u02bei[0]PN\",\"Il\\u0161urabi[0]PN\",\"Lugalmunizi[0]PN\",\"Im.x[00]PN\",\"In.zu.a[00]PN\",\"Puzurili[0]PN\",\"Itutu\\u02bea[0]PN\",\"Ninlilama\\u014bu[0]PN\",\"Nurmati\\u0161u[0]PN\",\"Rigmu\\u0161[0]PN\",\"Su\\u02beenillat[0]PN\",\"Ninkala[0]PN\",\"\\u0160ulgisimti[0]PN\",\"KAL.LA.ma.AD[0]PN\",\"Ke\\u0161[0]PN\",\"Ninhursa\\u014bak[1]DN\",\"KinatNunu[0]PN\",\"Turamdagan[0]PN\",\"KA-X[0]PN\",\"\\u0160u\\u02beEa[0]PN\",\"LU\\u2082.X[0]PN\",\"Allatum[0]DN\",\"Ninkilim[0]PN\",\"UrBaba[0]PN\",\"La\\u02beili\\u0161[0]PN\",\"\\u0160agtakugzu[0]PN\",\"Haburitum[0]DN\",\"LuNan\\u0161e[0]PN\",\"Lubanda[0]PN\",\"A.hu.wa.qar[00]PN\",\"AradBa\\u02beuk[0]PN\",\"Ba.x[00]PN\",\"En.u\\u2082[00]PN\",\"Errabani[0]PN\",\"Gula[1]DN\",\"Ka.ku\\u2083[00]PN\",\"Lugalmagure[0]PN\",\"Na.x.x[00]PN\",\"Nannakam[0]PN\",\"Nannapalil[0]PN\",\"Nawirili[0]PN\",\"Ninegalakesi[0]PN\",\"Ningalenunak[0]PN\",\"Ninsumunak[1]DN\",\"Nintinuga[1]DN\",\"NurAdad[0]PN\",\"Puzur\\u0160akan[0]PN\",\"Puzuzu[0]PN\",\"Qurdilum[0]PN\",\"Re\\u02beiSu\\u02been[0]PN\",\"Ribagada[0]PN\",\"Ri\\u1e63ili[0]PN\",\"Suenabu\\u0161u[0]PN\",\"Su\\u02beenal\\u0161u[0]PN\",\"Tahi\\u0161atal[0]PN\",\"Ur\\u0160uSu\\u02beenak[0]PN\",\"Utami\\u0161aram[0]PN\",\"Waqar\\u0160uSu\\u02been[0]PN\",\"X.mu[00]PN\",\"Zuruh[0]PN\",\"\\u0160uSu\\u02beennaramEnlil[0]PN\",\"\\u0160ulgirama[0]PN\",\"Anatal[0]PN\",\"Irihilum[0]PN\",\"Lugalituda[0]PN\",\"Urigalim[0]PN\",\"Lugaltida[0]PN\",\"Lugal\\u014bu[0]PN\",\"Lukala[0]PN\",\"Lusaga[0]PN\",\"Me\\u0161i\\u02bead[0]PN\",\"\\u0160u\\u0161ug[0]PN\",\"Na.an.na[0]PN\",\"Nabasag[0]PN\",\"Namhani[0]PN\",\"Enni\\u0161Agum[0]PN\",\"Ninni\\u014bar[0]DN\",\"Naramili[0]PN\",\"X.mah[00]PN\",\"Nig\\u2082.x[00]PN\",\"Nihelu[0]PN\",\"Nimgirinimgina[0]PN\",\"Ninegalak[1]DN\",\"Ningal[1]DN\",\"UrNingalak[0]PN\",\"ME.E\\u2082.a[0]PN\",\"Ri.x[00]PN\",\"\\u0160atsuen[0]PN\",\"Ninlilemana\\u014b[0]PN\",\"Mulliltumnuri[0]PN\",\"Ninurtak[1]DN\",\"Inimanizi[0]PN\",\"Nin\\u0161ubur[1]DN\",\"Lu\\u02beAmarSu\\u02beenak[0]PN\",\"Ni\\u014birinimgina[0]PN\",\"A.ki[00]PN\",\"Ginuna[0]PN\",\"Zariq[0]PN\",\"\\u0160ama\\u0161tillati[0]PN\",\"Nur\\u0160ama\\u0161[0]PN\",\"Papan\\u0161en[0]PN\",\"Masagsag[0]PN\",\"A.har.a[00]PN\",\"Anumilum[0]PN\",\"Hendursa\\u014bak[1]DN\",\"Hu.un.x[00]PN\",\"KugUtu[0]PN\",\"Nalu[0]PN\",\"Ululal[0]PN\",\"Watarum[0]PN\",\"\\u0160ulginuri[0]PN\",\"PuzurSud[0]PN\",\"UrA\\u0161arak[0]PN\",\"UrKugnunak[0]PN\",\"Quradili[0]PN\",\"Rabi\\u02beah[0]PN\",\"Ba\\u02beu[0]DN\",\"Nin\\u014birsuk[1]DN\",\"AtuMamak[0]PN\",\"Urnan\\u0161e[0]PN\",\"Libur\\u0160ulgi[0]PN\",\"LugalUrimeki\\u02bea\\u014ba[0]PN\",\"Hun\\u0160ulgi[0]PN\",\"Ta\\u2082.di\\u2083.in.inanna[00]PN\",\"Uba[0]PN\",\"Urmes[0]PN\",\"Ubarum[0]PN\",\"Ulu\\u2083.lal\\u2083[00]PN\",\"UrNingublagakak[0]PN\",\"Urenlila[0]PN\",\"Uri\\u0161kur[0]PN\",\"Taburha\\u1e6d\\u1e6dum[0]PN\",\"Urni\\u014bar[0]PN\",\"Ursaga[0]PN\",\"Luenki[0]PN\",\"Ur\\u0161ulpaeak[0]PN\",\"Gudea[0]PN\",\"\\u0160uMama[0]PN\",\"Matili[0]PN\",\"Taribu[0]PN\",\"Amabarag[0]PN\",\"\\u0160alimni\\u02bea\\u0161[0]PN\",\"\\u0160ennam[0]PN\",\"\\u0160arakam[0]PN\",\"\\u0160arrumili[0]PN\",\"LugalAnabtum[0]PN\",\"\\u0160ebba[0]PN\",\"\\u0160uSu\\u02beenili[0]PN\",\"\\u0160ubram[0]PN\",\"\\u0160ulgimati[0]PN\",\"\\u0160ulgimi\\u0161ar[0]PN\",\"\\u0160ulgir[1]RN\",\"\\u0160ulgiradda\\u014bu[0]PN\",\"Ursuen[0]PN\",\"\\u0160unundu[0]PN\",\"Nuska[1]DN\",\"\\u0160uSu\\u02beenlilabbirha\\u1e6d\\u1e6dam[0]PN\",\"Anati[0]PN\",\"Ih.ta.na.sa\\u2083.su\\u2082.nu.ut[00]PN\",\"\\u0160ulgirili[0]PN\",\"\\u0160ulgi\\u02beabi[0]PN\"],\"node_size\":[3,27,3,9,45,3,6,3,3,6,3,6,18,18,6,9,6,135,15,3,24,3,3,9,228,3,60,18,96,15,102,3,66,30,39,9,6,39,6,18,6,3,6,3,6,3,6,3,45,6,3,9,15,3,6,9,6,78,3,3,3,3,12,3,18,9,3,6,3,3,6,3,6,6,30,18,3,6,9,6,15,3,3,3,3,3,6,12,12,6,12,18,3,9,3,3,3,3,3,6,6,18,3,6,3,3,3,15,6,3,3,3,3,3,3,6,27,21,3,12,3,15,12,3,3,3,3,3,15,3,6,15,6,9,9,18,6,6,6,18,3,9,30,12,3,6,3,9,12,6,3,9,3,3,15,9,3,6,3,3,6,3,15,3,6,6,3,3,27,27,27,9,6,3,6,3,3,3,12,6,15,3,3,9,3,3,12,9,3,3,3,3,3,3,3,3,3,6,3,6,3,9,9,15,3,3,3,6,9,3,3,6,9,27,15,9,9,39,9,18,18,6,3,6,6,3,3,3,3,3,3,3,3,3,6,3,3,9,3,3,6,3,3,3,6,6,3,6,6,3,9,6,6,6,6,3,3,3,3,3,9,3,18,6,3,3,3,3,3,3,3,3,9,3,3,9,3,3,3,3,3,3,3,3,3,9,6,3,6,9,6,3,3,3,6,6,6,3,3,3,3,3,6,3,6,6,3,6,6,3,3,3,3,6,3,3,3,3,3,3,3,3,3,3]},\"selected\":{\"id\":\"1755\",\"type\":\"Selection\"},\"selection_policy\":{\"id\":\"1754\",\"type\":\"UnionRenderers\"}},\"id\":\"1691\",\"type\":\"ColumnDataSource\"},{\"attributes\":{\"callback\":null,\"title\":\"Start => End Values:\"},\"id\":\"1734\",\"type\":\"TextInput\"},{\"attributes\":{\"active_drag\":\"auto\",\"active_inspect\":\"auto\",\"active_multi\":null,\"active_scroll\":\"auto\",\"active_tap\":\"auto\",\"tools\":[{\"id\":\"1675\",\"type\":\"HoverTool\"},{\"id\":\"1676\",\"type\":\"TapTool\"},{\"id\":\"1677\",\"type\":\"BoxSelectTool\"},{\"id\":\"1678\",\"type\":\"ResetTool\"},{\"id\":\"1679\",\"type\":\"BoxZoomTool\"},{\"id\":\"1680\",\"type\":\"SaveTool\"}]},\"id\":\"1681\",\"type\":\"Toolbar\"},{\"attributes\":{\"bottom_units\":\"screen\",\"fill_alpha\":{\"value\":0.5},\"fill_color\":{\"value\":\"lightgrey\"},\"left_units\":\"screen\",\"level\":\"overlay\",\"line_alpha\":{\"value\":1.0},\"line_color\":{\"value\":\"black\"},\"line_dash\":[4,4],\"line_width\":{\"value\":2},\"render_mode\":\"css\",\"right_units\":\"screen\",\"top_units\":\"screen\"},\"id\":\"1753\",\"type\":\"BoxAnnotation\"},{\"attributes\":{\"data_source\":{\"id\":\"1691\",\"type\":\"ColumnDataSource\"},\"glyph\":{\"id\":\"1699\",\"type\":\"Circle\"},\"hover_glyph\":{\"id\":\"1709\",\"type\":\"Circle\"},\"muted_glyph\":null,\"selection_glyph\":{\"id\":\"1704\",\"type\":\"Circle\"},\"view\":{\"id\":\"1693\",\"type\":\"CDSView\"}},\"id\":\"1692\",\"type\":\"GlyphRenderer\"},{\"attributes\":{\"edge_renderer\":{\"id\":\"1696\",\"type\":\"GlyphRenderer\"},\"inspection_policy\":{\"id\":\"1731\",\"type\":\"EdgesAndLinkedNodes\"},\"layout_provider\":{\"id\":\"1698\",\"type\":\"StaticLayoutProvider\"},\"node_renderer\":{\"id\":\"1692\",\"type\":\"GlyphRenderer\"},\"selection_policy\":{\"id\":\"1729\",\"type\":\"NodesAndLinkedEdges\"}},\"id\":\"1689\",\"type\":\"GraphRenderer\"},{\"attributes\":{\"fill_color\":{\"value\":\"#abdda4\"},\"size\":{\"field\":\"node_size\",\"units\":\"screen\"}},\"id\":\"1709\",\"type\":\"Circle\"},{\"attributes\":{\"graph_layout\":{\"A.da.gal.\\u0161um[00]PN\":[0.9999999997133049,3.411828843648768e-11],\"A.da[00]PN\":[-4.3854735781673135e-08,0.9999999998907707],\"A.ga.num\\u2082[00]PN\":[0.9992479679102816,0.03877537327880599],\"A.har.a[00]PN\":[0.4138109085917368,-0.910362839534175],\"A.hu.wa.qar[00]PN\":[-0.8354877829787521,-0.549509048349025],\"A.ki[00]PN\":[0.2868033347669407,-0.9579894540979654],\"A.na[00]PN\":[-0.8936326503906137,0.44879916307288764],\"A.tal\\u2082.mar.tu[00]PN\":[0.4313860235546563,0.9021674393655491],\"A.x[00]PN\":[-0.5656069517758312,0.824674963867014],\"Abba[0]PN\":[0.9633708593415109,0.2681726217226661],\"Abisimti[0]PN\":[0.9969929453848175,0.07749242337858932],\"Abumba\\u0161ti[0]PN\":[0.9773338434245924,0.21170386672397065],\"Abuni[0]PN\":[0.9683899876633928,0.24944114684894744],\"AbuniramAni[0]PN\":[0.9396926161846573,0.34202012418209676],\"Abu\\u1e6dab[0]PN\":[0.9579895135933809,0.2868032455374393],\"Adadillat[0]PN\":[0.9021674391880833,0.4313860833367668],\"Adalal[0]PN\":[0.4138107297778025,0.910362958811701],\"Agu[0]PN\":[0.8847618100325584,0.4660435318619959],\"Ahan\\u0161ibu[0]PN\":[0.8660253879733241,0.4999999999624445],\"Ahbabu[0]PN\":[-0.5814920664433539,0.813552081502428],\"Ahi\\u02beilum[0]PN\":[0.8246749636895482,0.5656068920619571],\"Ahuni[0]PN\":[0.8021231887141432,0.5971585511646426],\"Ahu\\u0161uni[0]PN\":[0.7002173659748449,0.7139297127041476],\"Alid[0]PN\":[0.6862416264977833,0.7273736595405993],\"Alla[0]PN\":[0.6720078585135261,0.7405440210575712],\"Allatum[0]DN\":[-0.9103629589209303,-0.4138107596893541],\"Alla\\u0161arrum[0]PN\":[0.4660435018822078,0.8847618102100242],\"Am.ni.ni[00]PN\":[0.6427876350908959,0.7660444378095921],\"Amabarag[0]PN\":[0.9182161090008463,-0.3960798083826917],\"Amaknum[0]PN\":[0.3960797188664953,0.9182161091783121],\"Amarsuenak[1]RN\":[0.3781998751572053,0.9257239698377888],\"AmurEa[0]PN\":[0.6126005647255027,0.7903926967782698],\"Amurili[0]PN\":[0.790392696600804,0.6126005052983238],\"Anatal[0]PN\":[-0.3420200646866812,-0.9396926758985313],\"Anati[0]PN\":[0.9969929453848175,-0.07749249781615869],\"Anebabdu[0]PN\":[0.5166993735046612,0.856166899115643],\"Anumilum[0]PN\":[0.4313861725662682,-0.9021673796926679],\"Anunitum[1]DN\":[0.49999996998265633,0.8660254477554347],\"Apila\\u0161a[0]PN\":[-0.5971585512738719,0.8021232484962538],\"Apili[0]PN\":[0.7783648965193677,0.6278120874799811],\"AradBa\\u02beuk[0]PN\":[-0.8246750235808881,-0.5656068919937206],\"AradNannak[0]PN\":[0.44879919269774426,0.8936326502813844],\"Aradnanna[0]PN\":[0.1160928903410332,0.9932383893837748],\"Arad\\u014bu[0]PN\":[0.019391350302004357,0.9998119472365313],\"Ariphuppi[0]PN\":[-0.0774924756418827,0.9969929455622834],\"Atarda[0]PN\":[-0.5166993737913563,0.856166899115643],\"AtuMamak[0]PN\":[0.6720080373274604,-0.7405438421754004],\"Atu[0]PN\":[-0.11609285337482522,0.9932383893837748],\"Aya\\u014bu[0]PN\":[-0.19271221768507388,0.9812552927859137],\"Ba.a.x[00]PN\":[-0.268172592029573,0.9633708595189767],\"Ba.x[00]PN\":[-0.8135520816116573,-0.5814920066612433],\"Babati[0]PN\":[0.3601776657538897,0.9328837393718272],\"Balala[0]PN\":[0.9983081814762427,0.058144830193076924],\"Batugrad[0]PN\":[-0.342020124291326,0.9396926163621231],\"Baza\\u014bu[0]PN\":[-0.8021232486054831,0.5971585511646426],\"Ba\\u02beu[0]DN\":[0.6427875158816063,-0.7660444973460003],\"Belikin[0]PN\":[-0.3601777554475519,0.9328836797671824],\"Beli\\u02beili[0]PN\":[-0.37819984564157794,0.9257239698377888],\"Budu[0]PN\":[-0.4138107002621751,0.910362958811701],\"Burmama[0]PN\":[-0.6126004458029083,0.7903927563829145],\"Bu\\u0161am[0]PN\":[-0.43138611324831844,0.9021673797609044],\"Bu\\u0161udu[0]PN\":[0.3420201538069534,0.9396926163621231],\"Bu\\u2083.u\\u2082.a[00]PN\":[-0.4487991631821169,0.8936326502813844],\"Dada[0]PN\":[-0.48311269290704123,0.8755581974069306],\"Damu[1]DN\":[0.9953027960778088,0.09681086989281072],\"Dari\\u0161matum[0]PN\":[0.7660444376321263,0.6427875756637169],\"Dayya[0]PN\":[0.3237338958273206,0.9461481570182412],\"Dayyanummi\\u0161ar[0]PN\":[0.8561668989381772,0.516699373682127],\"Da\\u0161ug[0]PN\":[0.09681089951766732,0.9953027962552746],\"Dingir.ba.ni[00]PN\":[-0.7660444379188214,0.6427876352683617],\"Dinikun[0]PN\":[-0.9103628993162856,0.4138108193622354],\"E.du.du.a[00]PN\":[-0.7783648968060628,0.6278122066892706],\"Ea\\u02beili[0]PN\":[0.7534359094967267,0.6575213670129233],\"Edudu\\u02bea[0]PN\":[-0.4660434723665804,0.8847618102100242],\"En.u\\u2082[00]PN\":[-0.8021231293961936,-0.5971586703056956],\"Endingir\\u014bu[0]PN\":[-0.8354877233741074,0.5495090484172616],\"Enkik[1]DN\":[0.30532598476771877,0.9522478579451013],\"Enlil[1]DN\":[-0.8561668992248723,0.516699373682127],\"Ennam\\u0161ita\\u0160ulgirakebagub[0]PN\":[0.2868032751622959,0.9579895137708467],\"Enni\\u0161Agum[0]PN\":[-0.09681104881597424,-0.9953027961870381],\"Ennumili[0]PN\":[-0.8755581975161599,0.483112692797812],\"Erbeli[0]PN\":[-0.8847618103192535,0.46604344245502877],\"Errabani[0]PN\":[-0.7903926372828544,-0.612600564834732],\"E\\u0161tarnada[0]PN\":[-0.9461482167321152,0.32373383640014164],\"E\\u2082.a.dingir[00]PN\":[-0.9021673798701337,0.4313860833367668],\"GA.na.na.tum[0]PN\":[-0.9396926164713524,0.34202021358906387],\"Gabidanum[0]PN\":[-0.9522479176589753,0.30532595514286215],\"Galzudabulsin[0]PN\":[-0.957989513880076,0.2868032455374393],\"GemeEnlilak[0]PN\":[-0.9953027963645039,0.09681097420093907],\"Gemenannak[0]PN\":[0.9932383296016642,0.11609291287024079],\"Ginuna[0]PN\":[0.3053260443723635,-0.9522478578768647],\"Gudea[0]PN\":[0.8847618696372032,-0.46604338278214746],\"Gula[1]DN\":[-0.7783648968060628,-0.6278121470163893],\"Gunura[1]DN\":[0.9908003804214107,0.13533130289595974],\"Ha.ma.ma[00]PN\":[-0.9730448722877995,0.23061582446204335],\"Haburitum[0]DN\":[-0.8660253882600192,-0.49999999989420796],\"Ha\\u0161ipatal[0]PN\":[-0.981255292895143,0.192712321883973],\"Hendursa\\u014bak[1]DN\":[0.44879925230238904,-0.8936325906085031],\"HidutAmarSu\\u02been[0]PN\":[0.26817262154520033,0.9633708595189767],\"Hu.un.ha.ab.UR[0]PN\":[-0.9848077297232471,0.17364829779593888],\"Hu.un.x[00]PN\":[0.4660435316845301,-0.8847618101417877],\"Huba[0]PN\":[0.8459864256119998,0.5332044362598698],\"Hun\\u0160ulgi[0]PN\":[0.7273736593631335,-0.6862416266070126],\"Hupamersini[0]PN\":[0.24944119137496523,0.9683899282362138],\"I.du.du.a[00]PN\":[-0.9908003807081058,0.13533128799479854],\"I.tu.tu[00]PN\":[-0.8459864855033397,0.533204376655225],\"Iabti[0]PN\":[-0.9932383298883594,0.11609296502430495],\"IbbiSu\\u02beenmi\\u0161ar[0]RN\":[0.5814920661566588,0.813552081502428],\"Idabeli[0]PN\":[-0.01939131892373183,0.9998119472365313],\"Igirumah[0]PN\":[-0.9969929456715126,0.07749234142220277],\"Ih.ta.na.sa\\u2083.su\\u2082.nu.ut[00]PN\":[0.9983081218715979,-0.058144960510000766],\"Ilabu\\u02beigadu[0]PN\":[-0.963370859628206,0.26817268132731087],\"Ilak\\u0161uqir[0]PN\":[-0.9983081817629378,0.05814480784133513],\"Ilallum[0]PN\":[-0.6278122067984999,0.7783648370921887],\"Ili\\u1e63illi[0]PN\":[-0.9773338437112875,0.21170388162513185],\"Illa\\u02bei[0]PN\":[-0.9998119473457606,-0.019391361587104465],\"Il\\u0161urabi[0]PN\":[-0.9992479681969767,-0.038775343408247016],\"Im.da.a\\u2082[00]PN\":[0.23061585408689994,0.9730448721785702],\"Im.x[00]PN\":[-0.9969929456715126,-0.07749252016790048],\"In.zu.a[00]PN\":[-0.9953027963645039,-0.09681091452805772],\"Inanak[1]DN\":[-0.13533130300518895,0.9908003805988765],\"Inimanizi[0]PN\":[0.21170373243605412,-0.9773339031384665],\"Irihilum[0]PN\":[-0.323733925916338,-0.9461481569500046],\"Itutu\\u02bea[0]PN\":[-0.9908004403127506,-0.13533122832191719],\"I\\u1e6dib\\u0161inat[0]PN\":[-0.9182161688921862,0.39607968924163867],\"KA-X[0]PN\":[-0.9328837394810565,-0.36017769566544133],\"KAL.LA.ma.AD[0]PN\":[-0.963370859628206,-0.26817262165442957],\"KAL.bi.si[0]PN\":[0.9522478577676354,0.3053260147475069],\"Ka.ku\\u2083[00]PN\":[-0.7660444975234662,-0.6427875755954804],\"Ke\\u0161[0]PN\":[-0.957989513880076,-0.286803185864558],\"Kinamu\\u0161a[0]PN\":[-0.5332043767644543,0.8459864257894656],\"KinatNunu[0]PN\":[-0.9461481571274705,-0.3237340151458394],\"KinatU\\u02beu[0]PN\":[0.9328836795897166,0.36017772553600025],\"Kisura[0]PN\":[-0.8135520816116573,0.5814920663341246],\"Kubatum[0]PN\":[0.925723969660323,0.3781998455323487],\"KugUtu[0]PN\":[0.48311257341105673,-0.8755582569433389],\"Kurbilak[0]PN\":[0.21170391124998844,0.9773338436020582],\"Kur\\u014birini[0]PN\":[-0.642787635377591,0.7660444378095921],\"LU\\u2082.X[0]PN\":[-0.9182160496828966,-0.3960798381850141],\"Lala[0]PN\":[-0.5495088697125565,0.8354879020788123],\"Lammar[0]PN\":[0.7405440208801054,0.6720078586909919],\"La\\u02beili\\u0161[0]PN\":[-0.8847617507146087,-0.4660435913984041],\"Li.lu.dan[00]PN\":[0.5656068322798465,0.8246750234716588],\"Libur\\u0160ulgi[0]PN\":[0.7002174255794896,-0.7139296530312663],\"Lisin[0]PN\":[0.9998119470590655,0.019391331853018657],\"LuNan\\u0161e[0]PN\":[-0.856166958829517,-0.5166993140092458],\"Lubalasagak[0]PN\":[-0.6575213671221526,0.7534359096741925],\"Lubanda[0]PN\":[-0.8459863662940501,-0.533204495796278],\"Ludi\\u014birak[0]PN\":[0.8936326501039186,0.44879919287521003],\"Luenki[0]PN\":[0.8660253283686793,-0.5000001787081423],\"LugalAnabtum[0]PN\":[0.9522479173722802,-0.30532586566765846],\"LugalUrimeki\\u02bea\\u014ba[0]PN\":[0.7139297721313265,-0.7002173064794294],\"Lugalinimgina[0]PN\":[-0.6720077991955764,0.740544080662216],\"Lugalituda[0]PN\":[-0.30532601485673616,-0.9522478578768647],\"Lugalkugzu[0]PN\":[0.8135520813249622,0.5814920663341246],\"Lugalmagure[0]PN\":[-0.7534359693880666,-0.657521307340042],\"Lugalmunizi[0]PN\":[-0.9983081817629378,-0.05814474444316348],\"Lugaltida[0]PN\":[-0.2681727410411849,-0.9633708594507402],\"Lugal\\u014bu[0]PN\":[-0.24944134067327214,-0.9683899281679773],\"Lugal\\u0161utur[0]PN\":[0.4831126330157015,0.8755581974069306],\"Lugula[0]PN\":[0.549508988635151,0.8354878424741676],\"Lukala[0]PN\":[-0.23061566065849945,-0.9730449317149784],\"Luka\\u0161\\u014bu[0]PN\":[-0.6862416863891232,0.7273735999359545],\"Lunanna[0]PN\":[0.5971586105918215,0.802123188891609],\"Lusaga[0]PN\":[-0.21170371782158795,-0.9773339031384665],\"Lu\\u02beAmarSu\\u02beenak[0]PN\":[0.24944137018889953,-0.9683899281679773],\"ME.E\\u2082.a[0]PN\":[0.09681107088102102,-0.9953027961870381],\"ME.I\\u0161taran[0]PN\":[0.7273736593631335,0.6862416266752491],\"Ma.lu.um[00]PN\":[-0.39607980856015745,0.9182161091783121],\"Marad[1]DN\":[-0.3053259552520914,0.952247917549746],\"Masagsag[0]PN\":[0.3960795698548834,-0.9182161687147203],\"Matili[0]PN\":[0.9021674391880833,-0.4313860236638855],\"Meslamta\\u02bee\\u02bea[0]DN\":[-0.1545187385102128,0.9879898427841854],\"Me\\u0161i\\u02bead[0]PN\":[-0.1927121580804291,-0.981255352322322],\"Mulliltumnuri[0]PN\":[0.17364814860686117,-0.9848077295457813],\"Na.an.na[0]PN\":[-0.15451879811485758,-0.9879898427159489],\"Na.x.x[00]PN\":[-0.7405439615621557,-0.6720079182274001],\"Nabasag[0]PN\":[-0.1353313626098337,-0.99080038053064],\"Nalu[0]PN\":[0.49999991037801156,-0.8660254476871981],\"Namhani[0]PN\":[-0.11609303963934012,-0.9932383297108935],\"Nanna[1]DN\":[-0.70021736626154,0.7139297127041476],\"Nannakam[0]PN\":[-0.7273736596498286,-0.6862416266070126],\"Nannapalil[0]PN\":[-0.7139297724180216,-0.7002173064794294],\"Naramili[0]PN\":[-0.05814464776308153,-0.998308181585472],\"Nawar\\u0161en[0]PN\":[0.07749238594822054,0.9969929455622834],\"Nawirili[0]PN\":[-0.7002174258661847,-0.7139296530312663],\"Ni.za[00]PN\":[0.19271224720070126,0.9812552927859137],\"Nig\\u2082.x[00]PN\":[-0.01939126304437736,-0.9998119471682948],\"Nihelu[0]PN\":[1.1781533135592527e-08,-0.9999999998225342],\"Nimgirinimgina[0]PN\":[0.019391286972069294,-0.9998119471682948],\"Ninegalak[1]DN\":[0.03877526879321185,-0.9992479680195109],\"Ninegalakesi[0]PN\":[-0.6862415671798336,-0.7273737190770075],\"Ningal[1]DN\":[0.05814466982812832,-0.998308181585472],\"Ningalenunak[0]PN\":[-0.6720078588002212,-0.7405440209893347],\"Ninhursa\\u014bak[1]DN\":[-0.9522479176589753,-0.30532589546998085],\"Ninisinak[0]PN\":[0.9879898426067196,0.15451879800562837],\"Ninkala[0]PN\":[-0.9730448722877995,-0.23061574988800082],\"Ninkilim[0]PN\":[-0.9021674394747784,-0.4313860534662079],\"Ninlil[1]DN\":[-0.17364819359703976,0.9848077296140179],\"Ninlilama\\u014bu[0]PN\":[-0.9879898428934147,-0.15451890224552012],\"Ninlilemana\\u014b[0]PN\":[0.15451882763048497,-0.9879898427159489],\"Ninni\\u014bar[0]DN\":[-0.077492654455817,-0.9969929454940468],\"Ninsumunak[1]DN\":[-0.6575213671221526,-0.7534358500013112],\"Nintinuga[1]DN\":[-0.6427875161683014,-0.7660445569506451],\"Ninurtak[1]DN\":[0.1927121875960565,-0.981255352322322],\"Nin\\u014birsuk[1]DN\":[0.6575212476261679,-0.7534360288152455],\"Nin\\u0161ubur[1]DN\":[0.23061567527296564,-0.9730449317149784],\"Nirida\\u014bal[0]PN\":[-0.7139297128133769,0.7002173661523107],\"Ni\\u014birinimgina[0]PN\":[0.26817277055681227,-0.9633708594507402],\"Nuhilum[0]PN\":[0.984807729436552,0.17364817858664935],\"NurAdad[0]PN\":[-0.6278120279845656,-0.7783649562332418],\"Nurili[0]PN\":[-0.9257239699470181,0.3781998157300263],\"Nurmati\\u0161u[0]PN\":[-0.9848077297232471,-0.17364822322189633],\"Nur\\u0160ama\\u0161[0]PN\":[0.36017760614924493,-0.9328837393035907],\"Nur\\u0161ulgi[0]PN\":[-0.03877542181680907,0.9992479680877474],\"Nuska[1]DN\":[0.993238389206309,-0.11609287554910122],\"Palilum[0]PN\":[-0.058144822851725536,0.9983081816537085],\"Papan\\u0161en[0]PN\":[0.378199696343271,-0.9257240293741971],\"Puzur-X[0]PN\":[-0.28680324564666854,0.9579895137708467],\"PuzurA\\u0161\\u0161ur[0]PN\":[0.058144852367352916,0.9983081816537085],\"PuzurErra[0]PN\":[0.9461481568407754,0.32373392580710875],\"PuzurE\\u0161tar[0]PN\":[0.9730448720011043,0.23061586916552693],\"PuzurSud[0]PN\":[0.5656070110937809,-0.8246749041941327],\"Puzurili[0]PN\":[-0.9932383298883594,-0.11609289790084301],\"Puzur\\u0160akan[0]PN\":[-0.6126005054075531,-0.7903926967100333],\"Puzuzu[0]PN\":[-0.5971586108785166,-0.8021231888233725],\"Quradili[0]PN\":[0.612600505120858,-0.7903926967100333],\"Qurdilum[0]PN\":[-0.5814921260479987,-0.8135520218295467],\"Rabi\\u02beah[0]PN\":[0.6278120873025153,-0.7783649562332418],\"Re\\u02beiSu\\u02been[0]PN\":[-0.565607011380476,-0.8246749041941327],\"Ri.x[00]PN\":[0.11609306170438691,-0.9932383297108935],\"Ribagada[0]PN\":[-0.5495091081311356,-0.8354877231966416],\"Rigmu\\u0161[0]PN\":[-0.981255292895143,-0.19271226221109167],\"Ri\\u1e63ili[0]PN\":[-0.5332042575551648,-0.8459865449305186],\"Simat\\u0161arrim[0]PN\":[-0.9992479681969767,0.038775406806418666],\"Suenabu\\u0161u[0]PN\":[-0.5166991949774221,-0.8561670182566959],\"Su\\u02beenal\\u0161u[0]PN\":[-0.49999991066470656,-0.8660254476871981],\"Su\\u02beenillat[0]PN\":[-0.9773338437112875,-0.2117038070510893],\"TAR[00]PN\":[-0.7273736000451838,0.6862416862798939],\"Taburha\\u1e6d\\u1e6dum[0]PN\":[0.835487782692057,-0.5495089887443803],\"TaddinE\\u0161tar[0]PN\":[0.9182161090008463,0.39607977864860583],\"Taddinkiza[0]PN\":[0.7139297125266818,0.7002173661523107],\"Tahi\\u0161atal[0]PN\":[-0.48311254389542935,-0.8755582569433389],\"Taribu[0]PN\":[0.9103629586342352,-0.4138107298870317],\"Ta\\u2082.di\\u2083.in.inanna[00]PN\":[0.7405439612754606,-0.6720079182274001],\"Turamdagan[0]PN\":[-0.9396926164713524,-0.3420201539161826],\"Uba[0]PN\":[0.7534358498920819,-0.6575214265493315],\"Ubarum[0]PN\":[0.7783647773100782,-0.6278122662256789],\"Ululal[0]PN\":[0.5166992542953718,-0.8561669586520512],\"Ulu\\u2083.lal\\u2083[00]PN\":[0.7903928158100935,-0.6126003860207977],\"Ur.gu.gub.ba[00]PN\":[-0.7405440807714453,0.6720077990863471],\"UrA\\u0161arak[0]PN\":[0.5814921257613036,-0.8135520218295467],\"UrBaba[0]PN\":[-0.8936326503906137,-0.44879910340000634],\"UrHendursa\\u014bak[0]PN\":[-0.9998119473457606,0.019391426847921254],\"UrKugnunak[0]PN\":[0.5971586105918215,-0.8021231888233725],\"UrNannak[0]PN\":[0.17364822311266712,0.9848077296140179],\"UrNingalak[0]PN\":[0.07749220713428624,-0.9969929454940468],\"UrNingublagakak[0]PN\":[0.8021233079234327,-0.5971584914917613],\"Urdamu[0]PN\":[-0.9683899879500879,0.2494410425408191],\"Ureninnuk[0]PN\":[-0.21170388173436105,0.9773338436020582],\"Urenlila[0]PN\":[0.8135521409296069,-0.5814920066612433],\"Urigalim[0]PN\":[-0.2868033052513133,-0.9579895137026102],\"Uri\\u0161kur[0]PN\":[0.824675023294193,-0.5656068323890758],\"Urmes[0]PN\":[0.7660443184228367,-0.6427877544094147],\"Urnan\\u0161e[0]PN\":[0.6862417457070729,-0.7273735402630732],\"Urni\\u014bar[0]PN\":[0.845986366007355,-0.533204495796278],\"Ursaga[0]PN\":[0.8561668393335324,-0.5166994928231801],\"Ursuen[0]PN\":[0.9879899022113644,-0.15451864892577988],\"Ur\\u0160uSu\\u02beenak[0]PN\":[-0.4660435319712251,-0.8847618101417877],\"Ur\\u0161ulpaeak[0]PN\":[0.8755583164387544,-0.48311239470635164],\"Utami\\u0161aram[0]PN\":[-0.44879922278676165,-0.8936325906085031],\"Utu\\u02beadgal[0]PN\":[-0.7903927564921438,0.612600445693679],\"Waqar\\u0160uSu\\u02been[0]PN\":[-0.4313861728529632,-0.9021673796926679],\"Watarum[0]PN\":[0.5332042572684697,-0.8459865449305186],\"X-ili[0]PN\":[-0.7534359097834218,0.6575213074082785],\"X.mah[00]PN\":[-0.03877524672816506,-0.9992479680195109],\"X.mu[00]PN\":[-0.4138108790761094,-0.9103628991388197],\"X[0]PN\":[0.533204436082404,0.8459864257894656],\"Zanum[0]PN\":[0.1545187680258402,0.9879898427841854],\"Zariq[0]PN\":[0.32373395543196537,-0.9461481569500046],\"Zeri[0]PN\":[0.03877533212314691,0.9992479680877474],\"Zizuh[0]PN\":[-0.09681087000203993,0.9953027962552746],\"Zuruh[0]PN\":[-0.3960799575717694,-0.918215989900786],\"lugal[king]N\":[0.835487782692057,0.5495089888126168],\"sukkalmah[official]N\":[-0.23061582457127255,0.9730448721785702],\"\\u014airine\\u02beisag[0]PN\":[-0.24944116185933785,0.9683899282362138],\"\\u0160agtakugzu[0]PN\":[-0.8755581975161599,-0.48311263312493075],\"\\u0160alimni\\u02bea\\u0161[0]PN\":[0.9257239100556782,-0.3781999646734017],\"\\u0160ama\\u0161tillati[0]PN\":[0.3420200942023086,-0.9396926162938866],\"\\u0160arakam[0]PN\":[0.9396925565800126,-0.3420203625324393],\"\\u0160arrumili[0]PN\":[0.9461482164454201,-0.32373377672726034],\"\\u0160atsuen[0]PN\":[0.13533139212546108,-0.99080038053064],\"\\u0160ebba[0]PN\":[0.9579895135933809,-0.2868031560622356],\"\\u0160ennam[0]PN\":[0.9328836199850719,-0.3601778744793756],\"\\u0160eteli[0]PN\":[0.9103629586342352,0.41381072995526824],\"\\u0160etelili[0]PN\":[-1.0,-8.738865827250753e-08],\"\\u0160e\\u0161kala[0]PN\":[-0.8660253882600192,0.5000000595670893],\"\\u0160uMama[0]PN\":[0.8936327097085633,-0.44879907359768395],\"\\u0160uSu\\u02beenili[0]PN\":[0.9633708593415109,-0.26817259185210723],\"\\u0160uSu\\u02beenlilabbirha\\u1e6d\\u1e6dam[0]PN\":[0.9953027960778088,-0.09681088472573533],\"\\u0160uSu\\u02beenmigirE\\u0161tar[0]PN\":[-0.5000000596763186,0.8660253881507899],\"\\u0160uSu\\u02beennaramEnlil[0]PN\":[-0.3781996668276436,-0.9257240293741971],\"\\u0160ubram[0]PN\":[0.968389928058748,-0.24944117658303325],\"\\u0160uenlil[0]PN\":[-0.8246749639762433,0.5656069516666019],\"\\u0160ulgimati[0]PN\":[0.9730448720011043,-0.2306159585042575],\"\\u0160ulgimi\\u0161ar[0]PN\":[0.9773338434245924,-0.21170401566734598],\"\\u0160ulginuri[0]PN\":[0.5495091674490853,-0.8354877231966416],\"\\u0160ulgir[1]RN\":[0.9812552926084479,-0.19271247082734833],\"\\u0160ulgiradda\\u014bu[0]PN\":[0.9848077890411968,-0.17364796990215609],\"\\u0160ulgirama[0]PN\":[-0.36017760643593993,-0.9328837393035907],\"\\u0160ulgirgalzu[0]PN\":[0.6575213668354575,0.7534359096741925],\"\\u0160ulgirili[0]PN\":[0.9992479679102816,-0.0387755594750843],\"\\u0160ulgirkalamametebi[0]PN\":[-0.9328836798764117,0.36017775533832264],\"\\u0160ulgisimti[0]PN\":[-0.9683899283454431,-0.24944120638535563],\"\\u0160ulgi\\u02beabi[0]PN\":[0.9998119470590655,-0.01939110081678361],\"\\u0160umah[1]DN\":[0.9812552926084479,0.19271226227932825],\"\\u0160unin\\u0161ubur[0]PN\":[-0.32373398552098276,0.9461481570182412],\"\\u0160unundu[0]PN\":[0.9908004400260555,-0.1353311985195948],\"\\u0160uru\\u0161kin[0]PN\":[0.62781214690716,0.7783648966968335],\"\\u0160u\\u0161ug[0]PN\":[-0.17364813399239498,-0.9848077891504261],\"\\u0160u\\u0161ulgir[0]PN\":[0.1353313325208163,0.9908003805988765],\"\\u0160u\\u02beEa[0]PN\":[-0.9257240295516629,-0.378199756057145],\"\\u0160u\\u02beE\\u0161tar[0]PN\":[0.8755581972294648,0.4831126033908449],\"\\u1e62illu\\u0161Dagan[0]PN\":[-0.9879898428934147,0.1545187234998224]}},\"id\":\"1698\",\"type\":\"StaticLayoutProvider\"},{\"attributes\":{\"source\":{\"id\":\"1691\",\"type\":\"ColumnDataSource\"}},\"id\":\"1693\",\"type\":\"CDSView\"},{\"attributes\":{},\"id\":\"1755\",\"type\":\"Selection\"},{\"attributes\":{\"fill_color\":{\"value\":\"#2b83ba\"},\"size\":{\"field\":\"node_size\",\"units\":\"screen\"}},\"id\":\"1699\",\"type\":\"Circle\"},{\"attributes\":{\"overlay\":{\"id\":\"1753\",\"type\":\"BoxAnnotation\"}},\"id\":\"1679\",\"type\":\"BoxZoomTool\"},{\"attributes\":{\"callback\":null,\"title\":\"Text IDs:\"},\"id\":\"1733\",\"type\":\"TextInput\"},{\"attributes\":{\"bottom_units\":\"screen\",\"fill_alpha\":{\"value\":0.5},\"fill_color\":{\"value\":\"lightgrey\"},\"left_units\":\"screen\",\"level\":\"overlay\",\"line_alpha\":{\"value\":1.0},\"line_color\":{\"value\":\"black\"},\"line_dash\":[4,4],\"line_width\":{\"value\":2},\"render_mode\":\"css\",\"right_units\":\"screen\",\"top_units\":\"screen\"},\"id\":\"1752\",\"type\":\"BoxAnnotation\"},{\"attributes\":{\"source\":{\"id\":\"1695\",\"type\":\"ColumnDataSource\"}},\"id\":\"1697\",\"type\":\"CDSView\"},{\"attributes\":{},\"id\":\"1756\",\"type\":\"UnionRenderers\"},{\"attributes\":{\"text\":\"Drehem Treasure Archive\"},\"id\":\"1674\",\"type\":\"Title\"},{\"attributes\":{\"callback\":null,\"end\":1.1,\"start\":-1.1},\"id\":\"1669\",\"type\":\"Range1d\"},{\"attributes\":{},\"id\":\"1757\",\"type\":\"Selection\"},{\"attributes\":{},\"id\":\"1680\",\"type\":\"SaveTool\"},{\"attributes\":{},\"id\":\"1729\",\"type\":\"NodesAndLinkedEdges\"},{\"attributes\":{\"args\":{\"esource\":{\"id\":\"1695\",\"type\":\"ColumnDataSource\"},\"info_start_end\":{\"id\":\"1734\",\"type\":\"TextInput\"},\"info_text_ids\":{\"id\":\"1733\",\"type\":\"TextInput\"}},\"code\":\"  start_end_values = []\\n            text_ids = []\\n            for(idx in esource.selected.indices)\\n            {\\n                index = esource.selected.indices[idx]\\n                start_end_values.push(esource.data['start'][index] + '=>' + esource.data['end'][index] ); \\n                text_ids.push(esource.data['id_text'][index]) \\n            }\\n            info_start_end.value = String(start_end_values);\\n            info_text_ids.value = String(text_ids);\"},\"id\":\"1739\",\"type\":\"CustomJS\"},{\"attributes\":{\"callback\":{\"id\":\"1739\",\"type\":\"CustomJS\"}},\"id\":\"1676\",\"type\":\"TapTool\"},{\"attributes\":{\"line_alpha\":{\"value\":0.8},\"line_color\":{\"value\":\"#CCCCCC\"},\"line_width\":{\"value\":5}},\"id\":\"1714\",\"type\":\"MultiLine\"},{\"attributes\":{\"args\":{\"info_text_ids\":{\"id\":\"1733\",\"type\":\"TextInput\"},\"url\":\"http://oracc.org/epsd2/admin/ur3/\"},\"code\":\" urlnew = url.concat(info_text_ids.value);\\n            window.open(urlnew)\"},\"id\":\"1759\",\"type\":\"CustomJS\"},{\"attributes\":{\"fill_color\":{\"value\":\"#fdae61\"},\"size\":{\"field\":\"node_size\",\"units\":\"screen\"}},\"id\":\"1704\",\"type\":\"Circle\"},{\"attributes\":{\"callback\":null,\"end\":1.1,\"start\":-1.1},\"id\":\"1670\",\"type\":\"Range1d\"},{\"attributes\":{\"plot_height\":900,\"plot_width\":900,\"renderers\":[{\"id\":\"1689\",\"type\":\"GraphRenderer\"}],\"title\":{\"id\":\"1674\",\"type\":\"Title\"},\"toolbar\":{\"id\":\"1681\",\"type\":\"Toolbar\"},\"x_range\":{\"id\":\"1669\",\"type\":\"Range1d\"},\"x_scale\":{\"id\":\"1743\",\"type\":\"LinearScale\"},\"y_range\":{\"id\":\"1670\",\"type\":\"Range1d\"},\"y_scale\":{\"id\":\"1741\",\"type\":\"LinearScale\"}},\"id\":\"1671\",\"type\":\"Plot\"},{\"attributes\":{\"line_color\":{\"value\":\"#abdda4\"},\"line_width\":{\"value\":5}},\"id\":\"1724\",\"type\":\"MultiLine\"},{\"attributes\":{},\"id\":\"1731\",\"type\":\"EdgesAndLinkedNodes\"},{\"attributes\":{\"line_color\":{\"value\":\"#fdae61\"},\"line_width\":{\"value\":5}},\"id\":\"1719\",\"type\":\"MultiLine\"},{\"attributes\":{\"callback\":null,\"tooltips\":[[\"Text ID\",\"@id_text\"],[\"start\",\"@start\"],[\"end\",\"@end\"]]},\"id\":\"1675\",\"type\":\"HoverTool\"},{\"attributes\":{\"callback\":null,\"overlay\":{\"id\":\"1752\",\"type\":\"BoxAnnotation\"}},\"id\":\"1677\",\"type\":\"BoxSelectTool\"}],\"root_ids\":[\"1760\"]},\"title\":\"Bokeh Application\",\"version\":\"1.4.0\"}};\n",
       "  var render_items = [{\"docid\":\"61499a98-dc05-4ed4-b582-8379a754bf82\",\"roots\":{\"1760\":\"985116b5-fe78-4b9e-9b65-c1cd2dc60384\"}}];\n",
       "  root.Bokeh.embed.embed_items_notebook(docs_json, render_items);\n",
       "\n",
       "  }\n",
       "  if (root.Bokeh !== undefined) {\n",
       "    embed_document(root);\n",
       "  } else {\n",
       "    var attempts = 0;\n",
       "    var timer = setInterval(function(root) {\n",
       "      if (root.Bokeh !== undefined) {\n",
       "        clearInterval(timer);\n",
       "        embed_document(root);\n",
       "      } else {\n",
       "        attempts++;\n",
       "        if (attempts > 100) {\n",
       "          clearInterval(timer);\n",
       "          console.log(\"Bokeh: ERROR: Unable to run BokehJS code because BokehJS library is missing\");\n",
       "        }\n",
       "      }\n",
       "    }, 10, root)\n",
       "  }\n",
       "})(window);"
      ],
      "application/vnd.bokehjs_exec.v0+json": ""
     },
     "metadata": {
      "application/vnd.bokehjs_exec.v0+json": {
       "id": "1760"
      }
     },
     "output_type": "display_data"
    }
   ],
   "source": [
    "plot = Plot(plot_width = 900, plot_height = 900,\n",
    "            x_range = Range1d(-1.1, 1.1), y_range = Range1d(-1.1, 1.1))\n",
    "plot.title.text = \"Drehem Treasure Archive\"\n",
    "\n",
    "plot.add_tools(HoverTool(tooltips = [('Text ID', '@id_text'), ('start', '@start'), ('end', '@end')]), \n",
    "               TapTool(), BoxSelectTool(), ResetTool(), BoxZoomTool(), SaveTool())\n",
    "\n",
    "graph_renderer = from_networkx(G, nx.circular_layout, scale = 1, center = (0, 0))\n",
    "\n",
    "graph_renderer.node_renderer.glyph = Circle(size = 'node_size', fill_color = Spectral4[0])\n",
    "graph_renderer.node_renderer.selection_glyph = Circle(size = 'node_size', fill_color = Spectral4[2])\n",
    "graph_renderer.node_renderer.hover_glyph = Circle(size = 'node_size', fill_color = Spectral4[1])\n",
    "\n",
    "graph_renderer.edge_renderer.glyph = MultiLine(line_color = \"#CCCCCC\", line_alpha = 0.8, line_width = 5)\n",
    "graph_renderer.edge_renderer.selection_glyph = MultiLine(line_color = Spectral4[2], line_width = 5)\n",
    "graph_renderer.edge_renderer.hover_glyph = MultiLine(line_color = Spectral4[1], line_width = 5)\n",
    "\n",
    "graph_renderer.selection_policy = NodesAndLinkedEdges()\n",
    "graph_renderer.inspection_policy = EdgesAndLinkedNodes()\n",
    "\n",
    "plot.renderers.append(graph_renderer)\n",
    "\n",
    "info_text_ids = TextInput(title = 'Text IDs:', value = '')\n",
    "info_start_end = TextInput(title = 'Start => End Values:', value = '')\n",
    "url = \"http://oracc.org/epsd2/admin/ur3/\"\n",
    "esource = graph_renderer.edge_renderer.data_source\n",
    "code = \"\"\"  start_end_values = []\n",
    "            text_ids = []\n",
    "            for(idx in esource.selected.indices)\n",
    "            {\n",
    "                index = esource.selected.indices[idx]\n",
    "                start_end_values.push(esource.data['start'][index] + '=>' + esource.data['end'][index] ); \n",
    "                text_ids.push(esource.data['id_text'][index]) \n",
    "            }\n",
    "            info_start_end.value = String(start_end_values);\n",
    "            info_text_ids.value = String(text_ids);\"\"\"\n",
    "code2 = \"\"\" urlnew = url.concat(info_text_ids.value);\n",
    "            window.open(urlnew)\"\"\"\n",
    "callback = CustomJS(args = dict(esource = esource, \n",
    "                                info_text_ids = info_text_ids, \n",
    "                                info_start_end = info_start_end), \n",
    "                    code = code)\n",
    "plot.select_one(TapTool).callback = callback\n",
    "button = Button(label=\"Click to open text editions\", button_type=\"success\")\n",
    "button.js_on_click(CustomJS(args = dict(url=url, info_text_ids=info_text_ids), \n",
    "                        code=code2))\n",
    "show(Column(plot, info_start_end, info_text_ids, button))"
   ]
  },
  {
   "cell_type": "code",
   "execution_count": null,
   "metadata": {},
   "outputs": [],
   "source": []
  }
 ],
 "metadata": {
  "kernelspec": {
   "display_name": "Python 3",
   "language": "python",
   "name": "python3"
  },
  "language_info": {
   "codemirror_mode": {
    "name": "ipython",
    "version": 3
   },
   "file_extension": ".py",
   "mimetype": "text/x-python",
   "name": "python",
   "nbconvert_exporter": "python",
   "pygments_lexer": "ipython3",
   "version": "3.7.6"
  }
 },
 "nbformat": 4,
 "nbformat_minor": 4
}
