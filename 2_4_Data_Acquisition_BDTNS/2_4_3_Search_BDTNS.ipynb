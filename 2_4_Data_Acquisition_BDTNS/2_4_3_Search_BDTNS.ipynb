{
 "cells": [
  {
   "cell_type": "markdown",
   "metadata": {},
   "source": [
    "# 2.4.3 Search BDTNS\n",
    "In order to run the code below, first run [2_4_1_Data_Acquisition_BDTNS.ipynb](./2_4_1_Data_Acquisition_BDTNS.ipynb) and [2_4_2_Build_Sign_Search.ipynb](./2_4_2_Build_Sign_Search.ipynb) in that order. These notebooks produce two files (`bdtns_tokenized.p` and `ogsl_dict.p`) that are used by the present code. You can re-run those notebooks to capture the latest data in [BDTNS](http://bdtns.filol.csic.es/) and [OGSL](http://oracc.org/ogsl).\n",
    "\n",
    "The search function is different from the search on the [BDTNS](http://bdtns.filol.csic.es/) web site in that it searches for a sequence of **signs** (within a single line) irrespective of reading."
   ]
  },
  {
   "cell_type": "code",
   "execution_count": 1,
   "metadata": {},
   "outputs": [
    {
     "data": {
      "application/vnd.jupyter.widget-view+json": {
       "model_id": "74badb74a7924fc3aa7a590e2a4019f1",
       "version_major": 2,
       "version_minor": 0
      },
      "text/plain": [
       "VBox(children=(HBox(children=(VBox(children=(Text(value=''), Checkbox(value=True, description='Display Links',…"
      ]
     },
     "metadata": {},
     "output_type": "display_data"
    }
   ],
   "source": [
    "%run py/Search_BDTNS.py\n",
    "disp"
   ]
  },
  {
   "cell_type": "markdown",
   "metadata": {},
   "source": [
    "# Search Instructions\n",
    "Search for a sequence of sign values in any transliteration system recognized by [OGSL](http://oracc.org/ogsl). Thus, sugal₇, sukkal, or luh, in upper or lower case will all return the same results.\n",
    "\n",
    "- Determinatives (semantic classifiers) may be entered between curly brackets or as regular signs. Thus, gesz taskarin, gesz-taskarin, {gesz}taskarin, and {ŋeš}tug₂ will all yield the same results. \n",
    "\n",
    "- Signs may be connected with spaces or hyphens.\n",
    "\n",
    "- The Shin may be represented by š, c, or sz in upper or lower case; nasal g may be represented as j, ŋ, or ĝ.\n",
    "\n",
    "- Sign index numbers may be represented by regular numbers or by index numbers (e₂ or e2, but not é).\n",
    "\n",
    "- Compound signs (such as diri) are resolved in their component signs if the compound represents a simple sequence of signs. Thus diri is resolved as SI A, but gu₇ is resolved as |KA×GAR|.\n",
    "\n",
    "- To search for a compound sign by sign name, enter it between pipes (|) and use the [OGSL](http://oracc.org/ogsl) operators ., &, %, etc. The \"times\" sign may be represented by \\* (enter |UR₂×A| or |UR₂\\*A|, but not |URxA|).\n",
    "\n",
    "- Wildcard: x or X, represents any number of signs in between (e.g. ku6-x-muszen will find all lines where HA is followed by HU with zero or more signs in between).\n",
    "\n",
    "- For large numbers of hits, the clickable links to [BDTNS](http://bdtns.filol.csic.es/) editions will make display very slow. Unclick the check box to display [BDTNS](http://bdtns.filol.csic.es/) numbers only, without links."
   ]
  },
  {
   "cell_type": "code",
   "execution_count": null,
   "metadata": {},
   "outputs": [],
   "source": []
  }
 ],
 "metadata": {
  "kernelspec": {
   "display_name": "Python 3",
   "language": "python",
   "name": "python3"
  },
  "language_info": {
   "codemirror_mode": {
    "name": "ipython",
    "version": 3
   },
   "file_extension": ".py",
   "mimetype": "text/x-python",
   "name": "python",
   "nbconvert_exporter": "python",
   "pygments_lexer": "ipython3",
   "version": "3.7.6"
  }
 },
 "nbformat": 4,
 "nbformat_minor": 4
}
