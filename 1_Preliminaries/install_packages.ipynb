{
 "cells": [
  {
   "cell_type": "markdown",
   "metadata": {},
   "source": [
    "# Installing Anaconda\n",
    "\n",
    "In order to install Anaconda go to http://anaconda.com and choose the DOWNLOAD tab. Make sure to download the version for Python 3.x. Installing Anaconda will also install Python 3, Jupyter Notebook, Jupyter Lab, numerous Python packages, and several other tools.\n",
    "\n",
    "# Installing Jupyter Widgets; Enabling Jupyter Extensions\n",
    "\n",
    "Jupyter Lab is an interface that opens in a web browser and that allows a user to see, edit, and run Jupyter Notebooks, Markdown documents, and other types of files. If you installed Python through Anaconda, you already have Jupyter Notebook and Jupyter Lab installed. If you have been working with Python, Jupyter Notebooks or Jupyter Lab for a while, please see below for potential compatability issues. \n",
    "\n",
    "In order to run the Notebooks in this repository in Jupyter Lab you need Jupyter Widgets. Jupyter Widgets (ipywidgets) are pieces of code in Java Script that create interactive User Interfaces such as slides, buttons, check marks, text boxes, and drop-down menus. Ipywidgets is also needed for creating pretty progress bars. For ipywidgets to run in Jupyter Lab you need a package called `node.js`. Please run the following lines to install the appropriate packages."
   ]
  },
  {
   "cell_type": "code",
   "execution_count": null,
   "metadata": {},
   "outputs": [],
   "source": [
    "%conda install nodejs\n",
    "%conda install ipywidgets"
   ]
  },
  {
   "cell_type": "markdown",
   "metadata": {},
   "source": [
    "Finally, in order to make the widgets available in Jupyter Lab one needs to enable Jupyter Lab [extension manager](https://jupyterlab.readthedocs.io/en/stable/user/extensions.html) and install the widgets extension. The easiest way to do so is to run the cell below. Alternatively, open the Anaconda Prompt (Windows) or the Terminal (OS X) and copy this line, while omitting the initial exclamation mark."
   ]
  },
  {
   "cell_type": "code",
   "execution_count": null,
   "metadata": {},
   "outputs": [],
   "source": [
    "!jupyter labextension install @jupyter-widgets/jupyterlab-manager"
   ]
  },
  {
   "cell_type": "markdown",
   "metadata": {},
   "source": [
    "You may need to close Jupyter Lab and open it again for the widgets extension to take effect. For more information about installing  and activating widgets see the overview [here](https://ipywidgets.readthedocs.io/en/latest/user_install.html)."
   ]
  },
  {
   "cell_type": "markdown",
   "metadata": {},
   "source": [
    "# Some Trouble Shooting\n",
    "\n",
    "If you just installed Anaconda and are new to working in Python or Jupyter, the above instructions should get you going. If you worked with Python, Jupyter Notebooks or Jupyter Lab before, you may need to update one or more of the components.\n",
    "\n",
    "If the `%conda` lines above do not work, this means that you have an older version of IPython (the Python version that runs in Jupyter Notebooks). Commands that begin with the percentage sign belong to the IPython `magic` functions, expanding on the functionality of standard IPython. In this notebook we will use `%conda` to call the package manager (alternatively, you may use `%pip` with the same syntax for packages not available in conda, or if conda takes too much time). The %conda and %pip functions were introduced in IPython version 7.3. To check the IPython version on your machine, open the terminal (Mac OS X) or the Anaconda Prompt (Windows) and type \n",
    "```bash\n",
    "ipython --version\n",
    "```\n",
    "If necessary, update Ipython with the following lines:"
   ]
  },
  {
   "cell_type": "code",
   "execution_count": null,
   "metadata": {},
   "outputs": [],
   "source": [
    "import sys\n",
    "!conda upgrade --yes --prefix {sys.prefix} ipython"
   ]
  },
  {
   "cell_type": "markdown",
   "metadata": {},
   "source": [
    "Other  issues may arise if you have (older) versions of Jupyter Notebook, Jupyter Lab or Jupyter Widgets that are not compatible with each other. Check for compatability by following the instructions [here](https://pypi.org/project/jupyterlab/). Recommended are Jupyter Lab version 1.0 or higher; Jupyter Notebook version 6.0 or higher and Jupyter Widgets version 7.5 or higher. These recommendations, however, may quickly become obsolete as new functionality is developed. To check the versions on your machine you may run the following lines."
   ]
  },
  {
   "cell_type": "code",
   "execution_count": null,
   "metadata": {},
   "outputs": [],
   "source": [
    "import ipywidgets\n",
    "!jupyter lab --version\n",
    "!jupyter notebook --version\n",
    "ipywidgets.__version__"
   ]
  },
  {
   "cell_type": "markdown",
   "metadata": {},
   "source": [
    "If you need to update any of these, refer to the section below (Installing and Updating Python Packages)."
   ]
  },
  {
   "cell_type": "markdown",
   "metadata": {},
   "source": [
    "# Installing and Updating Python Packages\n",
    "With Anaconda, you already have a treasure trove of important Python packages, including `Pandas` (for data manipulation), `bokeh` (interactive visualisations), `requests` (for communicating with web sites), `scikit-learn` (machine learning), etc.\n",
    "\n",
    "Inevitably, we will be using packages not included in the standard Anaconda distribution. Before they can be imported in a Python script such packages (or libraries) need to be installed. A package needs to be *imported* every time when a script is started. It needs to be *installed* only once (and updated subsequently, if necessary). An example of a package that will need to be installed is `pyldavis`, a visualization tool for topic modeling, which we will use in Chapter 5.\n",
    "\n",
    "Installing packages can be a rather frustrating experience. The issue is that a computer may have more than one instance of Python installed (this is not unusual). In order to use Python packages within a Jupyter Notebook, they need to be associated with the so-called Python *kernel* that runs in the background of the notebook. For a more technical description of the issue and a solution see the [article](https://jakevdp.github.io/blog/2017/12/05/installing-python-packages-from-jupyter/) by Jake VanderPlas in his [Pythonic Preambulations](https://jakevdp.github.io/) blog. \n",
    "\n",
    "Jake VanderPlas' solution has been implemented in two so-called IPython `magic` functions, namely `%conda` and `%pip`. In this notebook we will use the conda package manager."
   ]
  },
  {
   "cell_type": "markdown",
   "metadata": {},
   "source": [
    "# Installation Code\n",
    "\n",
    "The code for installing a package is\n",
    "```python\n",
    "%conda install [package name]\n",
    "```\n",
    "For upgrading a package to the latest version you may use\n",
    "```python\n",
    "%conda upgrade [package name]\n",
    "```\n",
    "With pip, upgrading is done as follows:\n",
    "```python\n",
    "%pip install [package name] --upgrade\n",
    "```\n",
    "\n",
    "Examples:\n",
    "```python\n",
    "%conda upgrade jupyterlab\n",
    "%conda install nodejs\n",
    "%conda install pyldavis\n",
    "%conda upgrade ipywidgets\n",
    "%pip install lexicalrichness --upgrade\n",
    "```\n",
    "\n",
    "Note that in some cases installing and upgrading may take a (very) long time and may result in the installation, removal, upgrading, or downgrading of a host of other packages. This is the case because conda will check for dependencies and for the compatibility of the newly installed software with other available packages. Under some circumstances conda may become entirely unusable. In such cases it may be advisable to install packages with pip."
   ]
  },
  {
   "cell_type": "code",
   "execution_count": 1,
   "metadata": {},
   "outputs": [
    {
     "name": "stderr",
     "output_type": "stream",
     "text": [
      "UsageError: Line magic function `%mamba` not found.\n"
     ]
    }
   ],
   "source": [
    "%mamba install -c conda-forge ipywidgets"
   ]
  },
  {
   "cell_type": "code",
   "execution_count": null,
   "metadata": {},
   "outputs": [],
   "source": []
  }
 ],
 "metadata": {
  "kernelspec": {
   "display_name": "Python 3",
   "language": "python",
   "name": "python3"
  },
  "language_info": {
   "codemirror_mode": {
    "name": "ipython",
    "version": 3
   },
   "file_extension": ".py",
   "mimetype": "text/x-python",
   "name": "python",
   "nbconvert_exporter": "python",
   "pygments_lexer": "ipython3",
   "version": "3.7.6"
  }
 },
 "nbformat": 4,
 "nbformat_minor": 4
}
